{
 "cells": [
  {
   "cell_type": "markdown",
   "metadata": {},
   "source": [
    "# Statistics on our datasets"
   ]
  },
  {
   "cell_type": "code",
   "execution_count": 2,
   "metadata": {},
   "outputs": [],
   "source": [
    "%matplotlib inline\n",
    "import matplotlib.pyplot as plt\n",
    "import count_num_frames_on_dataset as cnfd\n",
    "import numpy as np"
   ]
  },
  {
   "cell_type": "code",
   "execution_count": 3,
   "metadata": {},
   "outputs": [],
   "source": [
    "def get_frame_counts(dataset):\n",
    "    return np.array(list(cnfd.get_number_frames_from_dataset(dataset)))"
   ]
  },
  {
   "cell_type": "code",
   "execution_count": 4,
   "metadata": {},
   "outputs": [],
   "source": [
    "def frames_histogram(frame_counts):\n",
    "    plt.figure(figsize=(12, 6))\n",
    "    plt.hist(frames_counts)\n",
    "    plt.show()"
   ]
  },
  {
   "cell_type": "code",
   "execution_count": 5,
   "metadata": {},
   "outputs": [],
   "source": [
    "def print_percentiles(frame_counts, percentile_step=5):\n",
    "    \n",
    "    percentile = 0\n",
    "    while percentile <= 100:\n",
    "        print(100 - percentile, ' of videos have at least', int(np.percentile(frames_counts, percentile)), 'frames')\n",
    "        percentile += percentile_step        "
   ]
  },
  {
   "cell_type": "markdown",
   "metadata": {},
   "source": [
    "# UCF11"
   ]
  },
  {
   "cell_type": "code",
   "execution_count": 5,
   "metadata": {},
   "outputs": [
    {
     "name": "stderr",
     "output_type": "stream",
     "text": [
      "Counting...: 100%|██████████| 11/11 [00:07<00:00,  1.42it/s]\n"
     ]
    }
   ],
   "source": [
    "frames_counts = get_frame_counts('UCF11')"
   ]
  },
  {
   "cell_type": "code",
   "execution_count": 6,
   "metadata": {},
   "outputs": [
    {
     "name": "stdout",
     "output_type": "stream",
     "text": [
      "Num videos: 1600\n",
      "Min num frames: 1\n",
      "Max num frames: 899\n",
      "Mean num frames: 190.760625\n"
     ]
    }
   ],
   "source": [
    "print('Num videos:', len(frames_counts))\n",
    "print('Min num frames:', frames_counts.min())\n",
    "print('Max num frames:', frames_counts.max())\n",
    "print('Mean num frames:', frames_counts.mean())"
   ]
  },
  {
   "cell_type": "code",
   "execution_count": 7,
   "metadata": {},
   "outputs": [
    {
     "data": {
      "image/png": "[encoded data removed]",
      "text/plain": [
       "<matplotlib.figure.Figure at 0x7f4b7fee7978>"
      ]
     },
     "metadata": {},
     "output_type": "display_data"
    }
   ],
   "source": [
    "frames_histogram(frames_counts)"
   ]
  },
  {
   "cell_type": "code",
   "execution_count": 8,
   "metadata": {
    "scrolled": true
   },
   "outputs": [
    {
     "name": "stdout",
     "output_type": "stream",
     "text": [
      "100  of videos have at least 1 frames\n",
      "95  of videos have at least 83 frames\n",
      "90  of videos have at least 99 frames\n",
      "85  of videos have at least 108 frames\n",
      "80  of videos have at least 119 frames\n",
      "75  of videos have at least 131 frames\n",
      "70  of videos have at least 146 frames\n",
      "65  of videos have at least 151 frames\n",
      "60  of videos have at least 161 frames\n",
      "55  of videos have at least 176 frames\n",
      "50  of videos have at least 180 frames\n",
      "45  of videos have at least 195 frames\n",
      "40  of videos have at least 201 frames\n",
      "35  of videos have at least 213 frames\n",
      "30  of videos have at least 238 frames\n",
      "25  of videos have at least 239 frames\n",
      "20  of videos have at least 239 frames\n",
      "15  of videos have at least 240 frames\n",
      "10  of videos have at least 284 frames\n",
      "5  of videos have at least 330 frames\n",
      "0  of videos have at least 899 frames\n"
     ]
    }
   ],
   "source": [
    "print_percentiles(frames_counts)"
   ]
  },
  {
   "cell_type": "markdown",
   "metadata": {},
   "source": [
    "# UCF50"
   ]
  },
  {
   "cell_type": "code",
   "execution_count": 9,
   "metadata": {},
   "outputs": [
    {
     "name": "stderr",
     "output_type": "stream",
     "text": [
      "Counting...: 100%|██████████| 50/50 [00:28<00:00,  1.75it/s]\n"
     ]
    }
   ],
   "source": [
    "frames_counts = get_frame_counts('UCF50')"
   ]
  },
  {
   "cell_type": "code",
   "execution_count": 10,
   "metadata": {},
   "outputs": [
    {
     "name": "stdout",
     "output_type": "stream",
     "text": [
      "Num videos: 6681\n",
      "Min num frames: 29\n",
      "Max num frames: 900\n",
      "Mean num frames: 199.2120939979045\n"
     ]
    }
   ],
   "source": [
    "print('Num videos:', len(frames_counts))\n",
    "print('Min num frames:', frames_counts.min())\n",
    "print('Max num frames:', frames_counts.max())\n",
    "print('Mean num frames:', frames_counts.mean())"
   ]
  },
  {
   "cell_type": "code",
   "execution_count": 11,
   "metadata": {},
   "outputs": [
    {
     "data": {
      "image/png": "[encoded data removed]",
      "text/plain": [
       "<matplotlib.figure.Figure at 0x7f4bbea72f28>"
      ]
     },
     "metadata": {},
     "output_type": "display_data"
    }
   ],
   "source": [
    "frames_histogram(frames_counts)"
   ]
  },
  {
   "cell_type": "code",
   "execution_count": 12,
   "metadata": {},
   "outputs": [
    {
     "name": "stdout",
     "output_type": "stream",
     "text": [
      "100  of videos have at least 29 frames\n",
      "95  of videos have at least 78 frames\n",
      "90  of videos have at least 91 frames\n",
      "85  of videos have at least 101 frames\n",
      "80  of videos have at least 110 frames\n",
      "75  of videos have at least 122 frames\n",
      "70  of videos have at least 134 frames\n",
      "65  of videos have at least 150 frames\n",
      "60  of videos have at least 160 frames\n",
      "55  of videos have at least 170 frames\n",
      "50  of videos have at least 181 frames\n",
      "45  of videos have at least 198 frames\n",
      "40  of videos have at least 209 frames\n",
      "35  of videos have at least 230 frames\n",
      "30  of videos have at least 240 frames\n",
      "25  of videos have at least 250 frames\n",
      "20  of videos have at least 263 frames\n",
      "15  of videos have at least 300 frames\n",
      "10  of videos have at least 308 frames\n",
      "5  of videos have at least 377 frames\n",
      "0  of videos have at least 900 frames\n"
     ]
    }
   ],
   "source": [
    "print_percentiles(frames_counts)"
   ]
  },
  {
   "cell_type": "markdown",
   "metadata": {},
   "source": [
    "# UCF101"
   ]
  },
  {
   "cell_type": "code",
   "execution_count": 13,
   "metadata": {},
   "outputs": [
    {
     "name": "stderr",
     "output_type": "stream",
     "text": [
      "Counting...: 100%|██████████| 101/101 [00:17<00:00,  5.83it/s]\n"
     ]
    }
   ],
   "source": [
    "frames_counts = get_frame_counts('UCF101')"
   ]
  },
  {
   "cell_type": "code",
   "execution_count": 14,
   "metadata": {},
   "outputs": [
    {
     "name": "stdout",
     "output_type": "stream",
     "text": [
      "Num videos: 13320\n",
      "Min num frames: 29\n",
      "Max num frames: 1776\n",
      "Mean num frames: 186.50142642642643\n"
     ]
    }
   ],
   "source": [
    "print('Num videos:', len(frames_counts))\n",
    "print('Min num frames:', frames_counts.min())\n",
    "print('Max num frames:', frames_counts.max())\n",
    "print('Mean num frames:', frames_counts.mean())"
   ]
  },
  {
   "cell_type": "code",
   "execution_count": 15,
   "metadata": {},
   "outputs": [
    {
     "data": {
      "image/png": "[encoded data removed]",
      "text/plain": [
       "<matplotlib.figure.Figure at 0x7f4b7fee7518>"
      ]
     },
     "metadata": {},
     "output_type": "display_data"
    }
   ],
   "source": [
    "frames_histogram(frames_counts)"
   ]
  },
  {
   "cell_type": "code",
   "execution_count": 16,
   "metadata": {},
   "outputs": [
    {
     "name": "stdout",
     "output_type": "stream",
     "text": [
      "100  of videos have at least 29 frames\n",
      "95  of videos have at least 73 frames\n",
      "90  of videos have at least 85 frames\n",
      "85  of videos have at least 96 frames\n",
      "80  of videos have at least 104 frames\n",
      "75  of videos have at least 113 frames\n",
      "70  of videos have at least 123 frames\n",
      "65  of videos have at least 132 frames\n",
      "60  of videos have at least 143 frames\n",
      "55  of videos have at least 153 frames\n",
      "50  of videos have at least 167 frames\n",
      "45  of videos have at least 178 frames\n",
      "40  of videos have at least 193 frames\n",
      "35  of videos have at least 208 frames\n",
      "30  of videos have at least 229 frames\n",
      "25  of videos have at least 244 frames\n",
      "20  of videos have at least 252 frames\n",
      "15  of videos have at least 273 frames\n",
      "10  of videos have at least 300 frames\n",
      "5  of videos have at least 362 frames\n",
      "0  of videos have at least 1776 frames\n"
     ]
    }
   ],
   "source": [
    "print_percentiles(frames_counts)"
   ]
  },
  {
   "cell_type": "markdown",
   "metadata": {},
   "source": [
    "# HMDB51"
   ]
  },
  {
   "cell_type": "code",
   "execution_count": 6,
   "metadata": {},
   "outputs": [
    {
     "name": "stderr",
     "output_type": "stream",
     "text": [
      "Counting...: 100%|██████████| 51/51 [00:08<00:00,  6.37it/s]\n"
     ]
    }
   ],
   "source": [
    "frames_counts = get_frame_counts('HMDB51')"
   ]
  },
  {
   "cell_type": "code",
   "execution_count": 7,
   "metadata": {},
   "outputs": [
    {
     "name": "stdout",
     "output_type": "stream",
     "text": [
      "Num videos: 6766\n",
      "Min num frames: 19\n",
      "Max num frames: 1063\n",
      "Mean num frames: 94.48817617499262\n"
     ]
    }
   ],
   "source": [
    "print('Num videos:', len(frames_counts))\n",
    "print('Min num frames:', frames_counts.min())\n",
    "print('Max num frames:', frames_counts.max())\n",
    "print('Mean num frames:', frames_counts.mean())"
   ]
  },
  {
   "cell_type": "code",
   "execution_count": 8,
   "metadata": {},
   "outputs": [
    {
     "data": {
      "image/png": "[encoded data removed]",
      "text/plain": [
       "<matplotlib.figure.Figure at 0x7f46e9cdfda0>"
      ]
     },
     "metadata": {},
     "output_type": "display_data"
    }
   ],
   "source": [
    "frames_histogram(frames_counts)"
   ]
  },
  {
   "cell_type": "code",
   "execution_count": 9,
   "metadata": {},
   "outputs": [
    {
     "name": "stdout",
     "output_type": "stream",
     "text": [
      "100  of videos have at least 19 frames\n",
      "95  of videos have at least 39 frames\n",
      "90  of videos have at least 45 frames\n",
      "85  of videos have at least 49 frames\n",
      "80  of videos have at least 51 frames\n",
      "75  of videos have at least 55 frames\n",
      "70  of videos have at least 66 frames\n",
      "65  of videos have at least 75 frames\n",
      "60  of videos have at least 78 frames\n",
      "55  of videos have at least 79 frames\n",
      "50  of videos have at least 79 frames\n",
      "45  of videos have at least 80 frames\n",
      "40  of videos have at least 81 frames\n",
      "35  of videos have at least 83 frames\n",
      "30  of videos have at least 91 frames\n",
      "25  of videos have at least 102 frames\n",
      "20  of videos have at least 111 frames\n",
      "15  of videos have at least 129 frames\n",
      "10  of videos have at least 157 frames\n",
      "5  of videos have at least 222 frames\n",
      "0  of videos have at least 1063 frames\n"
     ]
    }
   ],
   "source": [
    "print_percentiles(frames_counts)"
   ]
  }
 ],
 "metadata": {
  "kernelspec": {
   "display_name": "Python 3",
   "language": "python",
   "name": "python3"
  },
  "language_info": {
   "codemirror_mode": {
    "name": "ipython",
    "version": 3
   },
   "file_extension": ".py",
   "mimetype": "text/x-python",
   "name": "python",
   "nbconvert_exporter": "python",
   "pygments_lexer": "ipython3",
   "version": "3.5.2"
  }
 },
 "nbformat": 4,
 "nbformat_minor": 2
}
