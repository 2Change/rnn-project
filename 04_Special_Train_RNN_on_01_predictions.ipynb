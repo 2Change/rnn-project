{
 "cells": [
  {
   "cell_type": "markdown",
   "metadata": {},
   "source": [
    "# Train on separate images (CNN-Only) on InceptionV3 output"
   ]
  },
  {
   "cell_type": "code",
   "execution_count": 1,
   "metadata": {},
   "outputs": [
    {
     "name": "stderr",
     "output_type": "stream",
     "text": [
      "/usr/local/lib/python3.5/dist-packages/h5py/__init__.py:36: FutureWarning: Conversion of the second argument of issubdtype from `float` to `np.floating` is deprecated. In future, it will be treated as `np.float64 == np.dtype(float).type`.\n",
      "  from ._conv import register_converters as _register_converters\n",
      "Using TensorFlow backend.\n"
     ]
    }
   ],
   "source": [
    "import numpy as np\n",
    "import os\n",
    "from os.path import join\n",
    "from keras import layers, callbacks, metrics\n",
    "from keras.models import Model\n",
    "from utils import preprocess_images_tf, take\n",
    "from tqdm import tqdm\n",
    "from image_generators import count_num_videos\n",
    "from inception_generators import load_whole_dataset"
   ]
  },
  {
   "cell_type": "code",
   "execution_count": 2,
   "metadata": {},
   "outputs": [],
   "source": [
    "from keras_utils import set_keras_session\n",
    "set_keras_session(0.45)"
   ]
  },
  {
   "cell_type": "code",
   "execution_count": 3,
   "metadata": {},
   "outputs": [],
   "source": [
    "dataset = 'UCF11'\n",
    "nb_classes = int(dataset[3:])"
   ]
  },
  {
   "cell_type": "code",
   "execution_count": 4,
   "metadata": {},
   "outputs": [],
   "source": [
    "frame_number = 50\n",
    "width = 320\n",
    "height = 240\n",
    "\n",
    "dataset_dir = join('datasets', dataset, ('separate_frames_{}_h_{}_w_{}_inception').format(frame_number, height, width))\n",
    "\n",
    "(X_train, Y_train), (X_valid, Y_valid) = list(load_whole_dataset(dataset_dir, 'cnn', ['train', 'valid']))\n",
    "(X_train_rnn, Y_train_rnn), (X_valid_rnn, Y_valid_rnn) = list(load_whole_dataset(dataset_dir, 'rnn', ['train', 'valid']))"
   ]
  },
  {
   "cell_type": "code",
   "execution_count": 5,
   "metadata": {},
   "outputs": [],
   "source": [
    "from np_utils import shuffle\n",
    "\n",
    "X_train_rnn, Y_train_rnn = shuffle([X_train_rnn, Y_train_rnn])\n",
    "X_train_samples = len(X_train_rnn)\n",
    "\n",
    "X_train_rnn_1, Y_train_rnn_1 = X_train_rnn[:X_train_samples // 2], Y_train_rnn[:X_train_samples // 2]\n",
    "X_train_rnn_2, Y_train_rnn_2 = X_train_rnn[X_train_samples // 2:], Y_train_rnn[X_train_samples // 2:]"
   ]
  },
  {
   "cell_type": "code",
   "execution_count": 43,
   "metadata": {},
   "outputs": [],
   "source": [
    "X_train_1 = np.concatenate([X_train_video for X_train_video in X_train_rnn_1])\n",
    "Y_train_1 = np.concatenate([np.tile(Y_train_video, [frame_number, 1]) for Y_train_video in Y_train_rnn_1])"
   ]
  },
  {
   "cell_type": "code",
   "execution_count": 9,
   "metadata": {},
   "outputs": [],
   "source": [
    "from functools import partial\n",
    "\n",
    "top_3_k_categorical_accuracy = partial(metrics.top_k_categorical_accuracy, k=3)\n",
    "top_3_k_categorical_accuracy.__name__ = 'top_3'"
   ]
  },
  {
   "cell_type": "raw",
   "metadata": {},
   "source": [
    "input_layer = layers.Input(inception_shape)\n",
    "x = input_layer\n",
    "x = layers.Flatten()(x)\n",
    "x = layers.Dense(256, activation='relu')(x)\n",
    "x = layers.Dropout(0.5)(x)\n",
    "x = layers.Dense(nb_classes, activation='softmax')(x)\n",
    "\n",
    "# this is the model we will train\n",
    "model = Model(inputs=input_layer, outputs=x)\n",
    "print(model.summary())"
   ]
  },
  {
   "cell_type": "raw",
   "metadata": {},
   "source": [
    "from keras.applications.inception_v3 import InceptionV3\n",
    "from keras.models import Model\n",
    "\n",
    "# create the base pre-trained model\n",
    "base_model = InceptionV3(weights='imagenet', include_top=False)\n",
    "\n",
    "# add a global spatial average pooling layer\n",
    "x = base_model.output\n",
    "x = layers.GlobalAveragePooling2D()(x)\n",
    "# let's add a fully-connected layer\n",
    "x = layers.Dense(256, activation='relu')(x)\n",
    "x = layers.Dropout(0.5)(x)\n",
    "# and a logistic layer -- let's say we have 200 classes\n",
    "predictions = layers.Dense(nb_classes, activation='softmax')(x)\n",
    "\n",
    "# this is the model we will train\n",
    "model = Model(inputs=base_model.input, outputs=predictions)"
   ]
  },
  {
   "cell_type": "code",
   "execution_count": 10,
   "metadata": {},
   "outputs": [
    {
     "name": "stdout",
     "output_type": "stream",
     "text": [
      "_________________________________________________________________\n",
      "Layer (type)                 Output Shape              Param #   \n",
      "=================================================================\n",
      "input_1 (InputLayer)         (None, 2048)              0         \n",
      "_________________________________________________________________\n",
      "dense_1 (Dense)              (None, 512)               1049088   \n",
      "_________________________________________________________________\n",
      "dropout_1 (Dropout)          (None, 512)               0         \n",
      "_________________________________________________________________\n",
      "dense_2 (Dense)              (None, 11)                5643      \n",
      "=================================================================\n",
      "Total params: 1,054,731\n",
      "Trainable params: 1,054,731\n",
      "Non-trainable params: 0\n",
      "_________________________________________________________________\n",
      "None\n"
     ]
    }
   ],
   "source": [
    "from keras.models import Model\n",
    "\n",
    "input_layer = layers.Input((X_train_1.shape[1],))\n",
    "x = input_layer\n",
    "x = layers.Dense(512, activation='relu')(x)\n",
    "x = layers.Dropout(0.5)(x)\n",
    "predictions = layers.Dense(nb_classes, activation='softmax')(x)\n",
    "\n",
    "# this is the model we will train\n",
    "model = Model(input_layer, outputs=predictions)\n",
    "print(model.summary())"
   ]
  },
  {
   "cell_type": "code",
   "execution_count": 11,
   "metadata": {},
   "outputs": [],
   "source": [
    "from keras.optimizers import SGD\n",
    "\n",
    "sgd = SGD(lr=0.01, momentum=0.9, nesterov=True)\n",
    "\n",
    "model.compile(optimizer=sgd, loss='categorical_crossentropy', \n",
    "              metrics=['accuracy', top_3_k_categorical_accuracy])\n",
    "\n",
    "model_filepath = join('models', dataset, 'inception_dense512_dropout05_trained_10_epochs_no_fine_tuning_2.h5')\n",
    "checkpointer = callbacks.ModelCheckpoint(filepath=model_filepath, monitor='val_acc', verbose=1, save_best_only=True)\n",
    "early_stopper = callbacks.EarlyStopping(monitor='val_acc', patience=5)"
   ]
  },
  {
   "cell_type": "code",
   "execution_count": 47,
   "metadata": {},
   "outputs": [
    {
     "name": "stdout",
     "output_type": "stream",
     "text": [
      "Train on 28150 samples, validate on 23450 samples\n",
      "Epoch 1/30\n",
      "28150/28150 [==============================] - 2s 75us/step - loss: 0.3880 - acc: 0.8848 - top_3: 0.9631 - val_loss: 0.5705 - val_acc: 0.8156 - val_top_3: 0.9528\n",
      "\n",
      "Epoch 00001: val_acc improved from -inf to 0.81561, saving model to models/UCF11/inception_dense512_dropout05_trained_10_epochs_no_fine_tuning_2.h5\n",
      "Epoch 2/30\n",
      "28150/28150 [==============================] - 2s 65us/step - loss: 0.0983 - acc: 0.9729 - top_3: 0.9980 - val_loss: 0.5641 - val_acc: 0.8248 - val_top_3: 0.9644\n",
      "\n",
      "Epoch 00002: val_acc improved from 0.81561 to 0.82482, saving model to models/UCF11/inception_dense512_dropout05_trained_10_epochs_no_fine_tuning_2.h5\n",
      "Epoch 3/30\n",
      "28150/28150 [==============================] - 2s 65us/step - loss: 0.0612 - acc: 0.9852 - top_3: 0.9989 - val_loss: 0.5347 - val_acc: 0.8349 - val_top_3: 0.9672\n",
      "\n",
      "Epoch 00003: val_acc improved from 0.82482 to 0.83493, saving model to models/UCF11/inception_dense512_dropout05_trained_10_epochs_no_fine_tuning_2.h5\n",
      "Epoch 4/30\n",
      "28150/28150 [==============================] - 2s 65us/step - loss: 0.0425 - acc: 0.9897 - top_3: 0.9995 - val_loss: 0.5597 - val_acc: 0.8339 - val_top_3: 0.9667\n",
      "\n",
      "Epoch 00004: val_acc did not improve\n",
      "Epoch 5/30\n",
      "28150/28150 [==============================] - 2s 69us/step - loss: 0.0357 - acc: 0.9915 - top_3: 0.9997 - val_loss: 0.5921 - val_acc: 0.8298 - val_top_3: 0.9609\n",
      "\n",
      "Epoch 00005: val_acc did not improve\n",
      "Epoch 6/30\n",
      "28150/28150 [==============================] - 2s 85us/step - loss: 0.0266 - acc: 0.9943 - top_3: 1.0000 - val_loss: 0.5735 - val_acc: 0.8376 - val_top_3: 0.9644\n",
      "\n",
      "Epoch 00006: val_acc improved from 0.83493 to 0.83757, saving model to models/UCF11/inception_dense512_dropout05_trained_10_epochs_no_fine_tuning_2.h5\n",
      "Epoch 7/30\n",
      "28150/28150 [==============================] - 2s 66us/step - loss: 0.0227 - acc: 0.9955 - top_3: 0.9999 - val_loss: 0.5758 - val_acc: 0.8388 - val_top_3: 0.9681\n",
      "\n",
      "Epoch 00007: val_acc improved from 0.83757 to 0.83881, saving model to models/UCF11/inception_dense512_dropout05_trained_10_epochs_no_fine_tuning_2.h5\n",
      "Epoch 8/30\n",
      "28150/28150 [==============================] - 2s 66us/step - loss: 0.0189 - acc: 0.9957 - top_3: 0.9999 - val_loss: 0.6027 - val_acc: 0.8355 - val_top_3: 0.9661\n",
      "\n",
      "Epoch 00008: val_acc did not improve\n",
      "Epoch 9/30\n",
      "28150/28150 [==============================] - 2s 65us/step - loss: 0.0174 - acc: 0.9962 - top_3: 1.0000 - val_loss: 0.5854 - val_acc: 0.8371 - val_top_3: 0.9638\n",
      "\n",
      "Epoch 00009: val_acc did not improve\n",
      "Epoch 10/30\n",
      "28150/28150 [==============================] - 2s 65us/step - loss: 0.0139 - acc: 0.9977 - top_3: 0.9999 - val_loss: 0.5985 - val_acc: 0.8354 - val_top_3: 0.9654\n",
      "\n",
      "Epoch 00010: val_acc did not improve\n",
      "Epoch 11/30\n",
      "28150/28150 [==============================] - 2s 65us/step - loss: 0.0132 - acc: 0.9973 - top_3: 0.9999 - val_loss: 0.6155 - val_acc: 0.8373 - val_top_3: 0.9634\n",
      "\n",
      "Epoch 00011: val_acc did not improve\n",
      "Epoch 12/30\n",
      "28150/28150 [==============================] - 2s 64us/step - loss: 0.0113 - acc: 0.9978 - top_3: 1.0000 - val_loss: 0.6319 - val_acc: 0.8393 - val_top_3: 0.9604\n",
      "\n",
      "Epoch 00012: val_acc improved from 0.83881 to 0.83932, saving model to models/UCF11/inception_dense512_dropout05_trained_10_epochs_no_fine_tuning_2.h5\n",
      "Epoch 13/30\n",
      "28150/28150 [==============================] - 2s 65us/step - loss: 0.0099 - acc: 0.9984 - top_3: 1.0000 - val_loss: 0.6390 - val_acc: 0.8383 - val_top_3: 0.9617\n",
      "\n",
      "Epoch 00013: val_acc did not improve\n",
      "Epoch 14/30\n",
      "28150/28150 [==============================] - 2s 65us/step - loss: 0.0092 - acc: 0.9983 - top_3: 1.0000 - val_loss: 0.6415 - val_acc: 0.8400 - val_top_3: 0.9654\n",
      "\n",
      "Epoch 00014: val_acc improved from 0.83932 to 0.83996, saving model to models/UCF11/inception_dense512_dropout05_trained_10_epochs_no_fine_tuning_2.h5\n",
      "Epoch 15/30\n",
      "28150/28150 [==============================] - 2s 65us/step - loss: 0.0080 - acc: 0.9988 - top_3: 1.0000 - val_loss: 0.6293 - val_acc: 0.8408 - val_top_3: 0.9675\n",
      "\n",
      "Epoch 00015: val_acc improved from 0.83996 to 0.84081, saving model to models/UCF11/inception_dense512_dropout05_trained_10_epochs_no_fine_tuning_2.h5\n",
      "Epoch 16/30\n",
      "28150/28150 [==============================] - 2s 66us/step - loss: 0.0078 - acc: 0.9987 - top_3: 1.0000 - val_loss: 0.6197 - val_acc: 0.8410 - val_top_3: 0.9694\n",
      "\n",
      "Epoch 00016: val_acc improved from 0.84081 to 0.84098, saving model to models/UCF11/inception_dense512_dropout05_trained_10_epochs_no_fine_tuning_2.h5\n",
      "Epoch 17/30\n",
      "28150/28150 [==============================] - 2s 88us/step - loss: 0.0071 - acc: 0.9992 - top_3: 1.0000 - val_loss: 0.6767 - val_acc: 0.8362 - val_top_3: 0.9619\n",
      "\n",
      "Epoch 00017: val_acc did not improve\n",
      "Epoch 18/30\n",
      "28150/28150 [==============================] - 2s 66us/step - loss: 0.0061 - acc: 0.9991 - top_3: 1.0000 - val_loss: 0.6358 - val_acc: 0.8430 - val_top_3: 0.9658\n",
      "\n",
      "Epoch 00018: val_acc improved from 0.84098 to 0.84299, saving model to models/UCF11/inception_dense512_dropout05_trained_10_epochs_no_fine_tuning_2.h5\n",
      "Epoch 19/30\n",
      "28150/28150 [==============================] - 2s 65us/step - loss: 0.0060 - acc: 0.9991 - top_3: 1.0000 - val_loss: 0.6488 - val_acc: 0.8410 - val_top_3: 0.9653\n",
      "\n",
      "Epoch 00019: val_acc did not improve\n",
      "Epoch 20/30\n",
      "28150/28150 [==============================] - 2s 64us/step - loss: 0.0061 - acc: 0.9993 - top_3: 1.0000 - val_loss: 0.6506 - val_acc: 0.8405 - val_top_3: 0.9635\n",
      "\n",
      "Epoch 00020: val_acc did not improve\n",
      "Epoch 21/30\n",
      "28150/28150 [==============================] - 2s 65us/step - loss: 0.0053 - acc: 0.9994 - top_3: 1.0000 - val_loss: 0.6542 - val_acc: 0.8426 - val_top_3: 0.9659\n",
      "\n",
      "Epoch 00021: val_acc did not improve\n",
      "Epoch 22/30\n",
      "28150/28150 [==============================] - 2s 66us/step - loss: 0.0048 - acc: 0.9995 - top_3: 1.0000 - val_loss: 0.6429 - val_acc: 0.8410 - val_top_3: 0.9664\n",
      "\n",
      "Epoch 00022: val_acc did not improve\n",
      "Epoch 23/30\n",
      "28150/28150 [==============================] - 2s 65us/step - loss: 0.0050 - acc: 0.9995 - top_3: 1.0000 - val_loss: 0.6673 - val_acc: 0.8406 - val_top_3: 0.9652\n",
      "\n",
      "Epoch 00023: val_acc did not improve\n"
     ]
    }
   ],
   "source": [
    "history = model.fit(X_train_1, Y_train_1, validation_data=(X_valid, Y_valid), \n",
    "          batch_size=128, epochs=30, \n",
    "          callbacks=[checkpointer, early_stopper])"
   ]
  },
  {
   "cell_type": "markdown",
   "metadata": {},
   "source": [
    "Here we collect metrics about the accuracy on the video, since the model only works with single images:\n",
    "* Approach 1: Compute the mean of all predictions on all frames of a video, then take the best prediction.\n",
    "* Approach 2: Take the predicted best for each frame (argmax), and count how many times that class is predicted as the best one into the video frames. Then take the class with the highest count.\n",
    "* Approach 3 (not implemented but tested): instead of the mean, compute the product (since we work with probabilities). Yields a lower result than using the mean."
   ]
  },
  {
   "cell_type": "markdown",
   "metadata": {},
   "source": [
    "Here we load the best model:"
   ]
  },
  {
   "cell_type": "code",
   "execution_count": 48,
   "metadata": {},
   "outputs": [],
   "source": [
    "from keras.models import load_model\n",
    "\n",
    "model = load_model(model_filepath, custom_objects={'top_3': top_3_k_categorical_accuracy})"
   ]
  },
  {
   "cell_type": "code",
   "execution_count": 49,
   "metadata": {},
   "outputs": [],
   "source": [
    "from np_utils import batch\n",
    "\n",
    "def collect_statistics_on_videos():\n",
    "\n",
    "    from collections import Counter\n",
    "\n",
    "    count_videos = 0\n",
    "    count_top_1 = 0\n",
    "    count_top_3 = 0\n",
    "    count_top_1_argmax = 0\n",
    "\n",
    "    for frames, labels in tqdm(batch([X_valid, Y_valid], batch_size=frame_number), \n",
    "                               total=len(X_valid) // frame_number,\n",
    "                              desc='Collecting aggregate statistics on videos'):\n",
    "\n",
    "        ### Compute the predicted labels using the model\n",
    "\n",
    "        true_labels = labels[0]\n",
    "        true_label_idx = np.argmax(true_labels)\n",
    "        predicted_labels = model.predict(frames)\n",
    "\n",
    "        ### Update counters with Approach 1 (mean)\n",
    "\n",
    "        predicted_labels_mean = np.mean(predicted_labels, axis=0)\n",
    "        predicted_labels_mean_idx = np.argmax(predicted_labels_mean)\n",
    "        idx_sorted_top_3 = np.argsort(predicted_labels_mean)[-3:]\n",
    "\n",
    "        if true_label_idx in idx_sorted_top_3:\n",
    "            count_top_3 += 1\n",
    "\n",
    "        if true_label_idx == predicted_labels_mean_idx:\n",
    "            count_top_1 += 1\n",
    "\n",
    "        ### Update count with Approach 2 (highest count)\n",
    "\n",
    "        predicted_labels_argmax = np.argmax(predicted_labels, axis=1)\n",
    "        counter = Counter(predicted_labels_argmax)\n",
    "\n",
    "        if counter.most_common(1)[0][0] == true_label_idx:\n",
    "            count_top_1_argmax += 1\n",
    "\n",
    "        ### Update number of videos\n",
    "\n",
    "        count_videos += 1\n",
    "        \n",
    "        \n",
    "    print('Top 1 accuracy (using mean):', count_top_1 / count_videos)\n",
    "    print('Top 3 accuracy (using mean):', count_top_3 / count_videos)\n",
    "    print('Top 1 accuracy (using highest count):', count_top_1_argmax / count_videos)"
   ]
  },
  {
   "cell_type": "code",
   "execution_count": 50,
   "metadata": {},
   "outputs": [
    {
     "data": {
      "image/png": "[encoded data removed]",
      "text/plain": [
       "<matplotlib.figure.Figure at 0x7f3cea53fba8>"
      ]
     },
     "metadata": {},
     "output_type": "display_data"
    }
   ],
   "source": [
    "%matplotlib inline\n",
    "from plot_utils import plot_history\n",
    "\n",
    "plot_history(history)"
   ]
  },
  {
   "cell_type": "code",
   "execution_count": 51,
   "metadata": {},
   "outputs": [
    {
     "name": "stderr",
     "output_type": "stream",
     "text": [
      "Collecting aggregate statistics on videos: 100%|██████████| 469/469 [00:01<00:00, 383.36it/s]"
     ]
    },
    {
     "name": "stdout",
     "output_type": "stream",
     "text": [
      "Top 1 accuracy (using mean): 0.9019189765458422\n",
      "Top 3 accuracy (using mean): 0.9914712153518124\n",
      "Top 1 accuracy (using highest count): 0.8976545842217484\n"
     ]
    },
    {
     "name": "stderr",
     "output_type": "stream",
     "text": [
      "\n"
     ]
    }
   ],
   "source": [
    "collect_statistics_on_videos()"
   ]
  },
  {
   "cell_type": "code",
   "execution_count": 72,
   "metadata": {},
   "outputs": [],
   "source": [
    "X_train_2_predictions = np.array([model.predict(X_train_2_video) for X_train_2_video in X_train_rnn_2])\n",
    "X_valid_predictions = np.array([model.predict(X_valid_video) for X_valid_video in X_valid_rnn])"
   ]
  },
  {
   "cell_type": "code",
   "execution_count": 91,
   "metadata": {},
   "outputs": [
    {
     "name": "stdout",
     "output_type": "stream",
     "text": [
      "_________________________________________________________________\n",
      "Layer (type)                 Output Shape              Param #   \n",
      "=================================================================\n",
      "input_11 (InputLayer)        (None, 50, 11)            0         \n",
      "_________________________________________________________________\n",
      "lstm_8 (LSTM)                (None, 128)               71680     \n",
      "_________________________________________________________________\n",
      "dropout_10 (Dropout)         (None, 128)               0         \n",
      "_________________________________________________________________\n",
      "dense_13 (Dense)             (None, 11)                1419      \n",
      "=================================================================\n",
      "Total params: 73,099\n",
      "Trainable params: 73,099\n",
      "Non-trainable params: 0\n",
      "_________________________________________________________________\n",
      "None\n"
     ]
    }
   ],
   "source": [
    "input_layer = layers.Input((X_train_2_predictions.shape[1:]))\n",
    "x = input_layer\n",
    "# x = layers.Flatten()(x)\n",
    "# x = layers.Dense(128)(x)\n",
    "x = layers.LSTM(128, activation='relu')(x)\n",
    "x = layers.Dropout(0.5)(x)\n",
    "predictions = layers.Dense(nb_classes, activation='softmax')(x)\n",
    "\n",
    "# this is the model we will train\n",
    "rnn = Model(input_layer, outputs=predictions)\n",
    "print(rnn.summary())"
   ]
  },
  {
   "cell_type": "code",
   "execution_count": 94,
   "metadata": {},
   "outputs": [],
   "source": [
    "from keras.optimizers import SGD\n",
    "\n",
    "sgd = SGD(lr=0.001, momentum=0.9, nesterov=True)\n",
    "\n",
    "rnn.compile(optimizer=sgd, loss='categorical_crossentropy', \n",
    "              metrics=['accuracy', top_3_k_categorical_accuracy])"
   ]
  },
  {
   "cell_type": "code",
   "execution_count": 95,
   "metadata": {},
   "outputs": [
    {
     "name": "stdout",
     "output_type": "stream",
     "text": [
      "Train on 563 samples, validate on 469 samples\n",
      "Epoch 1/100\n",
      "563/563 [==============================] - 3s 6ms/step - loss: 1.7623 - acc: 0.8650 - top_3: 0.9663 - val_loss: 1.8218 - val_acc: 0.8316 - val_top_3: 0.8998\n",
      "Epoch 2/100\n",
      "563/563 [==============================] - 2s 4ms/step - loss: 1.7294 - acc: 0.8650 - top_3: 0.9680 - val_loss: 1.7778 - val_acc: 0.8380 - val_top_3: 0.9041\n",
      "Epoch 3/100\n",
      "563/563 [==============================] - 2s 4ms/step - loss: 1.6786 - acc: 0.8863 - top_3: 0.9663 - val_loss: 1.7234 - val_acc: 0.8401 - val_top_3: 0.9041\n",
      "Epoch 4/100\n",
      "563/563 [==============================] - 3s 5ms/step - loss: 1.6044 - acc: 0.8934 - top_3: 0.9663 - val_loss: 1.6569 - val_acc: 0.8422 - val_top_3: 0.9062\n",
      "Epoch 5/100\n",
      "563/563 [==============================] - 3s 5ms/step - loss: 1.5186 - acc: 0.9005 - top_3: 0.9663 - val_loss: 1.5647 - val_acc: 0.8443 - val_top_3: 0.9062\n",
      "Epoch 6/100\n",
      "563/563 [==============================] - 3s 5ms/step - loss: 1.4086 - acc: 0.8686 - top_3: 0.9663 - val_loss: 1.4096 - val_acc: 0.8443 - val_top_3: 0.9062\n",
      "Epoch 7/100\n",
      "563/563 [==============================] - 2s 4ms/step - loss: 1.2586 - acc: 0.8277 - top_3: 0.9520 - val_loss: 1.8208 - val_acc: 0.7953 - val_top_3: 0.8998\n",
      "Epoch 8/100\n",
      "563/563 [==============================] - 2s 4ms/step - loss: 2.0003 - acc: 0.6501 - top_3: 0.8348 - val_loss: 2.0674 - val_acc: 0.6525 - val_top_3: 0.7377\n",
      "Epoch 9/100\n",
      "563/563 [==============================] - 3s 5ms/step - loss: 2.0503 - acc: 0.5258 - top_3: 0.7353 - val_loss: 2.0433 - val_acc: 0.6397 - val_top_3: 0.7313\n",
      "Epoch 10/100\n",
      "563/563 [==============================] - 3s 4ms/step - loss: 2.0123 - acc: 0.5382 - top_3: 0.7567 - val_loss: 1.9872 - val_acc: 0.6418 - val_top_3: 0.7313\n",
      "Epoch 11/100\n",
      "563/563 [==============================] - 3s 5ms/step - loss: 1.9674 - acc: 0.5204 - top_3: 0.7371 - val_loss: 1.8964 - val_acc: 0.6311 - val_top_3: 0.7271\n",
      "Epoch 12/100\n",
      "563/563 [==============================] - 3s 5ms/step - loss: 1.8422 - acc: 0.4920 - top_3: 0.7602 - val_loss: 1.7522 - val_acc: 0.6247 - val_top_3: 0.7335\n",
      "Epoch 13/100\n",
      "563/563 [==============================] - 3s 5ms/step - loss: 1.8152 - acc: 0.4885 - top_3: 0.7798 - val_loss: 13.8155 - val_acc: 0.1429 - val_top_3: 1.0000\n",
      "Epoch 14/100\n",
      "563/563 [==============================] - 3s 5ms/step - loss: 14.3145 - acc: 0.1119 - top_3: 1.0000 - val_loss: 13.8155 - val_acc: 0.1429 - val_top_3: 1.0000\n",
      "Epoch 15/100\n",
      "563/563 [==============================] - 3s 5ms/step - loss: 14.2286 - acc: 0.1172 - top_3: 1.0000 - val_loss: 13.8155 - val_acc: 0.1429 - val_top_3: 1.0000\n",
      "Epoch 16/100\n",
      "563/563 [==============================] - 3s 5ms/step - loss: 14.3145 - acc: 0.1119 - top_3: 1.0000 - val_loss: 13.8155 - val_acc: 0.1429 - val_top_3: 1.0000\n",
      "Epoch 17/100\n",
      "563/563 [==============================] - 2s 3ms/step - loss: 0.8302 - acc: 0.0870 - top_3: 0.0515 - val_loss: 1.1921e-07 - val_acc: 0.1023 - val_top_3: 0.0000e+00\n",
      "Epoch 18/100\n",
      "563/563 [==============================] - 2s 4ms/step - loss: 1.1921e-07 - acc: 0.0906 - top_3: 0.0000e+00 - val_loss: 1.1921e-07 - val_acc: 0.1023 - val_top_3: 0.0000e+00\n",
      "Epoch 19/100\n",
      "563/563 [==============================] - 3s 5ms/step - loss: 1.1921e-07 - acc: 0.0906 - top_3: 0.0000e+00 - val_loss: 1.1921e-07 - val_acc: 0.1023 - val_top_3: 0.0000e+00\n",
      "Epoch 20/100\n",
      "563/563 [==============================] - 3s 5ms/step - loss: 1.1921e-07 - acc: 0.0906 - top_3: 0.0000e+00 - val_loss: 1.1921e-07 - val_acc: 0.1023 - val_top_3: 0.0000e+00\n",
      "Epoch 21/100\n",
      "563/563 [==============================] - 3s 5ms/step - loss: 1.1921e-07 - acc: 0.0906 - top_3: 0.0000e+00 - val_loss: 1.1921e-07 - val_acc: 0.1023 - val_top_3: 0.0000e+00\n",
      "Epoch 22/100\n",
      "563/563 [==============================] - 2s 4ms/step - loss: 1.1921e-07 - acc: 0.0906 - top_3: 0.0000e+00 - val_loss: 1.1921e-07 - val_acc: 0.1023 - val_top_3: 0.0000e+00\n",
      "Epoch 23/100\n",
      "563/563 [==============================] - 3s 4ms/step - loss: 1.1921e-07 - acc: 0.0906 - top_3: 0.0000e+00 - val_loss: 1.1921e-07 - val_acc: 0.1023 - val_top_3: 0.0000e+00\n",
      "Epoch 24/100\n",
      "563/563 [==============================] - 3s 5ms/step - loss: 1.1921e-07 - acc: 0.0906 - top_3: 0.0000e+00 - val_loss: 1.1921e-07 - val_acc: 0.1023 - val_top_3: 0.0000e+00\n",
      "Epoch 25/100\n",
      "563/563 [==============================] - 3s 5ms/step - loss: 1.1921e-07 - acc: 0.0906 - top_3: 0.0000e+00 - val_loss: 1.1921e-07 - val_acc: 0.1023 - val_top_3: 0.0000e+00\n",
      "Epoch 26/100\n",
      "563/563 [==============================] - 2s 4ms/step - loss: 1.1921e-07 - acc: 0.0906 - top_3: 0.0000e+00 - val_loss: 1.1921e-07 - val_acc: 0.1023 - val_top_3: 0.0000e+00\n",
      "Epoch 27/100\n",
      "563/563 [==============================] - 2s 3ms/step - loss: 1.1921e-07 - acc: 0.0906 - top_3: 0.0000e+00 - val_loss: 1.1921e-07 - val_acc: 0.1023 - val_top_3: 0.0000e+00\n",
      "Epoch 28/100\n",
      "563/563 [==============================] - 3s 4ms/step - loss: 1.1921e-07 - acc: 0.0906 - top_3: 0.0000e+00 - val_loss: 1.1921e-07 - val_acc: 0.1023 - val_top_3: 0.0000e+00\n",
      "Epoch 29/100\n",
      "563/563 [==============================] - 3s 5ms/step - loss: 1.1921e-07 - acc: 0.0906 - top_3: 0.0000e+00 - val_loss: 1.1921e-07 - val_acc: 0.1023 - val_top_3: 0.0000e+00\n",
      "Epoch 30/100\n",
      "563/563 [==============================] - 3s 5ms/step - loss: 1.1921e-07 - acc: 0.0906 - top_3: 0.0000e+00 - val_loss: 1.1921e-07 - val_acc: 0.1023 - val_top_3: 0.0000e+00\n",
      "Epoch 31/100\n",
      "563/563 [==============================] - 2s 4ms/step - loss: 1.1921e-07 - acc: 0.0906 - top_3: 0.0000e+00 - val_loss: 1.1921e-07 - val_acc: 0.1023 - val_top_3: 0.0000e+00\n",
      "Epoch 32/100\n",
      "563/563 [==============================] - 3s 5ms/step - loss: 1.1921e-07 - acc: 0.0906 - top_3: 0.0000e+00 - val_loss: 1.1921e-07 - val_acc: 0.1023 - val_top_3: 0.0000e+00\n",
      "Epoch 33/100\n",
      "563/563 [==============================] - 3s 5ms/step - loss: 1.1921e-07 - acc: 0.0906 - top_3: 0.0000e+00 - val_loss: 1.1921e-07 - val_acc: 0.1023 - val_top_3: 0.0000e+00\n",
      "Epoch 34/100\n",
      "563/563 [==============================] - 3s 5ms/step - loss: 1.1921e-07 - acc: 0.0906 - top_3: 0.0000e+00 - val_loss: 1.1921e-07 - val_acc: 0.1023 - val_top_3: 0.0000e+00\n",
      "Epoch 35/100\n",
      "563/563 [==============================] - 2s 4ms/step - loss: 1.1921e-07 - acc: 0.0906 - top_3: 0.0000e+00 - val_loss: 1.1921e-07 - val_acc: 0.1023 - val_top_3: 0.0000e+00\n",
      "Epoch 36/100\n",
      "563/563 [==============================] - 2s 4ms/step - loss: 1.1921e-07 - acc: 0.0906 - top_3: 0.0000e+00 - val_loss: 1.1921e-07 - val_acc: 0.1023 - val_top_3: 0.0000e+00\n",
      "Epoch 37/100\n",
      "563/563 [==============================] - 2s 3ms/step - loss: 1.1921e-07 - acc: 0.0906 - top_3: 0.0000e+00 - val_loss: 1.1921e-07 - val_acc: 0.1023 - val_top_3: 0.0000e+00\n",
      "Epoch 38/100\n",
      "563/563 [==============================] - 3s 5ms/step - loss: 1.1921e-07 - acc: 0.0906 - top_3: 0.0000e+00 - val_loss: 1.1921e-07 - val_acc: 0.1023 - val_top_3: 0.0000e+00\n",
      "Epoch 39/100\n",
      "563/563 [==============================] - 3s 5ms/step - loss: 1.1921e-07 - acc: 0.0906 - top_3: 0.0000e+00 - val_loss: 1.1921e-07 - val_acc: 0.1023 - val_top_3: 0.0000e+00\n",
      "Epoch 40/100\n",
      "563/563 [==============================] - 3s 5ms/step - loss: 1.1921e-07 - acc: 0.0906 - top_3: 0.0000e+00 - val_loss: 1.1921e-07 - val_acc: 0.1023 - val_top_3: 0.0000e+00\n",
      "Epoch 41/100\n",
      "563/563 [==============================] - 2s 4ms/step - loss: 1.1921e-07 - acc: 0.0906 - top_3: 0.0000e+00 - val_loss: 1.1921e-07 - val_acc: 0.1023 - val_top_3: 0.0000e+00\n",
      "Epoch 42/100\n",
      "563/563 [==============================] - 3s 5ms/step - loss: 1.1921e-07 - acc: 0.0906 - top_3: 0.0000e+00 - val_loss: 1.1921e-07 - val_acc: 0.1023 - val_top_3: 0.0000e+00\n",
      "Epoch 43/100\n",
      "563/563 [==============================] - 3s 5ms/step - loss: 1.1921e-07 - acc: 0.0906 - top_3: 0.0000e+00 - val_loss: 1.1921e-07 - val_acc: 0.1023 - val_top_3: 0.0000e+00\n",
      "Epoch 44/100\n",
      "563/563 [==============================] - 3s 5ms/step - loss: 1.1921e-07 - acc: 0.0906 - top_3: 0.0000e+00 - val_loss: 1.1921e-07 - val_acc: 0.1023 - val_top_3: 0.0000e+00\n",
      "Epoch 45/100\n",
      "563/563 [==============================] - 3s 5ms/step - loss: 1.1921e-07 - acc: 0.0906 - top_3: 0.0000e+00 - val_loss: 1.1921e-07 - val_acc: 0.1023 - val_top_3: 0.0000e+00\n",
      "Epoch 46/100\n"
     ]
    },
    {
     "name": "stdout",
     "output_type": "stream",
     "text": [
      "563/563 [==============================] - 2s 3ms/step - loss: 1.1921e-07 - acc: 0.0906 - top_3: 0.0000e+00 - val_loss: 1.1921e-07 - val_acc: 0.1023 - val_top_3: 0.0000e+00\n",
      "Epoch 47/100\n",
      "563/563 [==============================] - 2s 4ms/step - loss: 1.1921e-07 - acc: 0.0906 - top_3: 0.0000e+00 - val_loss: 1.1921e-07 - val_acc: 0.1023 - val_top_3: 0.0000e+00\n",
      "Epoch 48/100\n",
      "563/563 [==============================] - 3s 4ms/step - loss: 1.1921e-07 - acc: 0.0906 - top_3: 0.0000e+00 - val_loss: 1.1921e-07 - val_acc: 0.1023 - val_top_3: 0.0000e+00\n",
      "Epoch 49/100\n",
      "563/563 [==============================] - 3s 5ms/step - loss: 1.1921e-07 - acc: 0.0906 - top_3: 0.0000e+00 - val_loss: 1.1921e-07 - val_acc: 0.1023 - val_top_3: 0.0000e+00\n",
      "Epoch 50/100\n",
      "563/563 [==============================] - 3s 5ms/step - loss: 1.1921e-07 - acc: 0.0906 - top_3: 0.0000e+00 - val_loss: 1.1921e-07 - val_acc: 0.1023 - val_top_3: 0.0000e+00\n",
      "Epoch 51/100\n",
      "563/563 [==============================] - 3s 5ms/step - loss: 1.1921e-07 - acc: 0.0906 - top_3: 0.0000e+00 - val_loss: 1.1921e-07 - val_acc: 0.1023 - val_top_3: 0.0000e+00\n",
      "Epoch 52/100\n",
      "563/563 [==============================] - 3s 4ms/step - loss: 1.1921e-07 - acc: 0.0906 - top_3: 0.0000e+00 - val_loss: 1.1921e-07 - val_acc: 0.1023 - val_top_3: 0.0000e+00\n",
      "Epoch 53/100\n",
      "563/563 [==============================] - 3s 5ms/step - loss: 1.1921e-07 - acc: 0.0906 - top_3: 0.0000e+00 - val_loss: 1.1921e-07 - val_acc: 0.1023 - val_top_3: 0.0000e+00\n",
      "Epoch 54/100\n",
      "563/563 [==============================] - 3s 5ms/step - loss: 1.1921e-07 - acc: 0.0906 - top_3: 0.0000e+00 - val_loss: 1.1921e-07 - val_acc: 0.1023 - val_top_3: 0.0000e+00\n",
      "Epoch 55/100\n",
      "563/563 [==============================] - 2s 4ms/step - loss: 1.1921e-07 - acc: 0.0906 - top_3: 0.0000e+00 - val_loss: 1.1921e-07 - val_acc: 0.1023 - val_top_3: 0.0000e+00\n",
      "Epoch 56/100\n",
      "563/563 [==============================] - 2s 3ms/step - loss: 1.1921e-07 - acc: 0.0906 - top_3: 0.0000e+00 - val_loss: 1.1921e-07 - val_acc: 0.1023 - val_top_3: 0.0000e+00\n",
      "Epoch 57/100\n",
      "563/563 [==============================] - 3s 5ms/step - loss: 1.1921e-07 - acc: 0.0906 - top_3: 0.0000e+00 - val_loss: 1.1921e-07 - val_acc: 0.1023 - val_top_3: 0.0000e+00\n",
      "Epoch 58/100\n",
      "563/563 [==============================] - 3s 5ms/step - loss: 1.1921e-07 - acc: 0.0906 - top_3: 0.0000e+00 - val_loss: 1.1921e-07 - val_acc: 0.1023 - val_top_3: 0.0000e+00\n",
      "Epoch 59/100\n",
      "563/563 [==============================] - 3s 5ms/step - loss: 1.1921e-07 - acc: 0.0906 - top_3: 0.0000e+00 - val_loss: 1.1921e-07 - val_acc: 0.1023 - val_top_3: 0.0000e+00\n",
      "Epoch 60/100\n",
      "563/563 [==============================] - 3s 5ms/step - loss: 1.1921e-07 - acc: 0.0906 - top_3: 0.0000e+00 - val_loss: 1.1921e-07 - val_acc: 0.1023 - val_top_3: 0.0000e+00\n",
      "Epoch 61/100\n",
      "563/563 [==============================] - 3s 5ms/step - loss: 1.1921e-07 - acc: 0.0906 - top_3: 0.0000e+00 - val_loss: 1.1921e-07 - val_acc: 0.1023 - val_top_3: 0.0000e+00\n",
      "Epoch 62/100\n",
      "563/563 [==============================] - 3s 5ms/step - loss: 1.1921e-07 - acc: 0.0906 - top_3: 0.0000e+00 - val_loss: 1.1921e-07 - val_acc: 0.1023 - val_top_3: 0.0000e+00\n",
      "Epoch 63/100\n",
      "563/563 [==============================] - 3s 5ms/step - loss: 1.1921e-07 - acc: 0.0906 - top_3: 0.0000e+00 - val_loss: 1.1921e-07 - val_acc: 0.1023 - val_top_3: 0.0000e+00\n",
      "Epoch 64/100\n",
      "563/563 [==============================] - 3s 5ms/step - loss: 1.1921e-07 - acc: 0.0906 - top_3: 0.0000e+00 - val_loss: 1.1921e-07 - val_acc: 0.1023 - val_top_3: 0.0000e+00\n",
      "Epoch 65/100\n",
      "563/563 [==============================] - 2s 4ms/step - loss: 1.1921e-07 - acc: 0.0906 - top_3: 0.0000e+00 - val_loss: 1.1921e-07 - val_acc: 0.1023 - val_top_3: 0.0000e+00\n",
      "Epoch 66/100\n",
      "563/563 [==============================] - 2s 3ms/step - loss: 1.1921e-07 - acc: 0.0906 - top_3: 0.0000e+00 - val_loss: 1.1921e-07 - val_acc: 0.1023 - val_top_3: 0.0000e+00\n",
      "Epoch 67/100\n",
      "563/563 [==============================] - 3s 5ms/step - loss: 1.1921e-07 - acc: 0.0906 - top_3: 0.0000e+00 - val_loss: 1.1921e-07 - val_acc: 0.1023 - val_top_3: 0.0000e+00\n",
      "Epoch 68/100\n",
      "563/563 [==============================] - 3s 4ms/step - loss: 1.1921e-07 - acc: 0.0906 - top_3: 0.0000e+00 - val_loss: 1.1921e-07 - val_acc: 0.1023 - val_top_3: 0.0000e+00\n",
      "Epoch 69/100\n",
      "563/563 [==============================] - 3s 5ms/step - loss: 1.1921e-07 - acc: 0.0906 - top_3: 0.0000e+00 - val_loss: 1.1921e-07 - val_acc: 0.1023 - val_top_3: 0.0000e+00\n",
      "Epoch 70/100\n",
      "563/563 [==============================] - 3s 5ms/step - loss: 1.1921e-07 - acc: 0.0906 - top_3: 0.0000e+00 - val_loss: 1.1921e-07 - val_acc: 0.1023 - val_top_3: 0.0000e+00\n",
      "Epoch 71/100\n",
      "563/563 [==============================] - 3s 4ms/step - loss: 1.1921e-07 - acc: 0.0906 - top_3: 0.0000e+00 - val_loss: 1.1921e-07 - val_acc: 0.1023 - val_top_3: 0.0000e+00\n",
      "Epoch 72/100\n",
      "563/563 [==============================] - 3s 5ms/step - loss: 1.1921e-07 - acc: 0.0906 - top_3: 0.0000e+00 - val_loss: 1.1921e-07 - val_acc: 0.1023 - val_top_3: 0.0000e+00\n",
      "Epoch 73/100\n",
      "563/563 [==============================] - 3s 5ms/step - loss: 1.1921e-07 - acc: 0.0906 - top_3: 0.0000e+00 - val_loss: 1.1921e-07 - val_acc: 0.1023 - val_top_3: 0.0000e+00\n",
      "Epoch 74/100\n",
      "563/563 [==============================] - 2s 4ms/step - loss: 1.1921e-07 - acc: 0.0906 - top_3: 0.0000e+00 - val_loss: 1.1921e-07 - val_acc: 0.1023 - val_top_3: 0.0000e+00\n",
      "Epoch 75/100\n",
      "563/563 [==============================] - 2s 3ms/step - loss: 1.1921e-07 - acc: 0.0906 - top_3: 0.0000e+00 - val_loss: 1.1921e-07 - val_acc: 0.1023 - val_top_3: 0.0000e+00\n",
      "Epoch 76/100\n",
      "563/563 [==============================] - 2s 4ms/step - loss: 1.1921e-07 - acc: 0.0906 - top_3: 0.0000e+00 - val_loss: 1.1921e-07 - val_acc: 0.1023 - val_top_3: 0.0000e+00\n",
      "Epoch 77/100\n",
      "563/563 [==============================] - 3s 5ms/step - loss: 1.1921e-07 - acc: 0.0906 - top_3: 0.0000e+00 - val_loss: 1.1921e-07 - val_acc: 0.1023 - val_top_3: 0.0000e+00\n",
      "Epoch 78/100\n",
      "563/563 [==============================] - 2s 4ms/step - loss: 1.1921e-07 - acc: 0.0906 - top_3: 0.0000e+00 - val_loss: 1.1921e-07 - val_acc: 0.1023 - val_top_3: 0.0000e+00\n",
      "Epoch 79/100\n",
      "563/563 [==============================] - 3s 5ms/step - loss: 1.1921e-07 - acc: 0.0906 - top_3: 0.0000e+00 - val_loss: 1.1921e-07 - val_acc: 0.1023 - val_top_3: 0.0000e+00\n",
      "Epoch 80/100\n",
      "563/563 [==============================] - 3s 5ms/step - loss: 1.1921e-07 - acc: 0.0906 - top_3: 0.0000e+00 - val_loss: 1.1921e-07 - val_acc: 0.1023 - val_top_3: 0.0000e+00\n",
      "Epoch 81/100\n",
      "563/563 [==============================] - 3s 5ms/step - loss: 1.1921e-07 - acc: 0.0906 - top_3: 0.0000e+00 - val_loss: 1.1921e-07 - val_acc: 0.1023 - val_top_3: 0.0000e+00\n",
      "Epoch 82/100\n",
      "563/563 [==============================] - 3s 5ms/step - loss: 1.1921e-07 - acc: 0.0906 - top_3: 0.0000e+00 - val_loss: 1.1921e-07 - val_acc: 0.1023 - val_top_3: 0.0000e+00\n",
      "Epoch 83/100\n",
      "563/563 [==============================] - 3s 5ms/step - loss: 1.1921e-07 - acc: 0.0906 - top_3: 0.0000e+00 - val_loss: 1.1921e-07 - val_acc: 0.1023 - val_top_3: 0.0000e+00\n",
      "Epoch 84/100\n",
      "563/563 [==============================] - 2s 4ms/step - loss: 1.1921e-07 - acc: 0.0906 - top_3: 0.0000e+00 - val_loss: 1.1921e-07 - val_acc: 0.1023 - val_top_3: 0.0000e+00\n",
      "Epoch 85/100\n",
      "563/563 [==============================] - 2s 3ms/step - loss: 1.1921e-07 - acc: 0.0906 - top_3: 0.0000e+00 - val_loss: 1.1921e-07 - val_acc: 0.1023 - val_top_3: 0.0000e+00\n",
      "Epoch 86/100\n",
      "563/563 [==============================] - 3s 4ms/step - loss: 1.1921e-07 - acc: 0.0906 - top_3: 0.0000e+00 - val_loss: 1.1921e-07 - val_acc: 0.1023 - val_top_3: 0.0000e+00\n",
      "Epoch 87/100\n",
      "563/563 [==============================] - 3s 5ms/step - loss: 1.1921e-07 - acc: 0.0906 - top_3: 0.0000e+00 - val_loss: 1.1921e-07 - val_acc: 0.1023 - val_top_3: 0.0000e+00\n",
      "Epoch 88/100\n",
      "563/563 [==============================] - 2s 4ms/step - loss: 1.1921e-07 - acc: 0.0906 - top_3: 0.0000e+00 - val_loss: 1.1921e-07 - val_acc: 0.1023 - val_top_3: 0.0000e+00\n",
      "Epoch 89/100\n",
      "563/563 [==============================] - 3s 5ms/step - loss: 1.1921e-07 - acc: 0.0906 - top_3: 0.0000e+00 - val_loss: 1.1921e-07 - val_acc: 0.1023 - val_top_3: 0.0000e+00\n",
      "Epoch 90/100\n"
     ]
    },
    {
     "name": "stdout",
     "output_type": "stream",
     "text": [
      "563/563 [==============================] - 3s 5ms/step - loss: 1.1921e-07 - acc: 0.0906 - top_3: 0.0000e+00 - val_loss: 1.1921e-07 - val_acc: 0.1023 - val_top_3: 0.0000e+00\n",
      "Epoch 91/100\n",
      "563/563 [==============================] - 3s 4ms/step - loss: 1.1921e-07 - acc: 0.0906 - top_3: 0.0000e+00 - val_loss: 1.1921e-07 - val_acc: 0.1023 - val_top_3: 0.0000e+00\n",
      "Epoch 92/100\n",
      "563/563 [==============================] - 3s 5ms/step - loss: 1.1921e-07 - acc: 0.0906 - top_3: 0.0000e+00 - val_loss: 1.1921e-07 - val_acc: 0.1023 - val_top_3: 0.0000e+00\n",
      "Epoch 93/100\n",
      "563/563 [==============================] - 3s 5ms/step - loss: 1.1921e-07 - acc: 0.0906 - top_3: 0.0000e+00 - val_loss: 1.1921e-07 - val_acc: 0.1023 - val_top_3: 0.0000e+00\n",
      "Epoch 94/100\n",
      "563/563 [==============================] - 2s 4ms/step - loss: 1.1921e-07 - acc: 0.0906 - top_3: 0.0000e+00 - val_loss: 1.1921e-07 - val_acc: 0.1023 - val_top_3: 0.0000e+00\n",
      "Epoch 95/100\n",
      "563/563 [==============================] - 2s 3ms/step - loss: 1.1921e-07 - acc: 0.0906 - top_3: 0.0000e+00 - val_loss: 1.1921e-07 - val_acc: 0.1023 - val_top_3: 0.0000e+00\n",
      "Epoch 96/100\n",
      "563/563 [==============================] - 3s 5ms/step - loss: 1.1921e-07 - acc: 0.0906 - top_3: 0.0000e+00 - val_loss: 1.1921e-07 - val_acc: 0.1023 - val_top_3: 0.0000e+00\n",
      "Epoch 97/100\n",
      "563/563 [==============================] - 2s 4ms/step - loss: 1.1921e-07 - acc: 0.0906 - top_3: 0.0000e+00 - val_loss: 1.1921e-07 - val_acc: 0.1023 - val_top_3: 0.0000e+00\n",
      "Epoch 98/100\n",
      "563/563 [==============================] - 3s 5ms/step - loss: 1.1921e-07 - acc: 0.0906 - top_3: 0.0000e+00 - val_loss: 1.1921e-07 - val_acc: 0.1023 - val_top_3: 0.0000e+00\n",
      "Epoch 99/100\n",
      "563/563 [==============================] - 3s 5ms/step - loss: 1.1921e-07 - acc: 0.0906 - top_3: 0.0000e+00 - val_loss: 1.1921e-07 - val_acc: 0.1023 - val_top_3: 0.0000e+00\n",
      "Epoch 100/100\n",
      "563/563 [==============================] - 3s 4ms/step - loss: 1.1921e-07 - acc: 0.0906 - top_3: 0.0000e+00 - val_loss: 1.1921e-07 - val_acc: 0.1023 - val_top_3: 0.0000e+00\n"
     ]
    },
    {
     "data": {
      "text/plain": [
       "<keras.callbacks.History at 0x7f3c9f20c390>"
      ]
     },
     "execution_count": 95,
     "metadata": {},
     "output_type": "execute_result"
    }
   ],
   "source": [
    "rnn.fit(X_train_2_predictions, Y_train_rnn_2, validation_data=(X_valid_predictions, Y_valid_rnn), epochs=100)"
   ]
  }
 ],
 "metadata": {
  "kernelspec": {
   "display_name": "Python 3",
   "language": "python",
   "name": "python3"
  },
  "language_info": {
   "codemirror_mode": {
    "name": "ipython",
    "version": 3
   },
   "file_extension": ".py",
   "mimetype": "text/x-python",
   "name": "python",
   "nbconvert_exporter": "python",
   "pygments_lexer": "ipython3",
   "version": "3.5.2"
  }
 },
 "nbformat": 4,
 "nbformat_minor": 2
}
