{
 "cells": [
  {
   "cell_type": "code",
   "execution_count": 1,
   "metadata": {},
   "outputs": [
    {
     "name": "stderr",
     "output_type": "stream",
     "text": [
      "/usr/local/lib/python3.5/dist-packages/h5py/__init__.py:36: FutureWarning: Conversion of the second argument of issubdtype from `float` to `np.floating` is deprecated. In future, it will be treated as `np.float64 == np.dtype(float).type`.\n",
      "  from ._conv import register_converters as _register_converters\n",
      "Using TensorFlow backend.\n"
     ]
    }
   ],
   "source": [
    "import numpy as np\n",
    "import os\n",
    "import random\n",
    "from os.path import join\n",
    "from keras import layers\n",
    "from keras.models import Sequential\n",
    "from keras.layers import Conv2D, Dense, GlobalAveragePooling2D, Dropout, Flatten, Activation, TimeDistributed, LSTM\n",
    "from keras.utils import to_categorical\n",
    "from keras_utils import set_keras_session\n",
    "from inception_generators import frames_generator_rnn\n",
    "from plot_utils import plot_history"
   ]
  },
  {
   "cell_type": "code",
   "execution_count": 2,
   "metadata": {},
   "outputs": [],
   "source": [
    "set_keras_session()\n",
    "dataset = 'UCF11'\n",
    "nb_classes = int(dataset[3:])"
   ]
  },
  {
   "cell_type": "code",
   "execution_count": 9,
   "metadata": {},
   "outputs": [],
   "source": [
    "frame_number = 50\n",
    "width = 320\n",
    "height = 240\n",
    "channels = 3\n",
    "\n",
    "dataset_dir = join('datasets', dataset, ('separate_frames_{}_h_{}_w_{}_inception').format(frame_number, height, width))\n",
    "\n",
    "sequence_shape = (frame_number, height, width, channels)"
   ]
  },
  {
   "cell_type": "code",
   "execution_count": 10,
   "metadata": {},
   "outputs": [],
   "source": [
    "from keras.applications.inception_v3 import InceptionV3\n",
    "from keras.applications.densenet import DenseNet121\n",
    "from keras.models import Model\n",
    "from keras import backend as K\n",
    "\n",
    "def build_model():\n",
    "    # create the base pre-trained model\n",
    "       \n",
    "    rnn = Sequential()\n",
    "    rnn.add(LSTM(512, input_shape=(frame_number, 2048)))\n",
    "    rnn.add(Dense(512, activation='relu'))\n",
    "    rnn.add(Dropout(0.5))\n",
    "    rnn.add(Dense(nb_classes, activation='softmax'))\n",
    "\n",
    "    return rnn"
   ]
  },
  {
   "cell_type": "code",
   "execution_count": 11,
   "metadata": {},
   "outputs": [],
   "source": [
    "batch_size = 1\n",
    "\n",
    "train_generator = frames_generator_rnn(dataset_dir, 'train', batch_size)\n",
    "valid_generator = frames_generator_rnn(dataset_dir, 'valid', batch_size)\n",
    "train_step = next(train_generator)\n",
    "valid_step = next(valid_generator)"
   ]
  },
  {
   "cell_type": "code",
   "execution_count": 12,
   "metadata": {},
   "outputs": [
    {
     "name": "stdout",
     "output_type": "stream",
     "text": [
      "_________________________________________________________________\n",
      "Layer (type)                 Output Shape              Param #   \n",
      "=================================================================\n",
      "lstm_2 (LSTM)                (None, 512)               5244928   \n",
      "_________________________________________________________________\n",
      "dense_3 (Dense)              (None, 512)               262656    \n",
      "_________________________________________________________________\n",
      "dropout_2 (Dropout)          (None, 512)               0         \n",
      "_________________________________________________________________\n",
      "dense_4 (Dense)              (None, 11)                5643      \n",
      "=================================================================\n",
      "Total params: 5,513,227\n",
      "Trainable params: 5,513,227\n",
      "Non-trainable params: 0\n",
      "_________________________________________________________________\n",
      "None\n"
     ]
    }
   ],
   "source": [
    "from keras import metrics\n",
    "from keras import callbacks\n",
    "from functools import partial\n",
    "\n",
    "top_3_k_categorical_accuracy = partial(metrics.top_k_categorical_accuracy, k=3)\n",
    "top_3_k_categorical_accuracy.__name__ = 'top_3'\n",
    "\n",
    "early_stopper = callbacks.EarlyStopping(patience=2)\n",
    "\n",
    "model = build_model()\n",
    "print(model.summary())\n",
    "model.compile(optimizer='adam', loss='categorical_crossentropy', \n",
    "              metrics=['accuracy', top_3_k_categorical_accuracy])"
   ]
  },
  {
   "cell_type": "code",
   "execution_count": 13,
   "metadata": {},
   "outputs": [],
   "source": [
    "def train_model(**kwargs):\n",
    "    return model.fit_generator(train_generator,\n",
    "                    steps_per_epoch=train_step, \n",
    "                    validation_data=valid_generator,\n",
    "                    validation_steps=valid_step,\n",
    "                    epochs=kwargs.get('epochs', 5))"
   ]
  },
  {
   "cell_type": "code",
   "execution_count": 14,
   "metadata": {},
   "outputs": [
    {
     "name": "stdout",
     "output_type": "stream",
     "text": [
      "Epoch 1/10\n",
      "1126/1126 [==============================] - 87s 77ms/step - loss: 2.1852 - acc: 0.2460 - top_3: 0.5027 - val_loss: 1.4419 - val_acc: 0.5522 - val_top_3: 0.8550\n",
      "Epoch 2/10\n",
      "1126/1126 [==============================] - 88s 78ms/step - loss: 1.2433 - acc: 0.5595 - top_3: 0.8677 - val_loss: 1.0085 - val_acc: 0.6930 - val_top_3: 0.9254\n",
      "Epoch 3/10\n",
      "1126/1126 [==============================] - 82s 73ms/step - loss: 0.8226 - acc: 0.7185 - top_3: 0.9440 - val_loss: 0.8932 - val_acc: 0.7036 - val_top_3: 0.9232\n",
      "Epoch 4/10\n",
      "1126/1126 [==============================] - 78s 70ms/step - loss: 0.6889 - acc: 0.7540 - top_3: 0.9663 - val_loss: 0.8126 - val_acc: 0.7207 - val_top_3: 0.9147\n",
      "Epoch 5/10\n",
      "1126/1126 [==============================] - 80s 71ms/step - loss: 0.5960 - acc: 0.7904 - top_3: 0.9769 - val_loss: 0.8649 - val_acc: 0.7420 - val_top_3: 0.9232\n",
      "Epoch 6/10\n",
      "1126/1126 [==============================] - 86s 77ms/step - loss: 0.5034 - acc: 0.8437 - top_3: 0.9742 - val_loss: 0.7862 - val_acc: 0.7356 - val_top_3: 0.9467\n",
      "Epoch 7/10\n",
      "1126/1126 [==============================] - 86s 76ms/step - loss: 0.5378 - acc: 0.8197 - top_3: 0.9734 - val_loss: 0.7981 - val_acc: 0.7420 - val_top_3: 0.9382\n",
      "Epoch 8/10\n",
      "1126/1126 [==============================] - 81s 72ms/step - loss: 0.4500 - acc: 0.8428 - top_3: 0.9840 - val_loss: 0.9887 - val_acc: 0.7420 - val_top_3: 0.9083\n",
      "Epoch 9/10\n",
      "1126/1126 [==============================] - 79s 70ms/step - loss: 0.3878 - acc: 0.8668 - top_3: 0.9831 - val_loss: 0.9864 - val_acc: 0.7122 - val_top_3: 0.9083\n",
      "Epoch 10/10\n",
      "1126/1126 [==============================] - 83s 74ms/step - loss: 0.3922 - acc: 0.8748 - top_3: 0.9858 - val_loss: 1.2094 - val_acc: 0.7441 - val_top_3: 0.9211\n"
     ]
    }
   ],
   "source": [
    "history = train_model(epochs=10, callbacks=[early_stopper])"
   ]
  },
  {
   "cell_type": "code",
   "execution_count": 15,
   "metadata": {},
   "outputs": [
    {
     "data": {
      "image/png": "[encoded data removed]",
      "text/plain": [
       "<matplotlib.figure.Figure at 0x7fa73d797be0>"
      ]
     },
     "metadata": {},
     "output_type": "display_data"
    }
   ],
   "source": [
    "plot_history(history)"
   ]
  },
  {
   "cell_type": "code",
   "execution_count": null,
   "metadata": {},
   "outputs": [],
   "source": []
  }
 ],
 "metadata": {
  "kernelspec": {
   "display_name": "Python 3",
   "language": "python",
   "name": "python3"
  },
  "language_info": {
   "codemirror_mode": {
    "name": "ipython",
    "version": 3
   },
   "file_extension": ".py",
   "mimetype": "text/x-python",
   "name": "python",
   "nbconvert_exporter": "python",
   "pygments_lexer": "ipython3",
   "version": "3.5.2"
  }
 },
 "nbformat": 4,
 "nbformat_minor": 2
}
