{
 "cells": [
  {
   "cell_type": "code",
   "execution_count": 1,
   "metadata": {},
   "outputs": [
    {
     "name": "stderr",
     "output_type": "stream",
     "text": [
      "/usr/local/lib/python3.5/dist-packages/h5py/__init__.py:36: FutureWarning: Conversion of the second argument of issubdtype from `float` to `np.floating` is deprecated. In future, it will be treated as `np.float64 == np.dtype(float).type`.\n",
      "  from ._conv import register_converters as _register_converters\n",
      "Using TensorFlow backend.\n"
     ]
    }
   ],
   "source": [
    "import numpy as np\n",
    "import os\n",
    "import random\n",
    "from os.path import join\n",
    "from keras import layers\n",
    "from keras.models import Sequential\n",
    "from keras.layers import Dense, Dropout, Activation, LSTM, Bidirectional, TimeDistributed, GRU, CuDNNGRU\n",
    "from keras.utils import to_categorical\n",
    "from keras_utils import set_keras_session\n",
    "from inception_generators import frames_generator_rnn, load_whole_dataset, sparse_frame_generator, extract_n_random_frames\n",
    "from plot_utils import plot_history"
   ]
  },
  {
   "cell_type": "code",
   "execution_count": 2,
   "metadata": {},
   "outputs": [],
   "source": [
    "set_keras_session()\n",
    "dataset = 'UCF11'\n",
    "nb_classes = int(dataset[3:])"
   ]
  },
  {
   "cell_type": "code",
   "execution_count": 3,
   "metadata": {},
   "outputs": [
    {
     "name": "stdout",
     "output_type": "stream",
     "text": [
      "(1126, 50, 2048)\n"
     ]
    }
   ],
   "source": [
    "frame_number = 50\n",
    "width = 320\n",
    "height = 240\n",
    "channels = 3\n",
    "padding = None\n",
    "\n",
    "dataset_name= 'separate_frames_{}_h_{}_w_{}_inception'.format(frame_number, height, width)\n",
    "if padding is not None:\n",
    "    dataset_name += '_padding_{}'.format(padding)\n",
    "\n",
    "\n",
    "dataset_dir = join('datasets', dataset, dataset_name)\n",
    "(X_train, Y_train), (X_valid, Y_valid) = list(load_whole_dataset(dataset_dir, 'rnn', ['train', 'valid']))\n",
    "sequence_shape = (frame_number, height, width, channels)\n",
    "print(X_train.shape)\n",
    "\n",
    "batch_size = 64\n",
    "epochs = 100\n",
    "sparse_gen = sparse_frame_generator(X_train, Y_train, 30, batch_size)\n",
    "X_valid = np.array([extract_n_random_frames(video, 30) for video in X_valid])"
   ]
  },
  {
   "cell_type": "code",
   "execution_count": 4,
   "metadata": {},
   "outputs": [],
   "source": [
    "from keras.applications.inception_v3 import InceptionV3\n",
    "from keras.applications.densenet import DenseNet121\n",
    "from keras.models import Model\n",
    "from keras import backend as K\n",
    "from keras import regularizers\n",
    "from keras.layers import Lambda\n",
    "\n",
    "\n",
    "l1l2 = regularizers.L1L2(l1=0.0, l2=0.01)\n",
    "\n",
    "def build_model():\n",
    "       \n",
    "    rnn = Sequential()\n",
    "    rnn.add(Dropout(0.4, input_shape=(X_valid.shape[1:])))\n",
    "    rnn.add(LSTM(64, return_sequences=True, input_shape=(X_valid.shape[1:]), dropout=0.3, recurrent_dropout=0.2))\n",
    "    rnn.add(Lambda(lambda x: K.mean(x, axis=1)))\n",
    "    rnn.add(Dense(128, activation='relu'))\n",
    "    rnn.add(Dropout(0.4))\n",
    "    rnn.add(Dense(nb_classes, activation='softmax'))\n",
    "\n",
    "    return rnn\n",
    "\n",
    "\n",
    "def build_model_stacked():\n",
    "       \n",
    "    rnn = Sequential()\n",
    "    rnn.add(LSTM(512, input_shape=(X_valid.shape[1:]), recurrent_dropout=0.2, return_sequences=True))\n",
    "    rnn.add(LSTM(128, input_shape=(X_valid.shape[1:])))\n",
    "    #rnn.add(Dense(128, activation='relu'))\n",
    "    rnn.add(Dropout(0.5))\n",
    "    rnn.add(Dense(nb_classes, activation='softmax'))\n",
    "\n",
    "    return rnn"
   ]
  },
  {
   "cell_type": "code",
   "execution_count": 5,
   "metadata": {
    "scrolled": true
   },
   "outputs": [
    {
     "name": "stdout",
     "output_type": "stream",
     "text": [
      "_________________________________________________________________\n",
      "Layer (type)                 Output Shape              Param #   \n",
      "=================================================================\n",
      "dropout_1 (Dropout)          (None, 30, 2048)          0         \n",
      "_________________________________________________________________\n",
      "lstm_1 (LSTM)                (None, 30, 64)            540928    \n",
      "_________________________________________________________________\n",
      "lambda_1 (Lambda)            (None, 64)                0         \n",
      "_________________________________________________________________\n",
      "dense_1 (Dense)              (None, 128)               8320      \n",
      "_________________________________________________________________\n",
      "dropout_2 (Dropout)          (None, 128)               0         \n",
      "_________________________________________________________________\n",
      "dense_2 (Dense)              (None, 11)                1419      \n",
      "=================================================================\n",
      "Total params: 550,667\n",
      "Trainable params: 550,667\n",
      "Non-trainable params: 0\n",
      "_________________________________________________________________\n",
      "None\n"
     ]
    }
   ],
   "source": [
    "from keras import metrics, callbacks, optimizers\n",
    "from functools import partial\n",
    "\n",
    "top_3_k_categorical_accuracy = partial(metrics.top_k_categorical_accuracy, k=3)\n",
    "top_3_k_categorical_accuracy.__name__ = 'top_3'\n",
    "\n",
    "early_stopper = callbacks.EarlyStopping(patience=5)\n",
    "reduce_lr = callbacks.ReduceLROnPlateau(patience=5, factor=0.75)\n",
    "\n",
    "model = build_model()\n",
    "print(model.summary())\n",
    "\n",
    "sgd = optimizers.SGD(momentum=0.9, nesterov=True, lr=0.001)\n",
    "# sgd = optimizers.SGD(momentum=0.9, lr=0.001)\n",
    "adam = optimizers.Adam(lr=0.0001)\n",
    "\n",
    "model.compile(optimizer=sgd, loss='categorical_crossentropy', \n",
    "              metrics=['accuracy', top_3_k_categorical_accuracy])"
   ]
  },
  {
   "cell_type": "code",
   "execution_count": 6,
   "metadata": {},
   "outputs": [
    {
     "name": "stdout",
     "output_type": "stream",
     "text": [
      "Epoch 1/100\n",
      "17/17 [==============================] - 1s 87ms/step - loss: 2.3957 - acc: 0.1140 - top_3: 0.2987 - val_loss: 2.3550 - val_acc: 0.1194 - val_top_3: 0.3966\n",
      "Epoch 2/100\n",
      "17/17 [==============================] - 1s 49ms/step - loss: 2.3600 - acc: 0.1388 - top_3: 0.3667 - val_loss: 2.2938 - val_acc: 0.2729 - val_top_3: 0.5800\n",
      "Epoch 3/100\n",
      "17/17 [==============================] - 1s 50ms/step - loss: 2.3117 - acc: 0.1820 - top_3: 0.4504 - val_loss: 2.2393 - val_acc: 0.3646 - val_top_3: 0.6503\n",
      "Epoch 4/100\n",
      "17/17 [==============================] - 1s 49ms/step - loss: 2.2631 - acc: 0.2730 - top_3: 0.5175 - val_loss: 2.1865 - val_acc: 0.4222 - val_top_3: 0.6695\n",
      "Epoch 5/100\n",
      "17/17 [==============================] - 1s 49ms/step - loss: 2.2168 - acc: 0.2803 - top_3: 0.5506 - val_loss: 2.1222 - val_acc: 0.4584 - val_top_3: 0.6951\n",
      "Epoch 6/100\n",
      "17/17 [==============================] - 1s 50ms/step - loss: 2.1543 - acc: 0.3336 - top_3: 0.6158 - val_loss: 2.0505 - val_acc: 0.4904 - val_top_3: 0.7356\n",
      "Epoch 7/100\n",
      "17/17 [==============================] - 1s 49ms/step - loss: 2.1129 - acc: 0.3612 - top_3: 0.6471 - val_loss: 1.9759 - val_acc: 0.5011 - val_top_3: 0.7505\n",
      "Epoch 8/100\n",
      "17/17 [==============================] - 1s 48ms/step - loss: 2.0490 - acc: 0.3906 - top_3: 0.6553 - val_loss: 1.8882 - val_acc: 0.5309 - val_top_3: 0.7505\n",
      "Epoch 9/100\n",
      "17/17 [==============================] - 1s 50ms/step - loss: 1.9954 - acc: 0.4154 - top_3: 0.6847 - val_loss: 1.7933 - val_acc: 0.5778 - val_top_3: 0.7825\n",
      "Epoch 10/100\n",
      "17/17 [==============================] - 1s 49ms/step - loss: 1.9145 - acc: 0.4614 - top_3: 0.7050 - val_loss: 1.7009 - val_acc: 0.5906 - val_top_3: 0.8081\n",
      "Epoch 11/100\n",
      "17/17 [==============================] - 1s 46ms/step - loss: 1.8012 - acc: 0.4963 - top_3: 0.7665 - val_loss: 1.6133 - val_acc: 0.6077 - val_top_3: 0.8380\n",
      "Epoch 12/100\n",
      "17/17 [==============================] - 1s 48ms/step - loss: 1.7059 - acc: 0.5358 - top_3: 0.7932 - val_loss: 1.5018 - val_acc: 0.6247 - val_top_3: 0.8657\n",
      "Epoch 13/100\n",
      "17/17 [==============================] - 1s 48ms/step - loss: 1.6227 - acc: 0.5551 - top_3: 0.7950 - val_loss: 1.4091 - val_acc: 0.6418 - val_top_3: 0.8806\n",
      "Epoch 14/100\n",
      "17/17 [==============================] - 1s 50ms/step - loss: 1.5413 - acc: 0.5561 - top_3: 0.8254 - val_loss: 1.3171 - val_acc: 0.6546 - val_top_3: 0.8913\n",
      "Epoch 15/100\n",
      "17/17 [==============================] - 1s 49ms/step - loss: 1.4480 - acc: 0.6029 - top_3: 0.8640 - val_loss: 1.2338 - val_acc: 0.6780 - val_top_3: 0.9062\n",
      "Epoch 16/100\n",
      "17/17 [==============================] - 1s 52ms/step - loss: 1.3730 - acc: 0.6434 - top_3: 0.8713 - val_loss: 1.1625 - val_acc: 0.7015 - val_top_3: 0.8977\n",
      "Epoch 17/100\n",
      "17/17 [==============================] - 1s 49ms/step - loss: 1.2864 - acc: 0.6581 - top_3: 0.8998 - val_loss: 1.1034 - val_acc: 0.7015 - val_top_3: 0.9083\n",
      "Epoch 18/100\n",
      "17/17 [==============================] - 1s 50ms/step - loss: 1.1948 - acc: 0.6489 - top_3: 0.9062 - val_loss: 1.0210 - val_acc: 0.6994 - val_top_3: 0.9232\n",
      "Epoch 19/100\n",
      "17/17 [==============================] - 1s 49ms/step - loss: 1.1576 - acc: 0.6801 - top_3: 0.8989 - val_loss: 0.9646 - val_acc: 0.7079 - val_top_3: 0.9254\n",
      "Epoch 20/100\n",
      "17/17 [==============================] - 1s 48ms/step - loss: 1.1073 - acc: 0.6893 - top_3: 0.9154 - val_loss: 0.9285 - val_acc: 0.7377 - val_top_3: 0.9275\n",
      "Epoch 21/100\n",
      "17/17 [==============================] - 1s 49ms/step - loss: 1.0091 - acc: 0.7270 - top_3: 0.9347 - val_loss: 0.8841 - val_acc: 0.7271 - val_top_3: 0.9318\n",
      "Epoch 22/100\n",
      "17/17 [==============================] - 1s 48ms/step - loss: 1.0136 - acc: 0.7178 - top_3: 0.9219 - val_loss: 0.8158 - val_acc: 0.7655 - val_top_3: 0.9318\n",
      "Epoch 23/100\n",
      "17/17 [==============================] - 1s 50ms/step - loss: 0.9604 - acc: 0.7224 - top_3: 0.9467 - val_loss: 0.7962 - val_acc: 0.7591 - val_top_3: 0.9318\n",
      "Epoch 24/100\n",
      "17/17 [==============================] - 1s 49ms/step - loss: 0.9038 - acc: 0.7408 - top_3: 0.9467 - val_loss: 0.7600 - val_acc: 0.7846 - val_top_3: 0.9382\n",
      "Epoch 25/100\n",
      "17/17 [==============================] - 1s 49ms/step - loss: 0.8812 - acc: 0.7564 - top_3: 0.9430 - val_loss: 0.7470 - val_acc: 0.7910 - val_top_3: 0.9339\n",
      "Epoch 26/100\n",
      "17/17 [==============================] - 1s 49ms/step - loss: 0.8110 - acc: 0.7794 - top_3: 0.9504 - val_loss: 0.7070 - val_acc: 0.8102 - val_top_3: 0.9339\n",
      "Epoch 27/100\n",
      "17/17 [==============================] - 1s 49ms/step - loss: 0.8078 - acc: 0.7711 - top_3: 0.9577 - val_loss: 0.6610 - val_acc: 0.8060 - val_top_3: 0.9574\n",
      "Epoch 28/100\n",
      "17/17 [==============================] - 1s 49ms/step - loss: 0.6935 - acc: 0.7978 - top_3: 0.9678 - val_loss: 0.6676 - val_acc: 0.7825 - val_top_3: 0.9403\n",
      "Epoch 29/100\n",
      "17/17 [==============================] - 1s 49ms/step - loss: 0.7161 - acc: 0.8015 - top_3: 0.9651 - val_loss: 0.6357 - val_acc: 0.8081 - val_top_3: 0.9531\n",
      "Epoch 30/100\n",
      "17/17 [==============================] - 1s 50ms/step - loss: 0.6955 - acc: 0.8088 - top_3: 0.9678 - val_loss: 0.6016 - val_acc: 0.8081 - val_top_3: 0.9574\n",
      "Epoch 31/100\n",
      "17/17 [==============================] - 1s 50ms/step - loss: 0.6229 - acc: 0.8465 - top_3: 0.9697 - val_loss: 0.5869 - val_acc: 0.8166 - val_top_3: 0.9552\n",
      "Epoch 32/100\n",
      "17/17 [==============================] - 1s 50ms/step - loss: 0.6133 - acc: 0.8410 - top_3: 0.9715 - val_loss: 0.5752 - val_acc: 0.8230 - val_top_3: 0.9595\n",
      "Epoch 33/100\n",
      "17/17 [==============================] - 1s 49ms/step - loss: 0.5994 - acc: 0.8235 - top_3: 0.9752 - val_loss: 0.5777 - val_acc: 0.8294 - val_top_3: 0.9574\n",
      "Epoch 34/100\n",
      "17/17 [==============================] - 1s 50ms/step - loss: 0.5637 - acc: 0.8428 - top_3: 0.9770 - val_loss: 0.5544 - val_acc: 0.8337 - val_top_3: 0.9616\n",
      "Epoch 35/100\n",
      "17/17 [==============================] - 1s 50ms/step - loss: 0.5623 - acc: 0.8465 - top_3: 0.9835 - val_loss: 0.5388 - val_acc: 0.8337 - val_top_3: 0.9680\n",
      "Epoch 36/100\n",
      "17/17 [==============================] - 1s 48ms/step - loss: 0.5216 - acc: 0.8640 - top_3: 0.9871 - val_loss: 0.5287 - val_acc: 0.8337 - val_top_3: 0.9616\n",
      "Epoch 37/100\n",
      "17/17 [==============================] - 1s 49ms/step - loss: 0.5510 - acc: 0.8493 - top_3: 0.9743 - val_loss: 0.5288 - val_acc: 0.8380 - val_top_3: 0.9659\n",
      "Epoch 38/100\n",
      "17/17 [==============================] - 1s 50ms/step - loss: 0.5342 - acc: 0.8447 - top_3: 0.9761 - val_loss: 0.5127 - val_acc: 0.8358 - val_top_3: 0.9638\n",
      "Epoch 39/100\n",
      "17/17 [==============================] - 1s 50ms/step - loss: 0.4846 - acc: 0.8713 - top_3: 0.9871 - val_loss: 0.5055 - val_acc: 0.8443 - val_top_3: 0.9744\n",
      "Epoch 40/100\n",
      "17/17 [==============================] - 1s 50ms/step - loss: 0.4992 - acc: 0.8557 - top_3: 0.9798 - val_loss: 0.5026 - val_acc: 0.8380 - val_top_3: 0.9701\n",
      "Epoch 41/100\n",
      "17/17 [==============================] - 1s 49ms/step - loss: 0.4623 - acc: 0.8805 - top_3: 0.9853 - val_loss: 0.4962 - val_acc: 0.8337 - val_top_3: 0.9659\n",
      "Epoch 42/100\n",
      "17/17 [==============================] - 1s 50ms/step - loss: 0.4499 - acc: 0.8704 - top_3: 0.9825 - val_loss: 0.4787 - val_acc: 0.8486 - val_top_3: 0.9744\n",
      "Epoch 43/100\n",
      "17/17 [==============================] - 1s 49ms/step - loss: 0.4731 - acc: 0.8585 - top_3: 0.9871 - val_loss: 0.4708 - val_acc: 0.8571 - val_top_3: 0.9701\n",
      "Epoch 44/100\n",
      "17/17 [==============================] - 1s 50ms/step - loss: 0.4263 - acc: 0.8722 - top_3: 0.9881 - val_loss: 0.4504 - val_acc: 0.8699 - val_top_3: 0.9744\n",
      "Epoch 45/100\n",
      "17/17 [==============================] - 1s 49ms/step - loss: 0.3800 - acc: 0.8998 - top_3: 0.9871 - val_loss: 0.4663 - val_acc: 0.8571 - val_top_3: 0.9765\n",
      "Epoch 46/100\n",
      "17/17 [==============================] - 1s 50ms/step - loss: 0.3995 - acc: 0.8915 - top_3: 0.9890 - val_loss: 0.4809 - val_acc: 0.8337 - val_top_3: 0.9723\n",
      "Epoch 47/100\n",
      "17/17 [==============================] - 1s 49ms/step - loss: 0.3884 - acc: 0.8952 - top_3: 0.9890 - val_loss: 0.4369 - val_acc: 0.8635 - val_top_3: 0.9744\n",
      "Epoch 48/100\n",
      "17/17 [==============================] - 1s 50ms/step - loss: 0.3802 - acc: 0.8906 - top_3: 0.9917 - val_loss: 0.4657 - val_acc: 0.8507 - val_top_3: 0.9723\n",
      "Epoch 49/100\n"
     ]
    },
    {
     "name": "stdout",
     "output_type": "stream",
     "text": [
      "17/17 [==============================] - 1s 50ms/step - loss: 0.3467 - acc: 0.9035 - top_3: 0.9926 - val_loss: 0.4715 - val_acc: 0.8507 - val_top_3: 0.9787\n",
      "Epoch 50/100\n",
      "17/17 [==============================] - 1s 49ms/step - loss: 0.3261 - acc: 0.9182 - top_3: 0.9862 - val_loss: 0.4293 - val_acc: 0.8678 - val_top_3: 0.9744\n",
      "Epoch 51/100\n",
      "17/17 [==============================] - 1s 51ms/step - loss: 0.3235 - acc: 0.9228 - top_3: 0.9926 - val_loss: 0.4272 - val_acc: 0.8763 - val_top_3: 0.9744\n",
      "Epoch 52/100\n",
      "17/17 [==============================] - 1s 49ms/step - loss: 0.3142 - acc: 0.9219 - top_3: 0.9890 - val_loss: 0.4257 - val_acc: 0.8827 - val_top_3: 0.9744\n",
      "Epoch 53/100\n",
      "17/17 [==============================] - 1s 49ms/step - loss: 0.3124 - acc: 0.9200 - top_3: 0.9917 - val_loss: 0.4348 - val_acc: 0.8699 - val_top_3: 0.9744\n",
      "Epoch 54/100\n",
      "17/17 [==============================] - 1s 49ms/step - loss: 0.2973 - acc: 0.9210 - top_3: 0.9936 - val_loss: 0.4377 - val_acc: 0.8571 - val_top_3: 0.9723\n",
      "Epoch 55/100\n",
      "17/17 [==============================] - 1s 48ms/step - loss: 0.2906 - acc: 0.9237 - top_3: 0.9963 - val_loss: 0.4340 - val_acc: 0.8721 - val_top_3: 0.9765\n",
      "Epoch 56/100\n",
      "17/17 [==============================] - 1s 50ms/step - loss: 0.2928 - acc: 0.9292 - top_3: 0.9972 - val_loss: 0.4074 - val_acc: 0.8806 - val_top_3: 0.9808\n",
      "Epoch 57/100\n",
      "17/17 [==============================] - 1s 49ms/step - loss: 0.2941 - acc: 0.9118 - top_3: 0.9954 - val_loss: 0.4160 - val_acc: 0.8806 - val_top_3: 0.9744\n",
      "Epoch 58/100\n",
      "17/17 [==============================] - 1s 51ms/step - loss: 0.2887 - acc: 0.9256 - top_3: 0.9945 - val_loss: 0.4059 - val_acc: 0.8827 - val_top_3: 0.9765\n",
      "Epoch 59/100\n",
      "17/17 [==============================] - 1s 49ms/step - loss: 0.2756 - acc: 0.9301 - top_3: 0.9945 - val_loss: 0.4224 - val_acc: 0.8849 - val_top_3: 0.9808\n",
      "Epoch 60/100\n",
      "17/17 [==============================] - 1s 50ms/step - loss: 0.2643 - acc: 0.9329 - top_3: 0.9954 - val_loss: 0.4031 - val_acc: 0.8699 - val_top_3: 0.9787\n",
      "Epoch 61/100\n",
      "17/17 [==============================] - 1s 51ms/step - loss: 0.2788 - acc: 0.9191 - top_3: 0.9954 - val_loss: 0.3969 - val_acc: 0.8785 - val_top_3: 0.9829\n",
      "Epoch 62/100\n",
      "17/17 [==============================] - 1s 49ms/step - loss: 0.2429 - acc: 0.9338 - top_3: 0.9991 - val_loss: 0.3884 - val_acc: 0.8891 - val_top_3: 0.9808\n",
      "Epoch 63/100\n",
      "17/17 [==============================] - 1s 49ms/step - loss: 0.2601 - acc: 0.9347 - top_3: 0.9917 - val_loss: 0.4056 - val_acc: 0.8870 - val_top_3: 0.9723\n",
      "Epoch 64/100\n",
      "17/17 [==============================] - 1s 49ms/step - loss: 0.2837 - acc: 0.9182 - top_3: 0.9945 - val_loss: 0.4096 - val_acc: 0.8849 - val_top_3: 0.9808\n",
      "Epoch 65/100\n",
      "17/17 [==============================] - 1s 48ms/step - loss: 0.2895 - acc: 0.9173 - top_3: 0.9954 - val_loss: 0.4286 - val_acc: 0.8742 - val_top_3: 0.9723\n",
      "Epoch 66/100\n",
      "17/17 [==============================] - 1s 49ms/step - loss: 0.2388 - acc: 0.9329 - top_3: 0.9963 - val_loss: 0.4133 - val_acc: 0.8891 - val_top_3: 0.9787\n",
      "Epoch 67/100\n",
      "17/17 [==============================] - 1s 48ms/step - loss: 0.2161 - acc: 0.9449 - top_3: 0.9936 - val_loss: 0.4029 - val_acc: 0.8913 - val_top_3: 0.9851\n",
      "Epoch 68/100\n",
      "17/17 [==============================] - 1s 49ms/step - loss: 0.2233 - acc: 0.9439 - top_3: 0.9982 - val_loss: 0.3897 - val_acc: 0.8934 - val_top_3: 0.9808\n",
      "Epoch 69/100\n",
      "17/17 [==============================] - 1s 49ms/step - loss: 0.2176 - acc: 0.9467 - top_3: 0.9972 - val_loss: 0.3951 - val_acc: 0.8913 - val_top_3: 0.9765\n",
      "Epoch 70/100\n",
      "17/17 [==============================] - 1s 50ms/step - loss: 0.2069 - acc: 0.9513 - top_3: 0.9972 - val_loss: 0.4010 - val_acc: 0.8785 - val_top_3: 0.9808\n",
      "Epoch 71/100\n",
      "17/17 [==============================] - 1s 49ms/step - loss: 0.2057 - acc: 0.9476 - top_3: 0.9954 - val_loss: 0.4079 - val_acc: 0.8763 - val_top_3: 0.9787\n",
      "Epoch 72/100\n",
      "17/17 [==============================] - 1s 49ms/step - loss: 0.2141 - acc: 0.9458 - top_3: 0.9954 - val_loss: 0.3963 - val_acc: 0.8870 - val_top_3: 0.9765\n",
      "Epoch 73/100\n",
      "17/17 [==============================] - 1s 48ms/step - loss: 0.1920 - acc: 0.9550 - top_3: 0.9982 - val_loss: 0.4136 - val_acc: 0.8870 - val_top_3: 0.9829\n",
      "Epoch 74/100\n",
      "17/17 [==============================] - 1s 51ms/step - loss: 0.2055 - acc: 0.9522 - top_3: 0.9963 - val_loss: 0.4262 - val_acc: 0.8806 - val_top_3: 0.9765\n",
      "Epoch 75/100\n",
      "17/17 [==============================] - 1s 49ms/step - loss: 0.2064 - acc: 0.9449 - top_3: 0.9945 - val_loss: 0.3976 - val_acc: 0.8870 - val_top_3: 0.9808\n",
      "Epoch 76/100\n",
      "17/17 [==============================] - 1s 48ms/step - loss: 0.1759 - acc: 0.9577 - top_3: 0.9982 - val_loss: 0.4062 - val_acc: 0.8870 - val_top_3: 0.9851\n",
      "Epoch 77/100\n",
      "17/17 [==============================] - 1s 49ms/step - loss: 0.1908 - acc: 0.9568 - top_3: 0.9972 - val_loss: 0.4142 - val_acc: 0.8827 - val_top_3: 0.9829\n",
      "Epoch 78/100\n",
      "17/17 [==============================] - 1s 49ms/step - loss: 0.1823 - acc: 0.9513 - top_3: 0.9963 - val_loss: 0.4194 - val_acc: 0.8913 - val_top_3: 0.9808\n",
      "Epoch 79/100\n",
      "17/17 [==============================] - 1s 49ms/step - loss: 0.1698 - acc: 0.9623 - top_3: 0.9963 - val_loss: 0.4090 - val_acc: 0.8913 - val_top_3: 0.9787\n",
      "Epoch 80/100\n",
      "17/17 [==============================] - 1s 51ms/step - loss: 0.1899 - acc: 0.9467 - top_3: 0.9972 - val_loss: 0.3976 - val_acc: 0.8913 - val_top_3: 0.9744\n",
      "Epoch 81/100\n",
      "17/17 [==============================] - 1s 50ms/step - loss: 0.1648 - acc: 0.9559 - top_3: 0.9972 - val_loss: 0.3706 - val_acc: 0.8977 - val_top_3: 0.9872\n",
      "Epoch 82/100\n",
      "17/17 [==============================] - 1s 50ms/step - loss: 0.1799 - acc: 0.9559 - top_3: 0.9963 - val_loss: 0.3721 - val_acc: 0.9019 - val_top_3: 0.9872\n",
      "Epoch 83/100\n",
      "17/17 [==============================] - 1s 49ms/step - loss: 0.1831 - acc: 0.9476 - top_3: 0.9972 - val_loss: 0.3898 - val_acc: 0.8934 - val_top_3: 0.9829\n",
      "Epoch 84/100\n",
      "17/17 [==============================] - 1s 50ms/step - loss: 0.1575 - acc: 0.9596 - top_3: 0.9991 - val_loss: 0.3877 - val_acc: 0.8977 - val_top_3: 0.9808\n",
      "Epoch 85/100\n",
      "17/17 [==============================] - 1s 48ms/step - loss: 0.1617 - acc: 0.9697 - top_3: 0.9972 - val_loss: 0.3676 - val_acc: 0.9019 - val_top_3: 0.9829\n",
      "Epoch 86/100\n",
      "17/17 [==============================] - 1s 49ms/step - loss: 0.1481 - acc: 0.9614 - top_3: 0.9954 - val_loss: 0.4039 - val_acc: 0.8934 - val_top_3: 0.9808\n",
      "Epoch 87/100\n",
      "17/17 [==============================] - 1s 50ms/step - loss: 0.1640 - acc: 0.9513 - top_3: 0.9963 - val_loss: 0.3978 - val_acc: 0.8955 - val_top_3: 0.9829\n",
      "Epoch 88/100\n",
      "17/17 [==============================] - 1s 50ms/step - loss: 0.1374 - acc: 0.9724 - top_3: 0.9991 - val_loss: 0.3918 - val_acc: 0.8934 - val_top_3: 0.9872\n",
      "Epoch 89/100\n",
      "17/17 [==============================] - 1s 51ms/step - loss: 0.1366 - acc: 0.9733 - top_3: 0.9972 - val_loss: 0.3924 - val_acc: 0.9019 - val_top_3: 0.9829\n",
      "Epoch 90/100\n",
      "17/17 [==============================] - 1s 49ms/step - loss: 0.1687 - acc: 0.9550 - top_3: 0.9954 - val_loss: 0.4265 - val_acc: 0.8870 - val_top_3: 0.9851\n",
      "Epoch 91/100\n",
      "17/17 [==============================] - 1s 49ms/step - loss: 0.1387 - acc: 0.9688 - top_3: 0.9972 - val_loss: 0.4227 - val_acc: 0.8806 - val_top_3: 0.9829\n",
      "Epoch 92/100\n",
      "17/17 [==============================] - 1s 50ms/step - loss: 0.1385 - acc: 0.9623 - top_3: 0.9982 - val_loss: 0.3858 - val_acc: 0.9041 - val_top_3: 0.9872\n",
      "Epoch 93/100\n",
      "17/17 [==============================] - 1s 50ms/step - loss: 0.1310 - acc: 0.9706 - top_3: 0.9991 - val_loss: 0.3886 - val_acc: 0.8998 - val_top_3: 0.9829\n",
      "Epoch 94/100\n",
      "17/17 [==============================] - 1s 50ms/step - loss: 0.1112 - acc: 0.9752 - top_3: 0.9991 - val_loss: 0.4130 - val_acc: 0.8827 - val_top_3: 0.9851\n",
      "Epoch 95/100\n",
      "17/17 [==============================] - 1s 50ms/step - loss: 0.1430 - acc: 0.9577 - top_3: 0.9982 - val_loss: 0.4311 - val_acc: 0.8870 - val_top_3: 0.9765\n",
      "Epoch 96/100\n",
      "17/17 [==============================] - 1s 49ms/step - loss: 0.1382 - acc: 0.9706 - top_3: 0.9972 - val_loss: 0.4174 - val_acc: 0.8891 - val_top_3: 0.9851\n",
      "Epoch 97/100\n"
     ]
    },
    {
     "name": "stdout",
     "output_type": "stream",
     "text": [
      "17/17 [==============================] - 1s 50ms/step - loss: 0.1303 - acc: 0.9697 - top_3: 0.9991 - val_loss: 0.4131 - val_acc: 0.8806 - val_top_3: 0.9808\n",
      "Epoch 98/100\n",
      "17/17 [==============================] - 1s 50ms/step - loss: 0.1344 - acc: 0.9623 - top_3: 0.9982 - val_loss: 0.4219 - val_acc: 0.8934 - val_top_3: 0.9829\n",
      "Epoch 99/100\n",
      "17/17 [==============================] - 1s 50ms/step - loss: 0.1339 - acc: 0.9632 - top_3: 1.0000 - val_loss: 0.4149 - val_acc: 0.8977 - val_top_3: 0.9851\n",
      "Epoch 100/100\n",
      "17/17 [==============================] - 1s 50ms/step - loss: 0.1310 - acc: 0.9789 - top_3: 0.9982 - val_loss: 0.4028 - val_acc: 0.8977 - val_top_3: 0.9851\n"
     ]
    }
   ],
   "source": [
    "# history = model.fit(X_train, Y_train, validation_data=(X_valid, Y_valid), \n",
    "#           batch_size=64, epochs=500)\n",
    "\n",
    "history = model.fit_generator(sparse_gen, steps_per_epoch=len(X_train)//batch_size, validation_data=(X_valid, Y_valid), epochs=epochs)"
   ]
  },
  {
   "cell_type": "code",
   "execution_count": 7,
   "metadata": {},
   "outputs": [
    {
     "data": {
      "image/png": "[encoded data removed]",
      "text/plain": [
       "<matplotlib.figure.Figure at 0x7ff890b82400>"
      ]
     },
     "metadata": {},
     "output_type": "display_data"
    }
   ],
   "source": [
    "plot_history(history)"
   ]
  },
  {
   "cell_type": "code",
   "execution_count": 8,
   "metadata": {},
   "outputs": [
    {
     "ename": "ValueError",
     "evalue": "Error when checking input: expected dropout_1_input to have shape (30, 2048) but got array with shape (50, 2048)",
     "output_type": "error",
     "traceback": [
      "\u001b[0;31m---------------------------------------------------------------------------\u001b[0m",
      "\u001b[0;31mValueError\u001b[0m                                Traceback (most recent call last)",
      "\u001b[0;32m<ipython-input-8-5bbd1c703f28>\u001b[0m in \u001b[0;36m<module>\u001b[0;34m()\u001b[0m\n\u001b[1;32m      5\u001b[0m \u001b[0;34m\u001b[0m\u001b[0m\n\u001b[1;32m      6\u001b[0m history = model.fit(X_train, Y_train, validation_data=(X_valid, Y_valid), \n\u001b[0;32m----> 7\u001b[0;31m           batch_size=64, epochs=50, callbacks=[reduce_lr])\n\u001b[0m",
      "\u001b[0;32m/usr/local/lib/python3.5/dist-packages/keras/models.py\u001b[0m in \u001b[0;36mfit\u001b[0;34m(self, x, y, batch_size, epochs, verbose, callbacks, validation_split, validation_data, shuffle, class_weight, sample_weight, initial_epoch, steps_per_epoch, validation_steps, **kwargs)\u001b[0m\n\u001b[1;32m    961\u001b[0m                               \u001b[0minitial_epoch\u001b[0m\u001b[0;34m=\u001b[0m\u001b[0minitial_epoch\u001b[0m\u001b[0;34m,\u001b[0m\u001b[0;34m\u001b[0m\u001b[0m\n\u001b[1;32m    962\u001b[0m                               \u001b[0msteps_per_epoch\u001b[0m\u001b[0;34m=\u001b[0m\u001b[0msteps_per_epoch\u001b[0m\u001b[0;34m,\u001b[0m\u001b[0;34m\u001b[0m\u001b[0m\n\u001b[0;32m--> 963\u001b[0;31m                               validation_steps=validation_steps)\n\u001b[0m\u001b[1;32m    964\u001b[0m \u001b[0;34m\u001b[0m\u001b[0m\n\u001b[1;32m    965\u001b[0m     def evaluate(self, x=None, y=None,\n",
      "\u001b[0;32m/usr/local/lib/python3.5/dist-packages/keras/engine/training.py\u001b[0m in \u001b[0;36mfit\u001b[0;34m(self, x, y, batch_size, epochs, verbose, callbacks, validation_split, validation_data, shuffle, class_weight, sample_weight, initial_epoch, steps_per_epoch, validation_steps, **kwargs)\u001b[0m\n\u001b[1;32m   1635\u001b[0m             \u001b[0msample_weight\u001b[0m\u001b[0;34m=\u001b[0m\u001b[0msample_weight\u001b[0m\u001b[0;34m,\u001b[0m\u001b[0;34m\u001b[0m\u001b[0m\n\u001b[1;32m   1636\u001b[0m             \u001b[0mclass_weight\u001b[0m\u001b[0;34m=\u001b[0m\u001b[0mclass_weight\u001b[0m\u001b[0;34m,\u001b[0m\u001b[0;34m\u001b[0m\u001b[0m\n\u001b[0;32m-> 1637\u001b[0;31m             batch_size=batch_size)\n\u001b[0m\u001b[1;32m   1638\u001b[0m         \u001b[0;31m# Prepare validation data.\u001b[0m\u001b[0;34m\u001b[0m\u001b[0;34m\u001b[0m\u001b[0m\n\u001b[1;32m   1639\u001b[0m         \u001b[0mdo_validation\u001b[0m \u001b[0;34m=\u001b[0m \u001b[0;32mFalse\u001b[0m\u001b[0;34m\u001b[0m\u001b[0m\n",
      "\u001b[0;32m/usr/local/lib/python3.5/dist-packages/keras/engine/training.py\u001b[0m in \u001b[0;36m_standardize_user_data\u001b[0;34m(self, x, y, sample_weight, class_weight, check_array_lengths, batch_size)\u001b[0m\n\u001b[1;32m   1481\u001b[0m                                     \u001b[0mself\u001b[0m\u001b[0;34m.\u001b[0m\u001b[0m_feed_input_shapes\u001b[0m\u001b[0;34m,\u001b[0m\u001b[0;34m\u001b[0m\u001b[0m\n\u001b[1;32m   1482\u001b[0m                                     \u001b[0mcheck_batch_axis\u001b[0m\u001b[0;34m=\u001b[0m\u001b[0;32mFalse\u001b[0m\u001b[0;34m,\u001b[0m\u001b[0;34m\u001b[0m\u001b[0m\n\u001b[0;32m-> 1483\u001b[0;31m                                     exception_prefix='input')\n\u001b[0m\u001b[1;32m   1484\u001b[0m         y = _standardize_input_data(y, self._feed_output_names,\n\u001b[1;32m   1485\u001b[0m                                     \u001b[0moutput_shapes\u001b[0m\u001b[0;34m,\u001b[0m\u001b[0;34m\u001b[0m\u001b[0m\n",
      "\u001b[0;32m/usr/local/lib/python3.5/dist-packages/keras/engine/training.py\u001b[0m in \u001b[0;36m_standardize_input_data\u001b[0;34m(data, names, shapes, check_batch_axis, exception_prefix)\u001b[0m\n\u001b[1;32m    121\u001b[0m                             \u001b[0;34m': expected '\u001b[0m \u001b[0;34m+\u001b[0m \u001b[0mnames\u001b[0m\u001b[0;34m[\u001b[0m\u001b[0mi\u001b[0m\u001b[0;34m]\u001b[0m \u001b[0;34m+\u001b[0m \u001b[0;34m' to have shape '\u001b[0m \u001b[0;34m+\u001b[0m\u001b[0;34m\u001b[0m\u001b[0m\n\u001b[1;32m    122\u001b[0m                             \u001b[0mstr\u001b[0m\u001b[0;34m(\u001b[0m\u001b[0mshape\u001b[0m\u001b[0;34m)\u001b[0m \u001b[0;34m+\u001b[0m \u001b[0;34m' but got array with shape '\u001b[0m \u001b[0;34m+\u001b[0m\u001b[0;34m\u001b[0m\u001b[0m\n\u001b[0;32m--> 123\u001b[0;31m                             str(data_shape))\n\u001b[0m\u001b[1;32m    124\u001b[0m     \u001b[0;32mreturn\u001b[0m \u001b[0mdata\u001b[0m\u001b[0;34m\u001b[0m\u001b[0m\n\u001b[1;32m    125\u001b[0m \u001b[0;34m\u001b[0m\u001b[0m\n",
      "\u001b[0;31mValueError\u001b[0m: Error when checking input: expected dropout_1_input to have shape (30, 2048) but got array with shape (50, 2048)"
     ]
    }
   ],
   "source": [
    "sgd = optimizers.SGD(momentum=0.9, lr=0.0005)\n",
    "\n",
    "model.compile(optimizer=sgd, loss='categorical_crossentropy', \n",
    "              metrics=['accuracy', top_3_k_categorical_accuracy])\n",
    "\n",
    "history = model.fit(X_train, Y_train, validation_data=(X_valid, Y_valid), \n",
    "          batch_size=64, epochs=50, callbacks=[reduce_lr])"
   ]
  },
  {
   "cell_type": "code",
   "execution_count": null,
   "metadata": {},
   "outputs": [],
   "source": [
    "np.set_printoptions(threshold=np.nan)\n",
    "Y_predict = model.predict(X_valid)\n",
    "class_predict = np.argmax(Y_predict, axis=1)\n",
    "print(class_predict)"
   ]
  },
  {
   "cell_type": "code",
   "execution_count": null,
   "metadata": {},
   "outputs": [],
   "source": [
    "class_true = np.argmax(Y_valid, axis=1)\n",
    "print(class_true)"
   ]
  },
  {
   "cell_type": "code",
   "execution_count": null,
   "metadata": {
    "scrolled": true
   },
   "outputs": [],
   "source": [
    "for idx in range(len(class_true)):\n",
    "    if class_true[idx] != class_predict[idx]:\n",
    "        print(idx, 'true:', class_true[idx], '  predict:', class_predict[idx], '  prop_true:', Y_predict[idx][class_true[idx]])\n",
    "        print(Y_predict[idx])\n",
    "        print()"
   ]
  },
  {
   "cell_type": "code",
   "execution_count": null,
   "metadata": {},
   "outputs": [],
   "source": [
    "from count_num_frames_on_dataset import get_number_frames_from_video\n",
    "from inception_generators import get_dataset_split_structure, get_class_to_idx_dict\n",
    "\n",
    "def dataset_loader_with_frames(dataset_dir, split_key):\n",
    "    \n",
    "    base_dir = join(dataset_dir, split_key)\n",
    "    \n",
    "    dataset_structure = get_dataset_split_structure(base_dir)\n",
    "    all_classes = dataset_structure.keys()\n",
    "    class_to_idx_dict = get_class_to_idx_dict(all_classes)\n",
    "        \n",
    "    for cl in all_classes:\n",
    "\n",
    "        class_idx = class_to_idx_dict[cl]\n",
    "\n",
    "        for video in dataset_structure[cl]:\n",
    "            \n",
    "            # ex: video == v_shooting_22_05.npy   or  video == v_walk_dog_10_01.npy\n",
    "            \n",
    "            video_subfolder = video[:video.rfind('_')]\n",
    "            video_mpg = video[:-3] + 'mpg'\n",
    "            \n",
    "            original_video = join('datasets', dataset, 'video', cl, video_subfolder, video_mpg)\n",
    "            number_frames = get_number_frames_from_video(original_video)\n",
    "\n",
    "            inception_features = np.load(join(base_dir, cl, video))\n",
    "\n",
    "            yield inception_features, class_idx, number_frames, video[:-3]\n",
    "                \n",
    "\n",
    "def load_whole_dataset_with_frames(dataset_dir, split_key):\n",
    "        \n",
    "    data = list(dataset_loader_with_frames(dataset_dir, split_key))\n",
    "    X, Y, frames, filenames = map(np.array, zip(*data))\n",
    "\n",
    "    yield X, to_categorical(Y), frames, filenames"
   ]
  },
  {
   "cell_type": "code",
   "execution_count": null,
   "metadata": {},
   "outputs": [],
   "source": [
    "d = list(load_whole_dataset_with_frames(dataset_dir, 'valid'))"
   ]
  },
  {
   "cell_type": "code",
   "execution_count": null,
   "metadata": {},
   "outputs": [],
   "source": [
    "X_valid_2, Y_valid_2, frames, filenames = zip(*d)"
   ]
  },
  {
   "cell_type": "code",
   "execution_count": null,
   "metadata": {},
   "outputs": [],
   "source": [
    "X_valid_2, Y_valid_2, frames, filenames = X_valid_2[0], Y_valid_2[0], frames[0], filenames[0]"
   ]
  },
  {
   "cell_type": "code",
   "execution_count": null,
   "metadata": {},
   "outputs": [],
   "source": [
    "Y_predict = model.predict(X_valid_2)\n",
    "class_predict = np.argmax(Y_predict, axis=1)\n",
    "print(class_predict)"
   ]
  },
  {
   "cell_type": "code",
   "execution_count": null,
   "metadata": {},
   "outputs": [],
   "source": [
    "class_true = np.argmax(Y_valid_2, axis=1)\n",
    "print(class_true)"
   ]
  },
  {
   "cell_type": "code",
   "execution_count": null,
   "metadata": {
    "scrolled": false
   },
   "outputs": [],
   "source": [
    "frames_incorrect = []\n",
    "class_incorrect = []\n",
    "\n",
    "for idx in range(len(class_true)):\n",
    "    if class_true[idx] != class_predict[idx]:\n",
    "        print(idx, 'true:', class_true[idx], '  predict:', class_predict[idx], '  prop_true:', Y_predict[idx][class_true[idx]])\n",
    "        print('num_frames:', frames[idx], 'filename:', filenames[idx])\n",
    "        print(Y_predict[idx])\n",
    "        print()\n",
    "        frames_incorrect.append(frames[idx])\n",
    "        class_incorrect.append(class_true[idx])"
   ]
  },
  {
   "cell_type": "code",
   "execution_count": null,
   "metadata": {
    "scrolled": true
   },
   "outputs": [],
   "source": [
    "class_train = np.argmax(Y_train, axis=1)"
   ]
  },
  {
   "cell_type": "code",
   "execution_count": null,
   "metadata": {},
   "outputs": [],
   "source": [
    "from collections import Counter\n",
    "\n",
    "Counter(class_train)"
   ]
  },
  {
   "cell_type": "code",
   "execution_count": null,
   "metadata": {},
   "outputs": [],
   "source": [
    "import matplotlib.pyplot as plt\n",
    "\n",
    "plt.figure(figsize=(10, 6))\n",
    "\n",
    "\n",
    "plt.subplot(121)\n",
    "plt.title('Number of frames inside validation set')\n",
    "plt.hist(frames)\n",
    "\n",
    "\n",
    "plt.subplot(122)\n",
    "plt.title('Number of frames of incorrect predicted validation videos')\n",
    "plt.hist(frames_incorrect)"
   ]
  },
  {
   "cell_type": "code",
   "execution_count": null,
   "metadata": {},
   "outputs": [],
   "source": [
    "plt.figure(figsize=(10, 6))\n",
    "\n",
    "plt.subplot(121)\n",
    "plt.hist(np.argmax(Y_valid, axis=1))\n",
    "\n",
    "plt.subplot(122)\n",
    "plt.hist(class_incorrect)"
   ]
  },
  {
   "cell_type": "code",
   "execution_count": null,
   "metadata": {},
   "outputs": [],
   "source": [
    "plt.hist(np.argmax(Y_train, axis=1))"
   ]
  },
  {
   "cell_type": "code",
   "execution_count": null,
   "metadata": {},
   "outputs": [],
   "source": [
    "d = list(load_whole_dataset_with_frames(dataset_dir, 'train'))"
   ]
  },
  {
   "cell_type": "code",
   "execution_count": null,
   "metadata": {},
   "outputs": [],
   "source": [
    "X_train_2, Y_train_2, frames_train, filenames_train = zip(*d)"
   ]
  },
  {
   "cell_type": "code",
   "execution_count": null,
   "metadata": {},
   "outputs": [],
   "source": [
    "plt.hist(frames_train[0][frames_train[0] < 600])"
   ]
  },
  {
   "cell_type": "code",
   "execution_count": null,
   "metadata": {},
   "outputs": [],
   "source": [
    "frames_0 = X_train[0]\n",
    "frames_2 = X_train[1]\n",
    "frames_1 = X_train[-1]"
   ]
  },
  {
   "cell_type": "code",
   "execution_count": null,
   "metadata": {},
   "outputs": [],
   "source": [
    "np.sum(np.std(frames_0[0:50], axis=0))"
   ]
  },
  {
   "cell_type": "code",
   "execution_count": null,
   "metadata": {},
   "outputs": [],
   "source": [
    "np.sum(np.std(np.concatenate([frames_2[0:25], frames_1[:25]]), axis=0))"
   ]
  },
  {
   "cell_type": "code",
   "execution_count": null,
   "metadata": {},
   "outputs": [],
   "source": [
    "np.sum(np.std(np.concatenate([frames_0[0:25], frames_2[:25]]), axis=0))"
   ]
  },
  {
   "cell_type": "code",
   "execution_count": null,
   "metadata": {},
   "outputs": [],
   "source": []
  }
 ],
 "metadata": {
  "kernelspec": {
   "display_name": "Python 3",
   "language": "python",
   "name": "python3"
  },
  "language_info": {
   "codemirror_mode": {
    "name": "ipython",
    "version": 3
   },
   "file_extension": ".py",
   "mimetype": "text/x-python",
   "name": "python",
   "nbconvert_exporter": "python",
   "pygments_lexer": "ipython3",
   "version": "3.5.2"
  }
 },
 "nbformat": 4,
 "nbformat_minor": 2
}
