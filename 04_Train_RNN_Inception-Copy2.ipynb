{
 "cells": [
  {
   "cell_type": "code",
   "execution_count": 1,
   "metadata": {},
   "outputs": [
    {
     "name": "stderr",
     "output_type": "stream",
     "text": [
      "/usr/local/lib/python3.5/dist-packages/h5py/__init__.py:36: FutureWarning: Conversion of the second argument of issubdtype from `float` to `np.floating` is deprecated. In future, it will be treated as `np.float64 == np.dtype(float).type`.\n",
      "  from ._conv import register_converters as _register_converters\n",
      "Using TensorFlow backend.\n"
     ]
    }
   ],
   "source": [
    "import numpy as np\n",
    "import os\n",
    "import random\n",
    "from os.path import join\n",
    "from keras import layers\n",
    "from keras.models import Sequential\n",
    "from keras.layers import Dense, Dropout, Activation, LSTM, Bidirectional, TimeDistributed, GRU, CuDNNGRU\n",
    "from keras.utils import to_categorical\n",
    "from keras_utils import set_keras_session\n",
    "from inception_generators import frames_generator_rnn, load_whole_dataset, sparse_frame_generator, extract_n_random_frames\n",
    "from plot_utils import plot_history"
   ]
  },
  {
   "cell_type": "code",
   "execution_count": 2,
   "metadata": {},
   "outputs": [],
   "source": [
    "set_keras_session()\n",
    "dataset = 'UCF11'\n",
    "nb_classes = int(dataset[3:])"
   ]
  },
  {
   "cell_type": "code",
   "execution_count": 3,
   "metadata": {},
   "outputs": [
    {
     "name": "stdout",
     "output_type": "stream",
     "text": [
      "(1126, 50, 2048)\n"
     ]
    }
   ],
   "source": [
    "frame_number = 50\n",
    "width = 320\n",
    "height = 240\n",
    "channels = 3\n",
    "padding = None\n",
    "\n",
    "dataset_name= 'separate_frames_{}_h_{}_w_{}_inception'.format(frame_number, height, width)\n",
    "if padding is not None:\n",
    "    dataset_name += '_padding_{}'.format(padding)\n",
    "\n",
    "\n",
    "dataset_dir = join('datasets', dataset, dataset_name)\n",
    "(X_train, Y_train), (X_valid, Y_valid) = list(load_whole_dataset(dataset_dir, 'rnn', ['train', 'valid']))\n",
    "sequence_shape = (frame_number, height, width, channels)\n",
    "print(X_train.shape)\n",
    "\n",
    "batch_size = 64\n",
    "epochs = 100\n",
    "sparse_gen = sparse_frame_generator(X_train, Y_train, 30, batch_size)\n",
    "X_valid = np.array([extract_n_random_frames(video, 30) for video in X_valid])"
   ]
  },
  {
   "cell_type": "code",
   "execution_count": 4,
   "metadata": {},
   "outputs": [],
   "source": [
    "from keras.applications.inception_v3 import InceptionV3\n",
    "from keras.applications.densenet import DenseNet121\n",
    "from keras.models import Model\n",
    "from keras import backend as K\n",
    "from keras import regularizers\n",
    "from keras.layers import Lambda\n",
    "\n",
    "\n",
    "l1l2 = regularizers.L1L2(l1=0.0, l2=0.01)\n",
    "\n",
    "def build_model():\n",
    "       \n",
    "    rnn = Sequential()\n",
    "    rnn.add(Dropout(0.5, input_shape=(X_valid.shape[1:])))\n",
    "    rnn.add(TimeDistributed(Dense(128, activation='relu')))\n",
    "    rnn.add(LSTM(512, input_shape=(X_valid.shape[1:]), recurrent_dropout=0.2))\n",
    "    #rnn.add(Lambda(lambda x: K.mean(x, axis=1)))\n",
    "    # rnn.add(Dense(128, activation='relu'))\n",
    "    rnn.add(Dropout(0.8))\n",
    "    rnn.add(Dense(nb_classes, activation='softmax'))\n",
    "\n",
    "    return rnn\n",
    "\n",
    "\n",
    "def build_model_stacked():\n",
    "       \n",
    "    rnn = Sequential()\n",
    "    rnn.add(LSTM(512, input_shape=(X_valid.shape[1:]), recurrent_dropout=0.2, return_sequences=True))\n",
    "    rnn.add(LSTM(128, input_shape=(X_valid.shape[1:])))\n",
    "    #rnn.add(Dense(128, activation='relu'))\n",
    "    rnn.add(Dropout(0.5))\n",
    "    rnn.add(Dense(nb_classes, activation='softmax'))\n",
    "\n",
    "    return rnn"
   ]
  },
  {
   "cell_type": "code",
   "execution_count": 5,
   "metadata": {
    "scrolled": true
   },
   "outputs": [
    {
     "name": "stdout",
     "output_type": "stream",
     "text": [
      "_________________________________________________________________\n",
      "Layer (type)                 Output Shape              Param #   \n",
      "=================================================================\n",
      "dropout_1 (Dropout)          (None, 30, 2048)          0         \n",
      "_________________________________________________________________\n",
      "time_distributed_1 (TimeDist (None, 30, 128)           262272    \n",
      "_________________________________________________________________\n",
      "lstm_1 (LSTM)                (None, 512)               1312768   \n",
      "_________________________________________________________________\n",
      "dropout_2 (Dropout)          (None, 512)               0         \n",
      "_________________________________________________________________\n",
      "dense_2 (Dense)              (None, 11)                5643      \n",
      "=================================================================\n",
      "Total params: 1,580,683\n",
      "Trainable params: 1,580,683\n",
      "Non-trainable params: 0\n",
      "_________________________________________________________________\n",
      "None\n"
     ]
    }
   ],
   "source": [
    "from keras import metrics, callbacks, optimizers\n",
    "from functools import partial\n",
    "\n",
    "top_3_k_categorical_accuracy = partial(metrics.top_k_categorical_accuracy, k=3)\n",
    "top_3_k_categorical_accuracy.__name__ = 'top_3'\n",
    "\n",
    "early_stopper = callbacks.EarlyStopping(patience=5)\n",
    "reduce_lr = callbacks.ReduceLROnPlateau(patience=5, factor=0.75)\n",
    "\n",
    "model = build_model()\n",
    "print(model.summary())\n",
    "\n",
    "sgd = optimizers.SGD(momentum=0.9, nesterov=True, lr=0.001)\n",
    "sgd = optimizers.SGD(momentum=0.9, lr=0.001)\n",
    "adam = optimizers.Adam(lr=0.0001)\n",
    "\n",
    "model.compile(optimizer=sgd, loss='categorical_crossentropy', \n",
    "              metrics=['accuracy', top_3_k_categorical_accuracy])"
   ]
  },
  {
   "cell_type": "code",
   "execution_count": 6,
   "metadata": {},
   "outputs": [
    {
     "name": "stdout",
     "output_type": "stream",
     "text": [
      "Epoch 1/100\n",
      "17/17 [==============================] - 2s 128ms/step - loss: 2.4663 - acc: 0.0919 - top_3: 0.2794 - val_loss: 2.3586 - val_acc: 0.1620 - val_top_3: 0.3689\n",
      "Epoch 2/100\n",
      "17/17 [==============================] - 1s 75ms/step - loss: 2.3465 - acc: 0.1526 - top_3: 0.3952 - val_loss: 2.2738 - val_acc: 0.3689 - val_top_3: 0.6141\n",
      "Epoch 3/100\n",
      "17/17 [==============================] - 1s 75ms/step - loss: 2.2908 - acc: 0.1801 - top_3: 0.4329 - val_loss: 2.1908 - val_acc: 0.4286 - val_top_3: 0.6503\n",
      "Epoch 4/100\n",
      "17/17 [==============================] - 1s 76ms/step - loss: 2.1847 - acc: 0.2767 - top_3: 0.5202 - val_loss: 2.0854 - val_acc: 0.4264 - val_top_3: 0.7164\n",
      "Epoch 5/100\n",
      "17/17 [==============================] - 1s 78ms/step - loss: 2.1019 - acc: 0.3401 - top_3: 0.5892 - val_loss: 1.9768 - val_acc: 0.5373 - val_top_3: 0.7612\n",
      "Epoch 6/100\n",
      "17/17 [==============================] - 1s 77ms/step - loss: 1.9669 - acc: 0.4164 - top_3: 0.6700 - val_loss: 1.8390 - val_acc: 0.5458 - val_top_3: 0.7910\n",
      "Epoch 7/100\n",
      "17/17 [==============================] - 1s 76ms/step - loss: 1.8334 - acc: 0.4706 - top_3: 0.7371 - val_loss: 1.6819 - val_acc: 0.5864 - val_top_3: 0.8145\n",
      "Epoch 8/100\n",
      "17/17 [==============================] - 1s 76ms/step - loss: 1.6682 - acc: 0.4982 - top_3: 0.7877 - val_loss: 1.5357 - val_acc: 0.6077 - val_top_3: 0.8358\n",
      "Epoch 9/100\n",
      "17/17 [==============================] - 1s 78ms/step - loss: 1.4925 - acc: 0.5744 - top_3: 0.8290 - val_loss: 1.3833 - val_acc: 0.6119 - val_top_3: 0.8529\n",
      "Epoch 10/100\n",
      "17/17 [==============================] - 1s 78ms/step - loss: 1.3885 - acc: 0.5809 - top_3: 0.8520 - val_loss: 1.2655 - val_acc: 0.6141 - val_top_3: 0.8678\n",
      "Epoch 11/100\n",
      "17/17 [==============================] - 1s 77ms/step - loss: 1.2452 - acc: 0.6287 - top_3: 0.8814 - val_loss: 1.1348 - val_acc: 0.6802 - val_top_3: 0.9041\n",
      "Epoch 12/100\n",
      "17/17 [==============================] - 1s 75ms/step - loss: 1.1047 - acc: 0.6801 - top_3: 0.8971 - val_loss: 1.0329 - val_acc: 0.6802 - val_top_3: 0.9104\n",
      "Epoch 13/100\n",
      "17/17 [==============================] - 1s 76ms/step - loss: 0.9885 - acc: 0.7068 - top_3: 0.9311 - val_loss: 0.9539 - val_acc: 0.7164 - val_top_3: 0.9232\n",
      "Epoch 14/100\n",
      "17/17 [==============================] - 1s 56ms/step - loss: 0.8359 - acc: 0.7500 - top_3: 0.9366 - val_loss: 0.8596 - val_acc: 0.7079 - val_top_3: 0.9339\n",
      "Epoch 15/100\n",
      "17/17 [==============================] - 1s 51ms/step - loss: 0.8251 - acc: 0.7445 - top_3: 0.9375 - val_loss: 0.7972 - val_acc: 0.7655 - val_top_3: 0.9424\n",
      "Epoch 16/100\n",
      "17/17 [==============================] - 1s 52ms/step - loss: 0.7380 - acc: 0.7757 - top_3: 0.9660 - val_loss: 0.7511 - val_acc: 0.7591 - val_top_3: 0.9510\n",
      "Epoch 17/100\n",
      "17/17 [==============================] - 1s 52ms/step - loss: 0.6460 - acc: 0.8171 - top_3: 0.9697 - val_loss: 0.6987 - val_acc: 0.7740 - val_top_3: 0.9510\n",
      "Epoch 18/100\n",
      "17/17 [==============================] - 1s 51ms/step - loss: 0.6102 - acc: 0.8199 - top_3: 0.9660 - val_loss: 0.6644 - val_acc: 0.7804 - val_top_3: 0.9595\n",
      "Epoch 19/100\n",
      "17/17 [==============================] - 1s 52ms/step - loss: 0.5370 - acc: 0.8410 - top_3: 0.9825 - val_loss: 0.6038 - val_acc: 0.8017 - val_top_3: 0.9765\n",
      "Epoch 20/100\n",
      "17/17 [==============================] - 1s 51ms/step - loss: 0.5323 - acc: 0.8382 - top_3: 0.9761 - val_loss: 0.5903 - val_acc: 0.8166 - val_top_3: 0.9659\n",
      "Epoch 21/100\n",
      "17/17 [==============================] - 1s 50ms/step - loss: 0.4286 - acc: 0.8658 - top_3: 0.9917 - val_loss: 0.5112 - val_acc: 0.8358 - val_top_3: 0.9787\n",
      "Epoch 22/100\n",
      "17/17 [==============================] - 1s 51ms/step - loss: 0.4034 - acc: 0.8732 - top_3: 0.9899 - val_loss: 0.5814 - val_acc: 0.8017 - val_top_3: 0.9638\n",
      "Epoch 23/100\n",
      "17/17 [==============================] - 1s 52ms/step - loss: 0.3625 - acc: 0.8989 - top_3: 0.9862 - val_loss: 0.4863 - val_acc: 0.8422 - val_top_3: 0.9744\n",
      "Epoch 24/100\n",
      "17/17 [==============================] - 1s 50ms/step - loss: 0.3363 - acc: 0.9099 - top_3: 0.9899 - val_loss: 0.5157 - val_acc: 0.8188 - val_top_3: 0.9701\n",
      "Epoch 25/100\n",
      "17/17 [==============================] - 1s 51ms/step - loss: 0.2919 - acc: 0.9237 - top_3: 0.9945 - val_loss: 0.5204 - val_acc: 0.8124 - val_top_3: 0.9808\n",
      "Epoch 26/100\n",
      "17/17 [==============================] - 1s 52ms/step - loss: 0.2815 - acc: 0.9274 - top_3: 0.9926 - val_loss: 0.5254 - val_acc: 0.8337 - val_top_3: 0.9638\n",
      "Epoch 27/100\n",
      "17/17 [==============================] - 1s 48ms/step - loss: 0.2661 - acc: 0.9210 - top_3: 0.9926 - val_loss: 0.4616 - val_acc: 0.8571 - val_top_3: 0.9744\n",
      "Epoch 28/100\n",
      "17/17 [==============================] - 1s 48ms/step - loss: 0.2105 - acc: 0.9467 - top_3: 0.9936 - val_loss: 0.4197 - val_acc: 0.8742 - val_top_3: 0.9744\n",
      "Epoch 29/100\n",
      "17/17 [==============================] - 1s 48ms/step - loss: 0.2169 - acc: 0.9476 - top_3: 0.9954 - val_loss: 0.4556 - val_acc: 0.8316 - val_top_3: 0.9744\n",
      "Epoch 30/100\n",
      "17/17 [==============================] - 1s 48ms/step - loss: 0.1837 - acc: 0.9559 - top_3: 0.9963 - val_loss: 0.4715 - val_acc: 0.8593 - val_top_3: 0.9595\n",
      "Epoch 31/100\n",
      "17/17 [==============================] - 1s 48ms/step - loss: 0.1848 - acc: 0.9412 - top_3: 0.9982 - val_loss: 0.4251 - val_acc: 0.8721 - val_top_3: 0.9787\n",
      "Epoch 32/100\n",
      "17/17 [==============================] - 1s 48ms/step - loss: 0.1516 - acc: 0.9586 - top_3: 0.9972 - val_loss: 0.4304 - val_acc: 0.8550 - val_top_3: 0.9829\n",
      "Epoch 33/100\n",
      "17/17 [==============================] - 1s 48ms/step - loss: 0.1645 - acc: 0.9559 - top_3: 0.9954 - val_loss: 0.4938 - val_acc: 0.8507 - val_top_3: 0.9659\n",
      "Epoch 34/100\n",
      "17/17 [==============================] - 1s 48ms/step - loss: 0.1271 - acc: 0.9678 - top_3: 0.9991 - val_loss: 0.3759 - val_acc: 0.8849 - val_top_3: 0.9787\n",
      "Epoch 35/100\n",
      "17/17 [==============================] - 1s 48ms/step - loss: 0.1143 - acc: 0.9715 - top_3: 0.9972 - val_loss: 0.5022 - val_acc: 0.8593 - val_top_3: 0.9638\n",
      "Epoch 36/100\n",
      "17/17 [==============================] - 1s 48ms/step - loss: 0.1215 - acc: 0.9642 - top_3: 0.9972 - val_loss: 0.4931 - val_acc: 0.8635 - val_top_3: 0.9574\n",
      "Epoch 37/100\n",
      "17/17 [==============================] - 1s 49ms/step - loss: 0.1103 - acc: 0.9807 - top_3: 1.0000 - val_loss: 0.4149 - val_acc: 0.8657 - val_top_3: 0.9701\n",
      "Epoch 38/100\n",
      "17/17 [==============================] - 1s 59ms/step - loss: 0.1048 - acc: 0.9789 - top_3: 0.9991 - val_loss: 0.4672 - val_acc: 0.8635 - val_top_3: 0.9595\n",
      "Epoch 39/100\n",
      "17/17 [==============================] - 1s 49ms/step - loss: 0.0870 - acc: 0.9770 - top_3: 0.9991 - val_loss: 0.4188 - val_acc: 0.8721 - val_top_3: 0.9808\n",
      "Epoch 40/100\n",
      "17/17 [==============================] - 1s 48ms/step - loss: 0.0795 - acc: 0.9844 - top_3: 0.9991 - val_loss: 0.4321 - val_acc: 0.8699 - val_top_3: 0.9787\n",
      "Epoch 41/100\n",
      "17/17 [==============================] - 1s 50ms/step - loss: 0.0852 - acc: 0.9807 - top_3: 1.0000 - val_loss: 0.4244 - val_acc: 0.8742 - val_top_3: 0.9744\n",
      "Epoch 42/100\n",
      "17/17 [==============================] - 1s 48ms/step - loss: 0.0849 - acc: 0.9835 - top_3: 0.9982 - val_loss: 0.5292 - val_acc: 0.8614 - val_top_3: 0.9638\n",
      "Epoch 43/100\n",
      "17/17 [==============================] - 1s 51ms/step - loss: 0.0765 - acc: 0.9825 - top_3: 1.0000 - val_loss: 0.5910 - val_acc: 0.8465 - val_top_3: 0.9403\n",
      "Epoch 44/100\n",
      "17/17 [==============================] - 1s 50ms/step - loss: 0.0913 - acc: 0.9733 - top_3: 0.9991 - val_loss: 0.4002 - val_acc: 0.8785 - val_top_3: 0.9808\n",
      "Epoch 45/100\n",
      "17/17 [==============================] - 1s 69ms/step - loss: 0.0552 - acc: 0.9908 - top_3: 1.0000 - val_loss: 0.4699 - val_acc: 0.8699 - val_top_3: 0.9765\n",
      "Epoch 46/100\n",
      "17/17 [==============================] - 1s 74ms/step - loss: 0.0567 - acc: 0.9890 - top_3: 1.0000 - val_loss: 0.4504 - val_acc: 0.8827 - val_top_3: 0.9765\n",
      "Epoch 47/100\n",
      "17/17 [==============================] - 1s 76ms/step - loss: 0.0483 - acc: 0.9899 - top_3: 1.0000 - val_loss: 0.5000 - val_acc: 0.8827 - val_top_3: 0.9701\n",
      "Epoch 48/100\n",
      "17/17 [==============================] - 1s 76ms/step - loss: 0.0723 - acc: 0.9825 - top_3: 0.9982 - val_loss: 0.5818 - val_acc: 0.8593 - val_top_3: 0.9595\n",
      "Epoch 49/100\n"
     ]
    },
    {
     "name": "stdout",
     "output_type": "stream",
     "text": [
      "17/17 [==============================] - 1s 76ms/step - loss: 0.0953 - acc: 0.9697 - top_3: 0.9991 - val_loss: 0.5243 - val_acc: 0.8721 - val_top_3: 0.9787\n",
      "Epoch 50/100\n",
      "17/17 [==============================] - 1s 77ms/step - loss: 0.0620 - acc: 0.9862 - top_3: 0.9991 - val_loss: 0.4314 - val_acc: 0.8763 - val_top_3: 0.9659\n",
      "Epoch 51/100\n",
      "17/17 [==============================] - 1s 76ms/step - loss: 0.0468 - acc: 0.9899 - top_3: 1.0000 - val_loss: 0.5005 - val_acc: 0.8699 - val_top_3: 0.9723\n",
      "Epoch 52/100\n",
      "17/17 [==============================] - 1s 77ms/step - loss: 0.0465 - acc: 0.9890 - top_3: 1.0000 - val_loss: 0.4051 - val_acc: 0.8998 - val_top_3: 0.9680\n",
      "Epoch 53/100\n",
      "17/17 [==============================] - 1s 74ms/step - loss: 0.0398 - acc: 0.9908 - top_3: 1.0000 - val_loss: 0.5084 - val_acc: 0.8849 - val_top_3: 0.9723\n",
      "Epoch 54/100\n",
      "17/17 [==============================] - 1s 76ms/step - loss: 0.0405 - acc: 0.9926 - top_3: 1.0000 - val_loss: 0.4537 - val_acc: 0.8891 - val_top_3: 0.9787\n",
      "Epoch 55/100\n",
      "17/17 [==============================] - 1s 76ms/step - loss: 0.0450 - acc: 0.9908 - top_3: 1.0000 - val_loss: 0.4916 - val_acc: 0.8763 - val_top_3: 0.9765\n",
      "Epoch 56/100\n",
      "17/17 [==============================] - 1s 76ms/step - loss: 0.0374 - acc: 0.9917 - top_3: 1.0000 - val_loss: 0.4681 - val_acc: 0.8806 - val_top_3: 0.9765\n",
      "Epoch 57/100\n",
      "17/17 [==============================] - 1s 76ms/step - loss: 0.0358 - acc: 0.9926 - top_3: 0.9991 - val_loss: 0.4411 - val_acc: 0.8849 - val_top_3: 0.9808\n",
      "Epoch 58/100\n",
      "17/17 [==============================] - 1s 75ms/step - loss: 0.0252 - acc: 0.9982 - top_3: 1.0000 - val_loss: 0.4765 - val_acc: 0.8849 - val_top_3: 0.9723\n",
      "Epoch 59/100\n",
      "17/17 [==============================] - 1s 75ms/step - loss: 0.0315 - acc: 0.9945 - top_3: 1.0000 - val_loss: 0.4981 - val_acc: 0.8849 - val_top_3: 0.9765\n",
      "Epoch 60/100\n",
      "17/17 [==============================] - 1s 76ms/step - loss: 0.0296 - acc: 0.9945 - top_3: 1.0000 - val_loss: 0.5107 - val_acc: 0.8806 - val_top_3: 0.9659\n",
      "Epoch 61/100\n",
      "17/17 [==============================] - 1s 77ms/step - loss: 0.0217 - acc: 0.9982 - top_3: 1.0000 - val_loss: 0.4588 - val_acc: 0.8827 - val_top_3: 0.9744\n",
      "Epoch 62/100\n",
      "17/17 [==============================] - 1s 75ms/step - loss: 0.0268 - acc: 0.9963 - top_3: 1.0000 - val_loss: 0.5454 - val_acc: 0.8635 - val_top_3: 0.9744\n",
      "Epoch 63/100\n",
      "17/17 [==============================] - 1s 75ms/step - loss: 0.0245 - acc: 0.9972 - top_3: 1.0000 - val_loss: 0.4733 - val_acc: 0.8849 - val_top_3: 0.9787\n",
      "Epoch 64/100\n",
      "17/17 [==============================] - 1s 74ms/step - loss: 0.0387 - acc: 0.9908 - top_3: 0.9991 - val_loss: 0.4484 - val_acc: 0.8977 - val_top_3: 0.9787\n",
      "Epoch 65/100\n",
      "17/17 [==============================] - 1s 75ms/step - loss: 0.0355 - acc: 0.9945 - top_3: 0.9991 - val_loss: 0.4042 - val_acc: 0.8913 - val_top_3: 0.9872\n",
      "Epoch 66/100\n",
      "17/17 [==============================] - 1s 79ms/step - loss: 0.0477 - acc: 0.9908 - top_3: 0.9991 - val_loss: 0.6138 - val_acc: 0.8635 - val_top_3: 0.9574\n",
      "Epoch 67/100\n",
      "17/17 [==============================] - 1s 79ms/step - loss: 0.0256 - acc: 0.9954 - top_3: 1.0000 - val_loss: 0.4905 - val_acc: 0.8699 - val_top_3: 0.9808\n",
      "Epoch 68/100\n",
      "17/17 [==============================] - 1s 77ms/step - loss: 0.0332 - acc: 0.9945 - top_3: 1.0000 - val_loss: 0.4831 - val_acc: 0.8742 - val_top_3: 0.9723\n",
      "Epoch 69/100\n",
      "17/17 [==============================] - 1s 77ms/step - loss: 0.0290 - acc: 0.9945 - top_3: 1.0000 - val_loss: 0.4598 - val_acc: 0.8806 - val_top_3: 0.9744\n",
      "Epoch 70/100\n",
      "17/17 [==============================] - 1s 76ms/step - loss: 0.0229 - acc: 0.9954 - top_3: 1.0000 - val_loss: 0.5065 - val_acc: 0.8721 - val_top_3: 0.9744\n",
      "Epoch 71/100\n",
      "17/17 [==============================] - 1s 78ms/step - loss: 0.0234 - acc: 0.9972 - top_3: 1.0000 - val_loss: 0.4859 - val_acc: 0.8849 - val_top_3: 0.9787\n",
      "Epoch 72/100\n",
      "17/17 [==============================] - 1s 75ms/step - loss: 0.0222 - acc: 0.9963 - top_3: 1.0000 - val_loss: 0.4295 - val_acc: 0.9041 - val_top_3: 0.9787\n",
      "Epoch 73/100\n",
      "17/17 [==============================] - 1s 74ms/step - loss: 0.0285 - acc: 0.9936 - top_3: 1.0000 - val_loss: 0.5363 - val_acc: 0.8763 - val_top_3: 0.9701\n",
      "Epoch 74/100\n",
      "17/17 [==============================] - 1s 75ms/step - loss: 0.0272 - acc: 0.9963 - top_3: 1.0000 - val_loss: 0.5566 - val_acc: 0.8763 - val_top_3: 0.9723\n",
      "Epoch 75/100\n",
      "17/17 [==============================] - 1s 76ms/step - loss: 0.0204 - acc: 0.9963 - top_3: 1.0000 - val_loss: 0.5044 - val_acc: 0.8785 - val_top_3: 0.9787\n",
      "Epoch 76/100\n",
      "17/17 [==============================] - 1s 76ms/step - loss: 0.0176 - acc: 0.9982 - top_3: 1.0000 - val_loss: 0.4496 - val_acc: 0.9041 - val_top_3: 0.9808\n",
      "Epoch 77/100\n",
      "17/17 [==============================] - 1s 75ms/step - loss: 0.0191 - acc: 0.9954 - top_3: 1.0000 - val_loss: 0.4797 - val_acc: 0.8849 - val_top_3: 0.9787\n",
      "Epoch 78/100\n",
      "17/17 [==============================] - 1s 75ms/step - loss: 0.0232 - acc: 0.9954 - top_3: 1.0000 - val_loss: 0.5208 - val_acc: 0.8806 - val_top_3: 0.9765\n",
      "Epoch 79/100\n",
      "17/17 [==============================] - 1s 75ms/step - loss: 0.0207 - acc: 0.9954 - top_3: 1.0000 - val_loss: 0.5045 - val_acc: 0.8699 - val_top_3: 0.9638\n",
      "Epoch 80/100\n",
      "17/17 [==============================] - 1s 74ms/step - loss: 0.0210 - acc: 0.9972 - top_3: 1.0000 - val_loss: 0.4790 - val_acc: 0.8827 - val_top_3: 0.9723\n",
      "Epoch 81/100\n",
      "17/17 [==============================] - 1s 74ms/step - loss: 0.0176 - acc: 0.9963 - top_3: 1.0000 - val_loss: 0.5039 - val_acc: 0.8827 - val_top_3: 0.9680\n",
      "Epoch 82/100\n",
      "17/17 [==============================] - 1s 77ms/step - loss: 0.0164 - acc: 0.9982 - top_3: 1.0000 - val_loss: 0.5170 - val_acc: 0.8678 - val_top_3: 0.9659\n",
      "Epoch 83/100\n",
      "17/17 [==============================] - 1s 75ms/step - loss: 0.0255 - acc: 0.9945 - top_3: 1.0000 - val_loss: 0.5321 - val_acc: 0.8870 - val_top_3: 0.9680\n",
      "Epoch 84/100\n",
      "17/17 [==============================] - 1s 77ms/step - loss: 0.0119 - acc: 1.0000 - top_3: 1.0000 - val_loss: 0.5495 - val_acc: 0.8742 - val_top_3: 0.9616\n",
      "Epoch 85/100\n",
      "17/17 [==============================] - 1s 78ms/step - loss: 0.0226 - acc: 0.9972 - top_3: 1.0000 - val_loss: 0.5713 - val_acc: 0.8678 - val_top_3: 0.9638\n",
      "Epoch 86/100\n",
      "17/17 [==============================] - 1s 77ms/step - loss: 0.0134 - acc: 0.9991 - top_3: 1.0000 - val_loss: 0.5016 - val_acc: 0.8849 - val_top_3: 0.9701\n",
      "Epoch 87/100\n",
      "17/17 [==============================] - 1s 75ms/step - loss: 0.0151 - acc: 0.9972 - top_3: 1.0000 - val_loss: 0.5461 - val_acc: 0.8806 - val_top_3: 0.9659\n",
      "Epoch 88/100\n",
      "17/17 [==============================] - 1s 75ms/step - loss: 0.0098 - acc: 1.0000 - top_3: 1.0000 - val_loss: 0.5444 - val_acc: 0.8678 - val_top_3: 0.9723\n",
      "Epoch 89/100\n",
      "17/17 [==============================] - 1s 74ms/step - loss: 0.0130 - acc: 0.9991 - top_3: 1.0000 - val_loss: 0.4996 - val_acc: 0.8827 - val_top_3: 0.9701\n",
      "Epoch 90/100\n",
      "17/17 [==============================] - 1s 77ms/step - loss: 0.0164 - acc: 0.9972 - top_3: 1.0000 - val_loss: 0.5558 - val_acc: 0.8870 - val_top_3: 0.9616\n",
      "Epoch 91/100\n",
      "17/17 [==============================] - 1s 76ms/step - loss: 0.0106 - acc: 0.9972 - top_3: 1.0000 - val_loss: 0.4868 - val_acc: 0.8955 - val_top_3: 0.9744\n",
      "Epoch 92/100\n",
      "17/17 [==============================] - 1s 75ms/step - loss: 0.0126 - acc: 0.9972 - top_3: 1.0000 - val_loss: 0.5061 - val_acc: 0.8977 - val_top_3: 0.9638\n",
      "Epoch 93/100\n",
      "17/17 [==============================] - 1s 75ms/step - loss: 0.0118 - acc: 0.9982 - top_3: 1.0000 - val_loss: 0.5249 - val_acc: 0.8977 - val_top_3: 0.9659\n",
      "Epoch 94/100\n",
      "17/17 [==============================] - 1s 75ms/step - loss: 0.0130 - acc: 0.9982 - top_3: 1.0000 - val_loss: 0.5222 - val_acc: 0.9019 - val_top_3: 0.9701\n",
      "Epoch 95/100\n",
      "17/17 [==============================] - 1s 77ms/step - loss: 0.0125 - acc: 0.9991 - top_3: 1.0000 - val_loss: 0.5354 - val_acc: 0.8849 - val_top_3: 0.9723\n",
      "Epoch 96/100\n",
      "17/17 [==============================] - 1s 78ms/step - loss: 0.0096 - acc: 1.0000 - top_3: 1.0000 - val_loss: 0.5644 - val_acc: 0.8806 - val_top_3: 0.9723\n",
      "Epoch 97/100\n"
     ]
    },
    {
     "name": "stdout",
     "output_type": "stream",
     "text": [
      "17/17 [==============================] - 1s 76ms/step - loss: 0.0091 - acc: 1.0000 - top_3: 1.0000 - val_loss: 0.5467 - val_acc: 0.8827 - val_top_3: 0.9680\n",
      "Epoch 98/100\n",
      "17/17 [==============================] - 1s 75ms/step - loss: 0.0067 - acc: 1.0000 - top_3: 1.0000 - val_loss: 0.4922 - val_acc: 0.8955 - val_top_3: 0.9723\n",
      "Epoch 99/100\n",
      "17/17 [==============================] - 1s 77ms/step - loss: 0.0116 - acc: 0.9982 - top_3: 1.0000 - val_loss: 0.6958 - val_acc: 0.8635 - val_top_3: 0.9510\n",
      "Epoch 100/100\n",
      "17/17 [==============================] - 1s 76ms/step - loss: 0.0250 - acc: 0.9945 - top_3: 1.0000 - val_loss: 0.4923 - val_acc: 0.8891 - val_top_3: 0.9808\n"
     ]
    }
   ],
   "source": [
    "# history = model.fit(X_train, Y_train, validation_data=(X_valid, Y_valid), \n",
    "#           batch_size=64, epochs=500)\n",
    "\n",
    "history = model.fit_generator(sparse_gen, steps_per_epoch=len(X_train)//batch_size, \n",
    "                              validation_data=(X_valid, Y_valid), epochs=epochs)"
   ]
  },
  {
   "cell_type": "code",
   "execution_count": 7,
   "metadata": {},
   "outputs": [
    {
     "data": {
      "image/png": "[encoded data removed]",
      "text/plain": [
       "<matplotlib.figure.Figure at 0x7fdc2c6aacc0>"
      ]
     },
     "metadata": {},
     "output_type": "display_data"
    }
   ],
   "source": [
    "plot_history(history)"
   ]
  },
  {
   "cell_type": "code",
   "execution_count": 8,
   "metadata": {},
   "outputs": [
    {
     "ename": "ValueError",
     "evalue": "Error when checking input: expected dropout_1_input to have shape (30, 2048) but got array with shape (50, 2048)",
     "output_type": "error",
     "traceback": [
      "\u001b[0;31m---------------------------------------------------------------------------\u001b[0m",
      "\u001b[0;31mValueError\u001b[0m                                Traceback (most recent call last)",
      "\u001b[0;32m<ipython-input-8-5bbd1c703f28>\u001b[0m in \u001b[0;36m<module>\u001b[0;34m()\u001b[0m\n\u001b[1;32m      5\u001b[0m \u001b[0;34m\u001b[0m\u001b[0m\n\u001b[1;32m      6\u001b[0m history = model.fit(X_train, Y_train, validation_data=(X_valid, Y_valid), \n\u001b[0;32m----> 7\u001b[0;31m           batch_size=64, epochs=50, callbacks=[reduce_lr])\n\u001b[0m",
      "\u001b[0;32m/usr/local/lib/python3.5/dist-packages/keras/models.py\u001b[0m in \u001b[0;36mfit\u001b[0;34m(self, x, y, batch_size, epochs, verbose, callbacks, validation_split, validation_data, shuffle, class_weight, sample_weight, initial_epoch, steps_per_epoch, validation_steps, **kwargs)\u001b[0m\n\u001b[1;32m    961\u001b[0m                               \u001b[0minitial_epoch\u001b[0m\u001b[0;34m=\u001b[0m\u001b[0minitial_epoch\u001b[0m\u001b[0;34m,\u001b[0m\u001b[0;34m\u001b[0m\u001b[0m\n\u001b[1;32m    962\u001b[0m                               \u001b[0msteps_per_epoch\u001b[0m\u001b[0;34m=\u001b[0m\u001b[0msteps_per_epoch\u001b[0m\u001b[0;34m,\u001b[0m\u001b[0;34m\u001b[0m\u001b[0m\n\u001b[0;32m--> 963\u001b[0;31m                               validation_steps=validation_steps)\n\u001b[0m\u001b[1;32m    964\u001b[0m \u001b[0;34m\u001b[0m\u001b[0m\n\u001b[1;32m    965\u001b[0m     def evaluate(self, x=None, y=None,\n",
      "\u001b[0;32m/usr/local/lib/python3.5/dist-packages/keras/engine/training.py\u001b[0m in \u001b[0;36mfit\u001b[0;34m(self, x, y, batch_size, epochs, verbose, callbacks, validation_split, validation_data, shuffle, class_weight, sample_weight, initial_epoch, steps_per_epoch, validation_steps, **kwargs)\u001b[0m\n\u001b[1;32m   1635\u001b[0m             \u001b[0msample_weight\u001b[0m\u001b[0;34m=\u001b[0m\u001b[0msample_weight\u001b[0m\u001b[0;34m,\u001b[0m\u001b[0;34m\u001b[0m\u001b[0m\n\u001b[1;32m   1636\u001b[0m             \u001b[0mclass_weight\u001b[0m\u001b[0;34m=\u001b[0m\u001b[0mclass_weight\u001b[0m\u001b[0;34m,\u001b[0m\u001b[0;34m\u001b[0m\u001b[0m\n\u001b[0;32m-> 1637\u001b[0;31m             batch_size=batch_size)\n\u001b[0m\u001b[1;32m   1638\u001b[0m         \u001b[0;31m# Prepare validation data.\u001b[0m\u001b[0;34m\u001b[0m\u001b[0;34m\u001b[0m\u001b[0m\n\u001b[1;32m   1639\u001b[0m         \u001b[0mdo_validation\u001b[0m \u001b[0;34m=\u001b[0m \u001b[0;32mFalse\u001b[0m\u001b[0;34m\u001b[0m\u001b[0m\n",
      "\u001b[0;32m/usr/local/lib/python3.5/dist-packages/keras/engine/training.py\u001b[0m in \u001b[0;36m_standardize_user_data\u001b[0;34m(self, x, y, sample_weight, class_weight, check_array_lengths, batch_size)\u001b[0m\n\u001b[1;32m   1481\u001b[0m                                     \u001b[0mself\u001b[0m\u001b[0;34m.\u001b[0m\u001b[0m_feed_input_shapes\u001b[0m\u001b[0;34m,\u001b[0m\u001b[0;34m\u001b[0m\u001b[0m\n\u001b[1;32m   1482\u001b[0m                                     \u001b[0mcheck_batch_axis\u001b[0m\u001b[0;34m=\u001b[0m\u001b[0;32mFalse\u001b[0m\u001b[0;34m,\u001b[0m\u001b[0;34m\u001b[0m\u001b[0m\n\u001b[0;32m-> 1483\u001b[0;31m                                     exception_prefix='input')\n\u001b[0m\u001b[1;32m   1484\u001b[0m         y = _standardize_input_data(y, self._feed_output_names,\n\u001b[1;32m   1485\u001b[0m                                     \u001b[0moutput_shapes\u001b[0m\u001b[0;34m,\u001b[0m\u001b[0;34m\u001b[0m\u001b[0m\n",
      "\u001b[0;32m/usr/local/lib/python3.5/dist-packages/keras/engine/training.py\u001b[0m in \u001b[0;36m_standardize_input_data\u001b[0;34m(data, names, shapes, check_batch_axis, exception_prefix)\u001b[0m\n\u001b[1;32m    121\u001b[0m                             \u001b[0;34m': expected '\u001b[0m \u001b[0;34m+\u001b[0m \u001b[0mnames\u001b[0m\u001b[0;34m[\u001b[0m\u001b[0mi\u001b[0m\u001b[0;34m]\u001b[0m \u001b[0;34m+\u001b[0m \u001b[0;34m' to have shape '\u001b[0m \u001b[0;34m+\u001b[0m\u001b[0;34m\u001b[0m\u001b[0m\n\u001b[1;32m    122\u001b[0m                             \u001b[0mstr\u001b[0m\u001b[0;34m(\u001b[0m\u001b[0mshape\u001b[0m\u001b[0;34m)\u001b[0m \u001b[0;34m+\u001b[0m \u001b[0;34m' but got array with shape '\u001b[0m \u001b[0;34m+\u001b[0m\u001b[0;34m\u001b[0m\u001b[0m\n\u001b[0;32m--> 123\u001b[0;31m                             str(data_shape))\n\u001b[0m\u001b[1;32m    124\u001b[0m     \u001b[0;32mreturn\u001b[0m \u001b[0mdata\u001b[0m\u001b[0;34m\u001b[0m\u001b[0m\n\u001b[1;32m    125\u001b[0m \u001b[0;34m\u001b[0m\u001b[0m\n",
      "\u001b[0;31mValueError\u001b[0m: Error when checking input: expected dropout_1_input to have shape (30, 2048) but got array with shape (50, 2048)"
     ]
    }
   ],
   "source": [
    "sgd = optimizers.SGD(momentum=0.9, lr=0.0005)\n",
    "\n",
    "model.compile(optimizer=sgd, loss='categorical_crossentropy', \n",
    "              metrics=['accuracy', top_3_k_categorical_accuracy])\n",
    "\n",
    "history = model.fit(X_train, Y_train, validation_data=(X_valid, Y_valid), \n",
    "          batch_size=64, epochs=50, callbacks=[reduce_lr])"
   ]
  },
  {
   "cell_type": "code",
   "execution_count": null,
   "metadata": {},
   "outputs": [],
   "source": [
    "np.set_printoptions(threshold=np.nan)\n",
    "Y_predict = model.predict(X_valid)\n",
    "class_predict = np.argmax(Y_predict, axis=1)\n",
    "print(class_predict)"
   ]
  },
  {
   "cell_type": "code",
   "execution_count": null,
   "metadata": {},
   "outputs": [],
   "source": [
    "class_true = np.argmax(Y_valid, axis=1)\n",
    "print(class_true)"
   ]
  },
  {
   "cell_type": "code",
   "execution_count": null,
   "metadata": {
    "scrolled": true
   },
   "outputs": [],
   "source": [
    "for idx in range(len(class_true)):\n",
    "    if class_true[idx] != class_predict[idx]:\n",
    "        print(idx, 'true:', class_true[idx], '  predict:', class_predict[idx], '  prop_true:', Y_predict[idx][class_true[idx]])\n",
    "        print(Y_predict[idx])\n",
    "        print()"
   ]
  },
  {
   "cell_type": "code",
   "execution_count": null,
   "metadata": {},
   "outputs": [],
   "source": [
    "from count_num_frames_on_dataset import get_number_frames_from_video\n",
    "from inception_generators import get_dataset_split_structure, get_class_to_idx_dict\n",
    "\n",
    "def dataset_loader_with_frames(dataset_dir, split_key):\n",
    "    \n",
    "    base_dir = join(dataset_dir, split_key)\n",
    "    \n",
    "    dataset_structure = get_dataset_split_structure(base_dir)\n",
    "    all_classes = dataset_structure.keys()\n",
    "    class_to_idx_dict = get_class_to_idx_dict(all_classes)\n",
    "        \n",
    "    for cl in all_classes:\n",
    "\n",
    "        class_idx = class_to_idx_dict[cl]\n",
    "\n",
    "        for video in dataset_structure[cl]:\n",
    "            \n",
    "            # ex: video == v_shooting_22_05.npy   or  video == v_walk_dog_10_01.npy\n",
    "            \n",
    "            video_subfolder = video[:video.rfind('_')]\n",
    "            video_mpg = video[:-3] + 'mpg'\n",
    "            \n",
    "            original_video = join('datasets', dataset, 'video', cl, video_subfolder, video_mpg)\n",
    "            number_frames = get_number_frames_from_video(original_video)\n",
    "\n",
    "            inception_features = np.load(join(base_dir, cl, video))\n",
    "\n",
    "            yield inception_features, class_idx, number_frames, video[:-3]\n",
    "                \n",
    "\n",
    "def load_whole_dataset_with_frames(dataset_dir, split_key):\n",
    "        \n",
    "    data = list(dataset_loader_with_frames(dataset_dir, split_key))\n",
    "    X, Y, frames, filenames = map(np.array, zip(*data))\n",
    "\n",
    "    yield X, to_categorical(Y), frames, filenames"
   ]
  },
  {
   "cell_type": "code",
   "execution_count": null,
   "metadata": {},
   "outputs": [],
   "source": [
    "d = list(load_whole_dataset_with_frames(dataset_dir, 'valid'))"
   ]
  },
  {
   "cell_type": "code",
   "execution_count": null,
   "metadata": {},
   "outputs": [],
   "source": [
    "X_valid_2, Y_valid_2, frames, filenames = zip(*d)"
   ]
  },
  {
   "cell_type": "code",
   "execution_count": null,
   "metadata": {},
   "outputs": [],
   "source": [
    "X_valid_2, Y_valid_2, frames, filenames = X_valid_2[0], Y_valid_2[0], frames[0], filenames[0]"
   ]
  },
  {
   "cell_type": "code",
   "execution_count": null,
   "metadata": {},
   "outputs": [],
   "source": [
    "Y_predict = model.predict(X_valid_2)\n",
    "class_predict = np.argmax(Y_predict, axis=1)\n",
    "print(class_predict)"
   ]
  },
  {
   "cell_type": "code",
   "execution_count": null,
   "metadata": {},
   "outputs": [],
   "source": [
    "class_true = np.argmax(Y_valid_2, axis=1)\n",
    "print(class_true)"
   ]
  },
  {
   "cell_type": "code",
   "execution_count": null,
   "metadata": {
    "scrolled": false
   },
   "outputs": [],
   "source": [
    "frames_incorrect = []\n",
    "class_incorrect = []\n",
    "\n",
    "for idx in range(len(class_true)):\n",
    "    if class_true[idx] != class_predict[idx]:\n",
    "        print(idx, 'true:', class_true[idx], '  predict:', class_predict[idx], '  prop_true:', Y_predict[idx][class_true[idx]])\n",
    "        print('num_frames:', frames[idx], 'filename:', filenames[idx])\n",
    "        print(Y_predict[idx])\n",
    "        print()\n",
    "        frames_incorrect.append(frames[idx])\n",
    "        class_incorrect.append(class_true[idx])"
   ]
  },
  {
   "cell_type": "code",
   "execution_count": null,
   "metadata": {
    "scrolled": true
   },
   "outputs": [],
   "source": [
    "class_train = np.argmax(Y_train, axis=1)"
   ]
  },
  {
   "cell_type": "code",
   "execution_count": null,
   "metadata": {},
   "outputs": [],
   "source": [
    "from collections import Counter\n",
    "\n",
    "Counter(class_train)"
   ]
  },
  {
   "cell_type": "code",
   "execution_count": null,
   "metadata": {},
   "outputs": [],
   "source": [
    "import matplotlib.pyplot as plt\n",
    "\n",
    "plt.figure(figsize=(10, 6))\n",
    "\n",
    "\n",
    "plt.subplot(121)\n",
    "plt.title('Number of frames inside validation set')\n",
    "plt.hist(frames)\n",
    "\n",
    "\n",
    "plt.subplot(122)\n",
    "plt.title('Number of frames of incorrect predicted validation videos')\n",
    "plt.hist(frames_incorrect)"
   ]
  },
  {
   "cell_type": "code",
   "execution_count": null,
   "metadata": {},
   "outputs": [],
   "source": [
    "plt.figure(figsize=(10, 6))\n",
    "\n",
    "plt.subplot(121)\n",
    "plt.hist(np.argmax(Y_valid, axis=1))\n",
    "\n",
    "plt.subplot(122)\n",
    "plt.hist(class_incorrect)"
   ]
  },
  {
   "cell_type": "code",
   "execution_count": null,
   "metadata": {},
   "outputs": [],
   "source": [
    "plt.hist(np.argmax(Y_train, axis=1))"
   ]
  },
  {
   "cell_type": "code",
   "execution_count": null,
   "metadata": {},
   "outputs": [],
   "source": [
    "d = list(load_whole_dataset_with_frames(dataset_dir, 'train'))"
   ]
  },
  {
   "cell_type": "code",
   "execution_count": null,
   "metadata": {},
   "outputs": [],
   "source": [
    "X_train_2, Y_train_2, frames_train, filenames_train = zip(*d)"
   ]
  },
  {
   "cell_type": "code",
   "execution_count": null,
   "metadata": {},
   "outputs": [],
   "source": [
    "plt.hist(frames_train[0][frames_train[0] < 600])"
   ]
  },
  {
   "cell_type": "code",
   "execution_count": null,
   "metadata": {},
   "outputs": [],
   "source": [
    "frames_0 = X_train[0]\n",
    "frames_2 = X_train[1]\n",
    "frames_1 = X_train[-1]"
   ]
  },
  {
   "cell_type": "code",
   "execution_count": null,
   "metadata": {},
   "outputs": [],
   "source": [
    "np.sum(np.std(frames_0[0:50], axis=0))"
   ]
  },
  {
   "cell_type": "code",
   "execution_count": null,
   "metadata": {},
   "outputs": [],
   "source": [
    "np.sum(np.std(np.concatenate([frames_2[0:25], frames_1[:25]]), axis=0))"
   ]
  },
  {
   "cell_type": "code",
   "execution_count": null,
   "metadata": {},
   "outputs": [],
   "source": [
    "np.sum(np.std(np.concatenate([frames_0[0:25], frames_2[:25]]), axis=0))"
   ]
  },
  {
   "cell_type": "code",
   "execution_count": null,
   "metadata": {},
   "outputs": [],
   "source": []
  }
 ],
 "metadata": {
  "kernelspec": {
   "display_name": "Python 3",
   "language": "python",
   "name": "python3"
  },
  "language_info": {
   "codemirror_mode": {
    "name": "ipython",
    "version": 3
   },
   "file_extension": ".py",
   "mimetype": "text/x-python",
   "name": "python",
   "nbconvert_exporter": "python",
   "pygments_lexer": "ipython3",
   "version": "3.5.2"
  }
 },
 "nbformat": 4,
 "nbformat_minor": 2
}
