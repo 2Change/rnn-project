{
 "cells": [
  {
   "cell_type": "markdown",
   "metadata": {},
   "source": [
    "# Train on separate images (CNN-Only) on InceptionV3 output"
   ]
  },
  {
   "cell_type": "code",
   "execution_count": 1,
   "metadata": {},
   "outputs": [
    {
     "name": "stderr",
     "output_type": "stream",
     "text": [
      "/usr/local/lib/python3.5/dist-packages/h5py/__init__.py:36: FutureWarning: Conversion of the second argument of issubdtype from `float` to `np.floating` is deprecated. In future, it will be treated as `np.float64 == np.dtype(float).type`.\n",
      "  from ._conv import register_converters as _register_converters\n",
      "Using TensorFlow backend.\n"
     ]
    }
   ],
   "source": [
    "import numpy as np\n",
    "import os\n",
    "from os.path import join\n",
    "from keras import layers\n",
    "from keras.models import Model\n",
    "from utils import preprocess_images_tf, take\n",
    "from tqdm import tqdm\n",
    "\n",
    "from image_generators import train_generator_single_images, valid_generator_single_images"
   ]
  },
  {
   "cell_type": "code",
   "execution_count": 2,
   "metadata": {},
   "outputs": [],
   "source": [
    "#from keras_utils import set_keras_session\n",
    "#set_keras_session()"
   ]
  },
  {
   "cell_type": "code",
   "execution_count": 3,
   "metadata": {},
   "outputs": [],
   "source": [
    "dataset = 'UCF11'\n",
    "nb_classes = int(dataset[3:])"
   ]
  },
  {
   "cell_type": "code",
   "execution_count": null,
   "metadata": {},
   "outputs": [],
   "source": [
    "def count_num_videos(dataset_dir, *split_keys):\n",
    "    for split_key in split_kyes:\n",
    "        yield sum(len(os.listdir(join(dataset_dir, split_key, cl))) for cl in os.listdir(join(dataset_dir, split_key)))"
   ]
  },
  {
   "cell_type": "code",
   "execution_count": 4,
   "metadata": {},
   "outputs": [],
   "source": [
    "frame_number = 50\n",
    "width = 320\n",
    "height = 240\n",
    "\n",
    "dataset_dir = join('datasets', dataset, ('separate_frames_{}_h_{}_w_{}').format(frame_number, height, width))\n",
    "\n",
    "train_samples_count, valid_samples_count = count_num_videos(dataset_dir, 'train', 'valid')"
   ]
  },
  {
   "cell_type": "raw",
   "metadata": {},
   "source": [
    "input_layer = layers.Input(inception_shape)\n",
    "x = input_layer\n",
    "x = layers.Flatten()(x)\n",
    "x = layers.Dense(256, activation='relu')(x)\n",
    "x = layers.Dropout(0.5)(x)\n",
    "x = layers.Dense(nb_classes, activation='softmax')(x)\n",
    "\n",
    "# this is the model we will train\n",
    "model = Model(inputs=input_layer, outputs=x)\n",
    "print(model.summary())"
   ]
  },
  {
   "cell_type": "code",
   "execution_count": 5,
   "metadata": {},
   "outputs": [],
   "source": [
    "from keras.applications.inception_v3 import InceptionV3\n",
    "from keras.models import Model\n",
    "from keras import backend as K\n",
    "\n",
    "# create the base pre-trained model\n",
    "base_model = InceptionV3(weights='imagenet', include_top=False)\n",
    "\n",
    "# add a global spatial average pooling layer\n",
    "x = base_model.output\n",
    "x = layers.GlobalAveragePooling2D()(x)\n",
    "# let's add a fully-connected layer\n",
    "x = layers.Dense(256, activation='relu')(x)\n",
    "x = layers.Dropout(0.5)(x)\n",
    "# and a logistic layer -- let's say we have 200 classes\n",
    "predictions = layers.Dense(nb_classes, activation='softmax')(x)\n",
    "\n",
    "# this is the model we will train\n",
    "model = Model(inputs=base_model.input, outputs=predictions)"
   ]
  },
  {
   "cell_type": "code",
   "execution_count": 14,
   "metadata": {},
   "outputs": [],
   "source": [
    "# first: train only the top layers (which were randomly initialized)\n",
    "# i.e. freeze all convolutional InceptionV3 layers\n",
    "for layer in base_model.layers:\n",
    "    layer.trainable = False"
   ]
  },
  {
   "cell_type": "code",
   "execution_count": 6,
   "metadata": {},
   "outputs": [],
   "source": [
    "from keras import metrics\n",
    "from functools import partial\n",
    "\n",
    "top_3_k_categorical_accuracy = partial(metrics.top_k_categorical_accuracy, k=3)\n",
    "top_3_k_categorical_accuracy.__name__ = 'top_3'\n",
    "\n",
    "model.compile(optimizer='adam', loss='categorical_crossentropy', \n",
    "              metrics=['accuracy', top_3_k_categorical_accuracy])"
   ]
  },
  {
   "cell_type": "code",
   "execution_count": 7,
   "metadata": {},
   "outputs": [
    {
     "name": "stdout",
     "output_type": "stream",
     "text": [
      "Epoch 1/1\n",
      "439/439 [==============================] - 310s 706ms/step - loss: 0.6275 - acc: 0.8050 - top_3: 0.9381 - val_loss: 1.3130 - val_acc: 0.6645 - val_top_3: 0.8807\n"
     ]
    }
   ],
   "source": [
    "batch_size = 128\n",
    "train_generator = train_generator_single_images(dataset_dir, batch_size)\n",
    "valid_generator = valid_generator_single_images(dataset_dir)\n",
    "\n",
    "history = model.fit_generator(train_generator,\n",
    "                    steps_per_epoch=train_samples_count * frame_number // batch_size, \n",
    "                    validation_data=valid_generator,\n",
    "                    validation_steps=valid_samples_count,\n",
    "                    epochs=1)"
   ]
  },
  {
   "cell_type": "markdown",
   "metadata": {},
   "source": [
    "Here we collect metrics about the accuracy on the video, since the model only works with single images:\n",
    "* Approach 1: Compute the mean of all predictions on all frames of a video, then take the best prediction.\n",
    "* Approach 2: Take the predicted best for each frame (argmax), and count how many times that class is predicted as the best one into the video frames. Then take the class with the highest count.\n",
    "* Approach 3 (not implemented but tested): instead of the mean, compute the product (since we work with probabilities). Yields a lower result than using the mean."
   ]
  },
  {
   "cell_type": "code",
   "execution_count": 10,
   "metadata": {},
   "outputs": [
    {
     "name": "stderr",
     "output_type": "stream",
     "text": [
      "100%|██████████| 469/469 [03:18<00:00,  2.37it/s]\n"
     ]
    }
   ],
   "source": [
    "from collections import Counter\n",
    "\n",
    "count_videos = 0\n",
    "count_top_1 = 0\n",
    "count_top_3 = 0\n",
    "count_top_1_argmax = 0\n",
    "\n",
    "for frames, labels in tqdm(take(valid_generator, valid_samples_count), total=valid_samples_count):\n",
    "    \n",
    "    ### Compute the predicted labels using the model\n",
    "    \n",
    "    true_labels = labels[0]\n",
    "    true_label_idx = np.argmax(true_labels)\n",
    "    predicted_labels = model.predict(frames)\n",
    "    \n",
    "    ### Update counters with Approach 1 (mean)\n",
    "    \n",
    "    predicted_labels_mean = np.mean(predicted_labels, axis=0)\n",
    "    predicted_labels_mean_idx = np.argmax(predicted_labels_mean)\n",
    "    idx_sorted_top_3 = np.argsort(predicted_labels_mean)[-3:]\n",
    "    \n",
    "    if true_label_idx in idx_sorted_top_3:\n",
    "        count_top_3 += 1\n",
    "        \n",
    "    if true_label_idx == predicted_labels_mean_idx:\n",
    "        count_top_1 += 1\n",
    "        \n",
    "    ### Update count with Approach 2 (highest count)\n",
    "    \n",
    "    predicted_labels_argmax = np.argmax(predicted_labels, axis=1)\n",
    "    counter = Counter(predicted_labels_argmax)\n",
    "    \n",
    "    if counter.most_common(1)[0][0] == true_label_idx:\n",
    "        count_top_1_argmax += 1\n",
    "        \n",
    "    ### Update number of videos\n",
    "        \n",
    "    count_videos += 1"
   ]
  },
  {
   "cell_type": "code",
   "execution_count": 11,
   "metadata": {},
   "outputs": [
    {
     "name": "stdout",
     "output_type": "stream",
     "text": [
      "Top 1 accuracy (using mean): 0.7292110874200426\n",
      "Top 3 accuracy (using mean): 0.9125799573560768\n",
      "Top 1 accuracy (using highest count): 0.7228144989339019\n"
     ]
    }
   ],
   "source": [
    "print('Top 1 accuracy (using mean):', count_top_1 / count_videos)\n",
    "print('Top 3 accuracy (using mean):', count_top_3 / count_videos)\n",
    "print('Top 1 accuracy (using highest count):', count_top_1_argmax / count_videos)"
   ]
  },
  {
   "cell_type": "code",
   "execution_count": 13,
   "metadata": {},
   "outputs": [],
   "source": [
    "model.save('models/UCF11/inception_dense256_dropout05_trained_1_epoch_no_fine_tuning.h5')"
   ]
  },
  {
   "cell_type": "code",
   "execution_count": 24,
   "metadata": {},
   "outputs": [],
   "source": [
    "from keras.optimizers import SGD\n",
    "\n",
    "\"\"\"After we fine-tune the dense layers, train deeper.\"\"\"\n",
    "# we chose to train the top 2 inception blocks, i.e. we will freeze\n",
    "# the first 172 layers and unfreeze the rest:\n",
    "for layer in model.layers[:172]:\n",
    "    layer.trainable = False\n",
    "for layer in model.layers[172:]:\n",
    "    layer.trainable = True\n",
    "\n",
    "# we need to recompile the model for these modifications to take effect\n",
    "# we use SGD with a low learning rate\n",
    "model.compile(\n",
    "    optimizer=SGD(lr=0.0001, momentum=0.9),\n",
    "    loss='categorical_crossentropy',\n",
    "    metrics=['accuracy', top_3_k_categorical_accuracy])"
   ]
  },
  {
   "cell_type": "code",
   "execution_count": 17,
   "metadata": {},
   "outputs": [
    {
     "name": "stdout",
     "output_type": "stream",
     "text": [
      "Epoch 1/20\n",
      "439/439 [==============================] - 379s 863ms/step - loss: 0.2201 - acc: 0.9376 - top_3: 0.9905 - val_loss: 0.8348 - val_acc: 0.7324 - val_top_3: 0.9162\n",
      "Epoch 2/20\n",
      "439/439 [==============================] - 375s 854ms/step - loss: 0.1241 - acc: 0.9682 - top_3: 0.9967 - val_loss: 0.7965 - val_acc: 0.7455 - val_top_3: 0.9222\n",
      "Epoch 3/20\n",
      "439/439 [==============================] - 374s 853ms/step - loss: 0.0898 - acc: 0.9779 - top_3: 0.9978 - val_loss: 0.7836 - val_acc: 0.7521 - val_top_3: 0.9240\n",
      "Epoch 4/20\n",
      "439/439 [==============================] - 374s 851ms/step - loss: 0.0673 - acc: 0.9847 - top_3: 0.9983 - val_loss: 0.7686 - val_acc: 0.7574 - val_top_3: 0.9282\n",
      "Epoch 5/20\n",
      "439/439 [==============================] - 374s 852ms/step - loss: 0.0544 - acc: 0.9882 - top_3: 0.9990 - val_loss: 0.7542 - val_acc: 0.7635 - val_top_3: 0.9302\n",
      "Epoch 6/20\n",
      "439/439 [==============================] - 374s 851ms/step - loss: 0.0463 - acc: 0.9899 - top_3: 0.9991 - val_loss: 0.7512 - val_acc: 0.7678 - val_top_3: 0.9304\n",
      "Epoch 7/20\n",
      "439/439 [==============================] - 373s 850ms/step - loss: 0.0384 - acc: 0.9922 - top_3: 0.9994 - val_loss: 0.7433 - val_acc: 0.7717 - val_top_3: 0.9321\n",
      "Epoch 8/20\n",
      "439/439 [==============================] - 373s 850ms/step - loss: 0.0325 - acc: 0.9939 - top_3: 0.9995 - val_loss: 0.7402 - val_acc: 0.7746 - val_top_3: 0.9328\n",
      "Epoch 9/20\n",
      "439/439 [==============================] - 374s 852ms/step - loss: 0.0291 - acc: 0.9943 - top_3: 0.9997 - val_loss: 0.7324 - val_acc: 0.7769 - val_top_3: 0.9347\n",
      "Epoch 10/20\n",
      "439/439 [==============================] - 373s 850ms/step - loss: 0.0262 - acc: 0.9950 - top_3: 0.9996 - val_loss: 0.7338 - val_acc: 0.7797 - val_top_3: 0.9351\n",
      "Epoch 11/20\n",
      "439/439 [==============================] - 373s 850ms/step - loss: 0.0233 - acc: 0.9957 - top_3: 0.9997 - val_loss: 0.7277 - val_acc: 0.7820 - val_top_3: 0.9361\n",
      "Epoch 12/20\n",
      "439/439 [==============================] - 373s 850ms/step - loss: 0.0209 - acc: 0.9962 - top_3: 0.9998 - val_loss: 0.7262 - val_acc: 0.7825 - val_top_3: 0.9364\n",
      "Epoch 13/20\n",
      "439/439 [==============================] - 373s 850ms/step - loss: 0.0180 - acc: 0.9971 - top_3: 0.9998 - val_loss: 0.7274 - val_acc: 0.7835 - val_top_3: 0.9366\n",
      "Epoch 14/20\n",
      "439/439 [==============================] - 374s 853ms/step - loss: 0.0180 - acc: 0.9970 - top_3: 0.9998 - val_loss: 0.7247 - val_acc: 0.7852 - val_top_3: 0.9370\n",
      "Epoch 15/20\n",
      "439/439 [==============================] - 373s 850ms/step - loss: 0.0163 - acc: 0.9973 - top_3: 0.9998 - val_loss: 0.7224 - val_acc: 0.7866 - val_top_3: 0.9371\n",
      "Epoch 16/20\n",
      "439/439 [==============================] - 374s 853ms/step - loss: 0.0148 - acc: 0.9976 - top_3: 0.9999 - val_loss: 0.7223 - val_acc: 0.7880 - val_top_3: 0.9382\n",
      "Epoch 17/20\n",
      "439/439 [==============================] - 372s 848ms/step - loss: 0.0133 - acc: 0.9978 - top_3: 0.9999 - val_loss: 0.7251 - val_acc: 0.7882 - val_top_3: 0.9376\n",
      "Epoch 18/20\n",
      "439/439 [==============================] - 373s 850ms/step - loss: 0.0126 - acc: 0.9982 - top_3: 0.9999 - val_loss: 0.7209 - val_acc: 0.7897 - val_top_3: 0.9388\n",
      "Epoch 19/20\n",
      "439/439 [==============================] - 373s 850ms/step - loss: 0.0115 - acc: 0.9984 - top_3: 0.9999 - val_loss: 0.7228 - val_acc: 0.7898 - val_top_3: 0.9386\n",
      "Epoch 20/20\n",
      "439/439 [==============================] - 373s 849ms/step - loss: 0.0112 - acc: 0.9984 - top_3: 0.9999 - val_loss: 0.7157 - val_acc: 0.7921 - val_top_3: 0.9401\n"
     ]
    }
   ],
   "source": [
    "history = model.fit_generator(train_generator,\n",
    "                    steps_per_epoch=train_samples_count * frame_number // batch_size, \n",
    "                    validation_data=valid_generator,\n",
    "                    validation_steps=valid_samples_count,\n",
    "                    epochs=20)"
   ]
  },
  {
   "cell_type": "code",
   "execution_count": 21,
   "metadata": {},
   "outputs": [
    {
     "data": {
      "image/png": "[encoded data removed]",
      "text/plain": [
       "<matplotlib.figure.Figure at 0x7fc3dd383d30>"
      ]
     },
     "metadata": {},
     "output_type": "display_data"
    }
   ],
   "source": [
    "%matplotlib inline\n",
    "import matplotlib.pyplot as plt\n",
    "\n",
    "plt.figure(figsize=(12, 8))\n",
    "plt.plot(history.history['acc'])\n",
    "plt.plot(history.history['val_acc'])\n",
    "plt.title('model accuracy')\n",
    "plt.ylabel('accuracy')\n",
    "plt.xlabel('epoch')\n",
    "plt.legend(['train', 'test'], loc='upper left')\n",
    "plt.show()"
   ]
  },
  {
   "cell_type": "code",
   "execution_count": 29,
   "metadata": {},
   "outputs": [],
   "source": [
    "from keras.models import load_model\n",
    "\n",
    "model = load_model('models/UCF11/inception_dense256_dropout05_trained_1_epoch_sgd_fine_tuning_20_epochs.h5', \n",
    "                   custom_objects={'top_3': top_3_k_categorical_accuracy})"
   ]
  },
  {
   "cell_type": "code",
   "execution_count": 30,
   "metadata": {},
   "outputs": [
    {
     "name": "stdout",
     "output_type": "stream",
     "text": [
      "Epoch 1/1\n",
      "439/439 [==============================] - 373s 850ms/step - loss: 0.0114 - acc: 0.9982 - top_3: 0.9999 - val_loss: 0.7196 - val_acc: 0.7922 - val_top_3: 0.9400\n"
     ]
    }
   ],
   "source": [
    "history = model.fit_generator(train_generator,\n",
    "                    steps_per_epoch=train_samples_count * frame_number // batch_size, \n",
    "                    validation_data=valid_generator,\n",
    "                    validation_steps=valid_samples_count,\n",
    "                    epochs=1)"
   ]
  },
  {
   "cell_type": "code",
   "execution_count": 31,
   "metadata": {},
   "outputs": [
    {
     "name": "stderr",
     "output_type": "stream",
     "text": [
      "100%|██████████| 469/469 [03:02<00:00,  2.57it/s]\n"
     ]
    }
   ],
   "source": [
    "from collections import Counter\n",
    "\n",
    "count_videos = 0\n",
    "count_top_1 = 0\n",
    "count_top_3 = 0\n",
    "count_top_1_argmax = 0\n",
    "\n",
    "for frames, labels in tqdm(take(valid_generator, valid_samples_count), total=valid_samples_count):\n",
    "    \n",
    "    ### Compute the predicted labels using the model\n",
    "    \n",
    "    true_labels = labels[0]\n",
    "    true_label_idx = np.argmax(true_labels)\n",
    "    predicted_labels = model.predict(frames)\n",
    "    \n",
    "    ### Update counters with Approach 1 (mean)\n",
    "    \n",
    "    predicted_labels_mean = np.mean(predicted_labels, axis=0)\n",
    "    predicted_labels_mean_idx = np.argmax(predicted_labels_mean)\n",
    "    idx_sorted_top_3 = np.argsort(predicted_labels_mean)[-3:]\n",
    "    \n",
    "    if true_label_idx in idx_sorted_top_3:\n",
    "        count_top_3 += 1\n",
    "        \n",
    "    if true_label_idx == predicted_labels_mean_idx:\n",
    "        count_top_1 += 1\n",
    "        \n",
    "    ### Update count with Approach 2 (highest count)\n",
    "    \n",
    "    predicted_labels_argmax = np.argmax(predicted_labels, axis=1)\n",
    "    counter = Counter(predicted_labels_argmax)\n",
    "    \n",
    "    if counter.most_common(1)[0][0] == true_label_idx:\n",
    "        count_top_1_argmax += 1\n",
    "        \n",
    "    ### Update number of videos\n",
    "        \n",
    "    count_videos += 1"
   ]
  },
  {
   "cell_type": "code",
   "execution_count": 32,
   "metadata": {},
   "outputs": [
    {
     "name": "stdout",
     "output_type": "stream",
     "text": [
      "Top 1 accuracy (using mean): 0.8443496801705757\n",
      "Top 3 accuracy (using mean): 0.9722814498933902\n",
      "Top 1 accuracy (using highest count): 0.835820895522388\n"
     ]
    }
   ],
   "source": [
    "print('Top 1 accuracy (using mean):', count_top_1 / count_videos)\n",
    "print('Top 3 accuracy (using mean):', count_top_3 / count_videos)\n",
    "print('Top 1 accuracy (using highest count):', count_top_1_argmax / count_videos)"
   ]
  }
 ],
 "metadata": {
  "kernelspec": {
   "display_name": "Python 3",
   "language": "python",
   "name": "python3"
  },
  "language_info": {
   "codemirror_mode": {
    "name": "ipython",
    "version": 3
   },
   "file_extension": ".py",
   "mimetype": "text/x-python",
   "name": "python",
   "nbconvert_exporter": "python",
   "pygments_lexer": "ipython3",
   "version": "3.5.2"
  }
 },
 "nbformat": 4,
 "nbformat_minor": 2
}
