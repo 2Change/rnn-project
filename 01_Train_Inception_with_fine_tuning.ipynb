{
 "cells": [
  {
   "cell_type": "markdown",
   "metadata": {},
   "source": [
    "# Train on separate images (CNN-Only) on InceptionV3 output"
   ]
  },
  {
   "cell_type": "code",
   "execution_count": 1,
   "metadata": {},
   "outputs": [
    {
     "name": "stderr",
     "output_type": "stream",
     "text": [
      "/usr/local/lib/python3.5/dist-packages/h5py/__init__.py:36: FutureWarning: Conversion of the second argument of issubdtype from `float` to `np.floating` is deprecated. In future, it will be treated as `np.float64 == np.dtype(float).type`.\n",
      "  from ._conv import register_converters as _register_converters\n",
      "Using TensorFlow backend.\n"
     ]
    }
   ],
   "source": [
    "import numpy as np\n",
    "import os\n",
    "from os.path import join\n",
    "from keras import layers, callbacks, metrics\n",
    "from keras.models import Model\n",
    "from utils import preprocess_images_tf, take\n",
    "from tqdm import tqdm\n",
    "from image_generators import count_num_videos\n",
    "from inception_generators import train_generator_single_images, valid_generator_single_images"
   ]
  },
  {
   "cell_type": "code",
   "execution_count": 2,
   "metadata": {},
   "outputs": [],
   "source": [
    "from keras_utils import set_keras_session\n",
    "set_keras_session(0.45)"
   ]
  },
  {
   "cell_type": "code",
   "execution_count": 3,
   "metadata": {},
   "outputs": [],
   "source": [
    "dataset = 'UCF11'\n",
    "nb_classes = int(dataset[3:])"
   ]
  },
  {
   "cell_type": "code",
   "execution_count": 4,
   "metadata": {},
   "outputs": [],
   "source": [
    "frame_number = 50\n",
    "width = 320\n",
    "height = 240\n",
    "\n",
    "dataset_dir = join('datasets', dataset, ('separate_frames_{}_h_{}_w_{}_inception').format(frame_number, height, width))\n",
    "\n",
    "train_samples_count, valid_samples_count = count_num_videos(dataset_dir, 'train', 'valid')"
   ]
  },
  {
   "cell_type": "code",
   "execution_count": 5,
   "metadata": {},
   "outputs": [],
   "source": [
    "from functools import partial\n",
    "\n",
    "top_3_k_categorical_accuracy = partial(metrics.top_k_categorical_accuracy, k=3)\n",
    "top_3_k_categorical_accuracy.__name__ = 'top_3'"
   ]
  },
  {
   "cell_type": "raw",
   "metadata": {},
   "source": [
    "input_layer = layers.Input(inception_shape)\n",
    "x = input_layer\n",
    "x = layers.Flatten()(x)\n",
    "x = layers.Dense(256, activation='relu')(x)\n",
    "x = layers.Dropout(0.5)(x)\n",
    "x = layers.Dense(nb_classes, activation='softmax')(x)\n",
    "\n",
    "# this is the model we will train\n",
    "model = Model(inputs=input_layer, outputs=x)\n",
    "print(model.summary())"
   ]
  },
  {
   "cell_type": "raw",
   "metadata": {},
   "source": [
    "from keras.applications.inception_v3 import InceptionV3\n",
    "from keras.models import Model\n",
    "\n",
    "# create the base pre-trained model\n",
    "base_model = InceptionV3(weights='imagenet', include_top=False)\n",
    "\n",
    "# add a global spatial average pooling layer\n",
    "x = base_model.output\n",
    "x = layers.GlobalAveragePooling2D()(x)\n",
    "# let's add a fully-connected layer\n",
    "x = layers.Dense(256, activation='relu')(x)\n",
    "x = layers.Dropout(0.5)(x)\n",
    "# and a logistic layer -- let's say we have 200 classes\n",
    "predictions = layers.Dense(nb_classes, activation='softmax')(x)\n",
    "\n",
    "# this is the model we will train\n",
    "model = Model(inputs=base_model.input, outputs=predictions)"
   ]
  },
  {
   "cell_type": "code",
   "execution_count": 6,
   "metadata": {},
   "outputs": [
    {
     "name": "stdout",
     "output_type": "stream",
     "text": [
      "_________________________________________________________________\n",
      "Layer (type)                 Output Shape              Param #   \n",
      "=================================================================\n",
      "input_1 (InputLayer)         (None, 2048)              0         \n",
      "_________________________________________________________________\n",
      "dense_1 (Dense)              (None, 512)               1049088   \n",
      "_________________________________________________________________\n",
      "dropout_1 (Dropout)          (None, 512)               0         \n",
      "_________________________________________________________________\n",
      "dense_2 (Dense)              (None, 11)                5643      \n",
      "=================================================================\n",
      "Total params: 1,054,731\n",
      "Trainable params: 1,054,731\n",
      "Non-trainable params: 0\n",
      "_________________________________________________________________\n",
      "None\n"
     ]
    }
   ],
   "source": [
    "from keras.models import Model\n",
    "\n",
    "input_layer = layers.Input((2048,))\n",
    "x = input_layer\n",
    "x = layers.Dense(512, activation='relu')(x)\n",
    "x = layers.Dropout(0.5)(x)\n",
    "predictions = layers.Dense(nb_classes, activation='softmax')(x)\n",
    "\n",
    "# this is the model we will train\n",
    "model = Model(input_layer, outputs=predictions)\n",
    "print(model.summary())"
   ]
  },
  {
   "cell_type": "code",
   "execution_count": 7,
   "metadata": {},
   "outputs": [],
   "source": [
    "from keras.optimizers import SGD\n",
    "\n",
    "model.compile(optimizer=SGD(momentum=0.9, nesterov=True), loss='categorical_crossentropy', \n",
    "              metrics=['accuracy', top_3_k_categorical_accuracy])\n",
    "\n",
    "model_filepath = join('models', dataset, 'inception_dense512_dropout05_trained_10_epochs_no_fine_tuning.h5')\n",
    "checkpointer = callbacks.ModelCheckpoint(filepath=model_filepath, monitor='val_acc', verbose=1, save_best_only=True)\n",
    "early_stopper = callbacks.EarlyStopping(monitor='val_acc', patience=3)"
   ]
  },
  {
   "cell_type": "code",
   "execution_count": 8,
   "metadata": {},
   "outputs": [],
   "source": [
    "batch_size = 128\n",
    "train_generator = train_generator_single_images(dataset_dir, batch_size)\n",
    "valid_generator = valid_generator_single_images(dataset_dir)"
   ]
  },
  {
   "cell_type": "code",
   "execution_count": 9,
   "metadata": {},
   "outputs": [],
   "source": [
    "def train_model(**kwargs):\n",
    "    \n",
    "    return model.fit_generator(train_generator,\n",
    "                    steps_per_epoch=train_samples_count * frame_number // batch_size, \n",
    "                    validation_data=valid_generator,\n",
    "                    validation_steps=valid_samples_count,\n",
    "                    **kwargs)"
   ]
  },
  {
   "cell_type": "code",
   "execution_count": 10,
   "metadata": {},
   "outputs": [
    {
     "name": "stdout",
     "output_type": "stream",
     "text": [
      "Epoch 1/20\n",
      "439/439 [==============================] - 29s 65ms/step - loss: 0.2782 - acc: 0.9156 - top_3: 0.9782 - val_loss: 0.5446 - val_acc: 0.8286 - val_top_3: 0.9611\n",
      "\n",
      "Epoch 00001: val_acc improved from -inf to 0.82857, saving model to models/UCF11/inception_dense512_dropout05_trained_10_epochs_no_fine_tuning.h5\n",
      "Epoch 2/20\n",
      "439/439 [==============================] - 29s 66ms/step - loss: 0.0774 - acc: 0.9780 - top_3: 0.9982 - val_loss: 0.6131 - val_acc: 0.8284 - val_top_3: 0.9538\n",
      "\n",
      "Epoch 00002: val_acc did not improve\n",
      "Epoch 3/20\n",
      "439/439 [==============================] - 29s 66ms/step - loss: 0.0488 - acc: 0.9872 - top_3: 0.9990 - val_loss: 0.6189 - val_acc: 0.8351 - val_top_3: 0.9587\n",
      "\n",
      "Epoch 00003: val_acc improved from 0.82857 to 0.83505, saving model to models/UCF11/inception_dense512_dropout05_trained_10_epochs_no_fine_tuning.h5\n",
      "Epoch 4/20\n",
      "439/439 [==============================] - 29s 67ms/step - loss: 0.0352 - acc: 0.9909 - top_3: 0.9995 - val_loss: 0.6299 - val_acc: 0.8302 - val_top_3: 0.9616\n",
      "\n",
      "Epoch 00004: val_acc did not improve\n",
      "Epoch 5/20\n",
      "439/439 [==============================] - 30s 68ms/step - loss: 0.0273 - acc: 0.9932 - top_3: 0.9996 - val_loss: 0.5869 - val_acc: 0.8410 - val_top_3: 0.9632\n",
      "\n",
      "Epoch 00005: val_acc improved from 0.83505 to 0.84102, saving model to models/UCF11/inception_dense512_dropout05_trained_10_epochs_no_fine_tuning.h5\n",
      "Epoch 6/20\n",
      "439/439 [==============================] - 29s 65ms/step - loss: 0.0232 - acc: 0.9942 - top_3: 0.9997 - val_loss: 0.6120 - val_acc: 0.8374 - val_top_3: 0.9646\n",
      "\n",
      "Epoch 00006: val_acc did not improve\n",
      "Epoch 7/20\n",
      "439/439 [==============================] - 29s 67ms/step - loss: 0.0189 - acc: 0.9952 - top_3: 0.9998 - val_loss: 0.6783 - val_acc: 0.8285 - val_top_3: 0.9578\n",
      "\n",
      "Epoch 00007: val_acc did not improve\n",
      "Epoch 8/20\n",
      "439/439 [==============================] - 30s 69ms/step - loss: 0.0154 - acc: 0.9962 - top_3: 0.9999 - val_loss: 0.6433 - val_acc: 0.8408 - val_top_3: 0.9652\n",
      "\n",
      "Epoch 00008: val_acc did not improve\n"
     ]
    }
   ],
   "source": [
    "history = train_model(epochs=20, callbacks=[checkpointer, early_stopper])"
   ]
  },
  {
   "cell_type": "markdown",
   "metadata": {},
   "source": [
    "Here we collect metrics about the accuracy on the video, since the model only works with single images:\n",
    "* Approach 1: Compute the mean of all predictions on all frames of a video, then take the best prediction.\n",
    "* Approach 2: Take the predicted best for each frame (argmax), and count how many times that class is predicted as the best one into the video frames. Then take the class with the highest count.\n",
    "* Approach 3 (not implemented but tested): instead of the mean, compute the product (since we work with probabilities). Yields a lower result than using the mean."
   ]
  },
  {
   "cell_type": "markdown",
   "metadata": {},
   "source": [
    "Here we load the best model:"
   ]
  },
  {
   "cell_type": "code",
   "execution_count": 13,
   "metadata": {},
   "outputs": [],
   "source": [
    "from keras.models import load_model\n",
    "\n",
    "model = load_model(model_filepath, custom_objects={'top_3': top_3_k_categorical_accuracy})"
   ]
  },
  {
   "cell_type": "code",
   "execution_count": 14,
   "metadata": {},
   "outputs": [],
   "source": [
    "def collect_statistics_on_videos():\n",
    "\n",
    "    from collections import Counter\n",
    "\n",
    "    count_videos = 0\n",
    "    count_top_1 = 0\n",
    "    count_top_3 = 0\n",
    "    count_top_1_argmax = 0\n",
    "\n",
    "    for frames, labels in tqdm(take(valid_generator, valid_samples_count), total=valid_samples_count):\n",
    "\n",
    "        ### Compute the predicted labels using the model\n",
    "\n",
    "        true_labels = labels[0]\n",
    "        true_label_idx = np.argmax(true_labels)\n",
    "        predicted_labels = model.predict(frames)\n",
    "\n",
    "        ### Update counters with Approach 1 (mean)\n",
    "\n",
    "        predicted_labels_mean = np.mean(predicted_labels, axis=0)\n",
    "        predicted_labels_mean_idx = np.argmax(predicted_labels_mean)\n",
    "        idx_sorted_top_3 = np.argsort(predicted_labels_mean)[-3:]\n",
    "\n",
    "        if true_label_idx in idx_sorted_top_3:\n",
    "            count_top_3 += 1\n",
    "\n",
    "        if true_label_idx == predicted_labels_mean_idx:\n",
    "            count_top_1 += 1\n",
    "\n",
    "        ### Update count with Approach 2 (highest count)\n",
    "\n",
    "        predicted_labels_argmax = np.argmax(predicted_labels, axis=1)\n",
    "        counter = Counter(predicted_labels_argmax)\n",
    "\n",
    "        if counter.most_common(1)[0][0] == true_label_idx:\n",
    "            count_top_1_argmax += 1\n",
    "\n",
    "        ### Update number of videos\n",
    "\n",
    "        count_videos += 1\n",
    "        \n",
    "        \n",
    "    print('Top 1 accuracy (using mean):', count_top_1 / count_videos)\n",
    "    print('Top 3 accuracy (using mean):', count_top_3 / count_videos)\n",
    "    print('Top 1 accuracy (using highest count):', count_top_1_argmax / count_videos)"
   ]
  },
  {
   "cell_type": "code",
   "execution_count": 15,
   "metadata": {},
   "outputs": [
    {
     "data": {
      "image/png": "[encoded data removed]",
      "text/plain": [
       "<matplotlib.figure.Figure at 0x7fabb01e5c50>"
      ]
     },
     "metadata": {},
     "output_type": "display_data"
    }
   ],
   "source": [
    "%matplotlib inline\n",
    "import matplotlib.pyplot as plt\n",
    "\n",
    "plt.figure(figsize=(12, 8))\n",
    "plt.plot(history.history['acc'])\n",
    "plt.plot(history.history['val_acc'])\n",
    "plt.title('model accuracy')\n",
    "plt.ylabel('accuracy')\n",
    "plt.xlabel('epoch')\n",
    "plt.legend(['train', 'test'], loc='upper left')\n",
    "plt.show()"
   ]
  },
  {
   "cell_type": "code",
   "execution_count": 16,
   "metadata": {},
   "outputs": [
    {
     "name": "stderr",
     "output_type": "stream",
     "text": [
      "100%|██████████| 469/469 [00:01<00:00, 402.95it/s]"
     ]
    },
    {
     "name": "stdout",
     "output_type": "stream",
     "text": [
      "Top 1 accuracy (using mean): 0.8891257995735607\n",
      "Top 3 accuracy (using mean): 0.9872068230277186\n",
      "Top 1 accuracy (using highest count): 0.8891257995735607\n"
     ]
    },
    {
     "name": "stderr",
     "output_type": "stream",
     "text": [
      "\n"
     ]
    }
   ],
   "source": [
    "collect_statistics_on_videos()"
   ]
  }
 ],
 "metadata": {
  "kernelspec": {
   "display_name": "Python 3",
   "language": "python",
   "name": "python3"
  },
  "language_info": {
   "codemirror_mode": {
    "name": "ipython",
    "version": 3
   },
   "file_extension": ".py",
   "mimetype": "text/x-python",
   "name": "python",
   "nbconvert_exporter": "python",
   "pygments_lexer": "ipython3",
   "version": "3.5.2"
  }
 },
 "nbformat": 4,
 "nbformat_minor": 2
}
